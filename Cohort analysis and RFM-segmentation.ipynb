{
 "cells": [
  {
   "cell_type": "code",
   "execution_count": 74,
   "metadata": {},
   "outputs": [],
   "source": [
    "import pandas as pd\n",
    "import numpy as np\n",
    "%matplotlib inline\n",
    "import matplotlib.pyplot as plt\n",
    "import seaborn as sns\n",
    "import plotly.express as px\n",
    "from datetime import datetime\n",
    "from operator import attrgetter\n",
    "from datetime import timedelta"
   ]
  },
  {
   "cell_type": "code",
   "execution_count": 75,
   "metadata": {},
   "outputs": [],
   "source": [
    "# df1 - olist_customers_datase.csv \n",
    "# df2 - olist_orders_dataset.csv \n",
    "# df3 - olist_order_items_dataset.csv\n",
    "customers_dataset = pd.read_csv('https://getfile.dokpub.com/yandex/get/https://disk.yandex.ru/d/QXrVDUoQvFhIcg')\n",
    "orders_dataset = pd.read_csv('https://getfile.dokpub.com/yandex/get/https://disk.yandex.ru/d/0zWmh1bYP6REbw')\n",
    "order_items_dataset = pd.read_csv('https://getfile.dokpub.com/yandex/get/https://disk.yandex.ru/d/xCsQ0FiC-Ue4Lg')"
   ]
  },
  {
   "cell_type": "markdown",
   "metadata": {},
   "source": [
    "# Предобработка данных"
   ]
  },
  {
   "cell_type": "code",
   "execution_count": 114,
   "metadata": {},
   "outputs": [
    {
     "name": "stdout",
     "output_type": "stream",
     "text": [
      "<class 'pandas.core.frame.DataFrame'>\n",
      "RangeIndex: 99441 entries, 0 to 99440\n",
      "Data columns (total 5 columns):\n",
      " #   Column                    Non-Null Count  Dtype \n",
      "---  ------                    --------------  ----- \n",
      " 0   customer_id               99441 non-null  object\n",
      " 1   customer_unique_id        99441 non-null  object\n",
      " 2   customer_zip_code_prefix  99441 non-null  int64 \n",
      " 3   customer_city             99441 non-null  object\n",
      " 4   customer_state            99441 non-null  object\n",
      "dtypes: int64(1), object(4)\n",
      "memory usage: 3.8+ MB\n",
      "None\n",
      "<class 'pandas.core.frame.DataFrame'>\n",
      "RangeIndex: 99441 entries, 0 to 99440\n",
      "Data columns (total 8 columns):\n",
      " #   Column                         Non-Null Count  Dtype         \n",
      "---  ------                         --------------  -----         \n",
      " 0   order_id                       99441 non-null  object        \n",
      " 1   customer_id                    99441 non-null  object        \n",
      " 2   order_status                   99441 non-null  object        \n",
      " 3   order_purchase_timestamp       99441 non-null  datetime64[ns]\n",
      " 4   order_approved_at              99281 non-null  datetime64[ns]\n",
      " 5   order_delivered_carrier_date   97658 non-null  datetime64[ns]\n",
      " 6   order_delivered_customer_date  96476 non-null  datetime64[ns]\n",
      " 7   order_estimated_delivery_date  99441 non-null  datetime64[ns]\n",
      "dtypes: datetime64[ns](5), object(3)\n",
      "memory usage: 6.1+ MB\n",
      "None\n",
      "<class 'pandas.core.frame.DataFrame'>\n",
      "RangeIndex: 112650 entries, 0 to 112649\n",
      "Data columns (total 7 columns):\n",
      " #   Column               Non-Null Count   Dtype         \n",
      "---  ------               --------------   -----         \n",
      " 0   order_id             112650 non-null  object        \n",
      " 1   order_item_id        112650 non-null  int64         \n",
      " 2   product_id           112650 non-null  object        \n",
      " 3   seller_id            112650 non-null  object        \n",
      " 4   shipping_limit_date  112650 non-null  datetime64[ns]\n",
      " 5   price                112650 non-null  float64       \n",
      " 6   freight_value        112650 non-null  float64       \n",
      "dtypes: datetime64[ns](1), float64(2), int64(1), object(3)\n",
      "memory usage: 6.0+ MB\n",
      "None\n"
     ]
    }
   ],
   "source": [
    "print(customers_dataset.info())\n",
    "print(orders_dataset.info())\n",
    "print(order_items_dataset.info())"
   ]
  },
  {
   "cell_type": "markdown",
   "metadata": {},
   "source": [
    "На первый взгляд с данными должно быть всё в порядке, но во втором датафрейме в трех столбцах под номерами 4,5,6 мы видим пропущенные значения. Во втором и третьем датафрейме несколько столбцов должны быть представлены в формает даты, однако на данный момент они представлены в строковом формате. Исправим этот момент. "
   ]
  },
  {
   "cell_type": "code",
   "execution_count": 77,
   "metadata": {},
   "outputs": [],
   "source": [
    "#Преобразуем столбцы в двух датафреймах в формат \"datetime\"\n",
    "orders_dataset[['order_purchase_timestamp', 'order_approved_at', 'order_delivered_carrier_date', 'order_delivered_customer_date', 'order_estimated_delivery_date']] = orders_dataset[['order_purchase_timestamp', 'order_approved_at', 'order_delivered_carrier_date', 'order_delivered_customer_date', 'order_estimated_delivery_date']].apply(pd.to_datetime, format='%Y-%m-%d %H:%M:%S')\n",
    "order_items_dataset['shipping_limit_date'] = pd.to_datetime(order_items_dataset['shipping_limit_date'], format='%Y-%m-%d %H:%M:%S')"
   ]
  },
  {
   "cell_type": "markdown",
   "metadata": {},
   "source": [
    "Вопрос с типом данных в колонках решен. Осталось решить проблему с пропущенными значениями. Для начала рассмотрим, какое количесвто пропущенных значений содержится в колонках каждого даатфрейма"
   ]
  },
  {
   "cell_type": "code",
   "execution_count": 78,
   "metadata": {},
   "outputs": [
    {
     "data": {
      "text/plain": [
       "customer_id                 0\n",
       "customer_unique_id          0\n",
       "customer_zip_code_prefix    0\n",
       "customer_city               0\n",
       "customer_state              0\n",
       "dtype: int64"
      ]
     },
     "execution_count": 78,
     "metadata": {},
     "output_type": "execute_result"
    }
   ],
   "source": [
    "customers_dataset.isna().sum()"
   ]
  },
  {
   "cell_type": "code",
   "execution_count": 79,
   "metadata": {
    "scrolled": true
   },
   "outputs": [
    {
     "data": {
      "text/plain": [
       "order_id                            0\n",
       "customer_id                         0\n",
       "order_status                        0\n",
       "order_purchase_timestamp            0\n",
       "order_approved_at                 160\n",
       "order_delivered_carrier_date     1783\n",
       "order_delivered_customer_date    2965\n",
       "order_estimated_delivery_date       0\n",
       "dtype: int64"
      ]
     },
     "execution_count": 79,
     "metadata": {},
     "output_type": "execute_result"
    }
   ],
   "source": [
    "orders_dataset.isna().sum()"
   ]
  },
  {
   "cell_type": "code",
   "execution_count": 80,
   "metadata": {},
   "outputs": [
    {
     "data": {
      "text/plain": [
       "order_id               0\n",
       "order_item_id          0\n",
       "product_id             0\n",
       "seller_id              0\n",
       "shipping_limit_date    0\n",
       "price                  0\n",
       "freight_value          0\n",
       "dtype: int64"
      ]
     },
     "execution_count": 80,
     "metadata": {},
     "output_type": "execute_result"
    }
   ],
   "source": [
    "order_items_dataset.isna().sum()"
   ]
  },
  {
   "cell_type": "markdown",
   "metadata": {},
   "source": [
    "Итак, во втором датафрейме пы получили несколько столбцов с пропущенными значениями(order_approved_at, order_delivered_carrier_date, order_delivered_customer_date)."
   ]
  },
  {
   "cell_type": "markdown",
   "metadata": {},
   "source": [
    "Сформируем отдельный датафрейм и посмотрим на данные с пропущенными значениями подробнее. "
   ]
  },
  {
   "cell_type": "code",
   "execution_count": 81,
   "metadata": {},
   "outputs": [],
   "source": [
    "missing_values = orders_dataset\\\n",
    "    .query(\"(order_approved_at == 'NaT') & (order_delivered_carrier_date == 'NaT') & (order_delivered_customer_date == 'NaT')\")"
   ]
  },
  {
   "cell_type": "markdown",
   "metadata": {},
   "source": [
    "Каждую колонку: \"order_approved_at, order_delivered_carrier_date, order_delivered_customer_date\" мы можем расценивать как определденный \"этап жизни\" заказа. order_approved_at —  время подтверждения оплаты заказа, order_delivered_carrier_date —  время передачи заказа в логистическую службу, order_delivered_customer_date —  время доставки заказа. Предварительно можно сказать, что в колонке \"order_approved_at\" пустые знаения могут быть связаны с тем, что оплата не прошла. В колонке \"order_delivered_carrier_date\" пустые значения скорее всего связаны с тем, что продавец не передал заказ логистической службе. Ну и очевидно, что в последней интересующей нас колонке пропущенные значения обсулсолены тем, что заказ попросту не дошел до покупателя. Из дополнительной информации у нас есть статусы заказов:\n",
    "\n",
    "created —  создан\n",
    "approved —  подтверждён\n",
    "invoiced —  выставлен счёт\n",
    "processing —  в процессе сборки заказа\n",
    "shipped —  отгружен со склада\n",
    "delivered —  доставлен пользователю\n",
    "unavailable —  недоступен\n",
    "canceled —  отменён\n",
    "\n",
    "Для того, чтобы определить, что мы будем считать покупкой посмотрим на статусы заказов. Нас точно не будут интересовать закзы со статусом \"canceled\" и \"unavailable\", так как в этом случае становится очевидно, что данные заказы мы не можем отнести к покупкам. Остальные статусы скорее всего связаны с тем, что заказ находится на одном из определенных этапов своего жизненного цикла. \n",
    "\n",
    "Что более важно - это факт оплаты заказа. Будем считать, что для нас покупка - это оплаченный товар(order_approved_at != 0), у которого статус не \"canceled\" или \"unavailable\".\n",
    "\n",
    "Мы определились с тем, что мы будем считать покупкой, но что если в наших данных есть аномалии? Предлагаю их поискать. \n",
    "1)Допустим, что у нас не был оплачен заказ, но статус заказа delivered\n",
    "2)Допустим, что у нас есть данные, где заказ был доставлен, но не передан в логистическую компани.\n",
    "\n",
    "Поиск таких аномалий поможет сделать вывод о специфике ведения бизнеса клиента.\n"
   ]
  },
  {
   "cell_type": "code",
   "execution_count": 82,
   "metadata": {},
   "outputs": [],
   "source": [
    "anomaly1 = orders_dataset.query(\"(order_approved_at == 'NaT') & (order_status == 'delivered')\") \n",
    "#Действительно, такие заказы есть."
   ]
  },
  {
   "cell_type": "code",
   "execution_count": 83,
   "metadata": {},
   "outputs": [],
   "source": [
    "anomaly2 = orders_dataset.query(\"(order_delivered_carrier_date== 'NaT') & (order_status == 'delivered')\") \n",
    "#Да, и такие заказы есть."
   ]
  },
  {
   "cell_type": "markdown",
   "metadata": {},
   "source": [
    "По первому пункту я могу выдивгуть следующее предположение: оплата за заказ может осуществлена наличными или другими способами без подтверждения оплаты на сайте. (что странно для электронной коммерции)\n",
    "По второму пункту следующее предположение: возможно продавец может продавать товары, не использую услуги партнера в лице логистической службы. Стоит ли включать первый пункт в общий список совершенных покупок? Я думаю, что да. Так или иначе, статус \"delivered\" говорит о том, что мы продали один товар, а следовательно получили деньги за него, однаки каким способом история умалчивает. Далее перейдем к выполнению когортного анализа и RFM-сегментации"
   ]
  },
  {
   "cell_type": "markdown",
   "metadata": {},
   "source": [
    "# Когортный анализ"
   ]
  },
  {
   "cell_type": "markdown",
   "metadata": {},
   "source": [
    "Выполним когортный анализ пользователей.\n",
    "\n",
    "Выявим когорту с самым высоким retention на 3-й месяц.\n",
    "\n",
    "определим основные параметры:\n",
    "\n",
    "1. Признак формирования когорты: первая покупка;\n",
    "2. Размер когорты: месяц\n",
    "3. Отчетный период: c 2016-09-15 по 2018-09-03(весь период)\n",
    "4. Анализируемый ключевой показатель: Retention Rate\n",
    "\n",
    "В качестве первой покупки будет считать данные из столбца \"order_approved_at\", так как покупка считается покупкой только в случае оплаты товара."
   ]
  },
  {
   "cell_type": "code",
   "execution_count": 84,
   "metadata": {},
   "outputs": [],
   "source": [
    "#Объединим orders_dataset и customer_dataset в единый датафрейм\n",
    "cohort_df = orders_dataset.merge(customers_dataset, how = 'inner', on ='customer_id')\n",
    "\n",
    "#Отберем покупки и избавимся от дупликатов по колонке 'order_id'\n",
    "cohort_df = cohort_df\\\n",
    "    .query(\"((order_status != ['canceled', 'unavailable']) & (order_approved_at != 'NaT')) or ((order_approved_at == 'NaT') & (order_status == 'delivered'))\")\\\n",
    "    .drop_duplicates(subset = 'order_id')"
   ]
  },
  {
   "cell_type": "code",
   "execution_count": 85,
   "metadata": {},
   "outputs": [],
   "source": [
    "#Отберем минимальную и максимуальную дату за указанный период\n",
    "start_date = cohort_df['order_approved_at'].min()\n",
    "end_date = cohort_df['order_approved_at'].max()\n",
    "\n",
    "#Отфильтруйте данные по заданному диапазону дат\n",
    "cohort_df = cohort_df[(cohort_df['order_approved_at'] >= start_date) & (cohort_df['order_approved_at'] <= end_date)]"
   ]
  },
  {
   "cell_type": "code",
   "execution_count": 86,
   "metadata": {},
   "outputs": [],
   "source": [
    "#Сформируем столбец с первым месяцем покупки по каждому пользователю\n",
    "cohort_df['first_order_month'] = cohort_df['order_approved_at'].dt.to_period('M')"
   ]
  },
  {
   "cell_type": "code",
   "execution_count": 87,
   "metadata": {},
   "outputs": [],
   "source": [
    "#Формируем когорту из покупателей, которые совершили свою первую покупку за указанный период(в размере месяца)\n",
    "cohort_df['cohort'] = cohort_df\\\n",
    "    .groupby('customer_unique_id')['order_approved_at']\\\n",
    "    .transform('min').dt.to_period('M')"
   ]
  },
  {
   "cell_type": "code",
   "execution_count": 88,
   "metadata": {},
   "outputs": [],
   "source": [
    "#Посчитаем число уникальных покупателей в каждой когорте\n",
    "df_cohort = cohort_df\\\n",
    "    .groupby(['cohort', 'first_order_month'])\\\n",
    "    .agg(n_customers=('customer_unique_id', 'nunique'))\\\n",
    "    .reset_index(drop=False)"
   ]
  },
  {
   "cell_type": "code",
   "execution_count": 89,
   "metadata": {},
   "outputs": [],
   "source": [
    "#Получим индексы когорт\n",
    "df_cohort['period'] = (df_cohort.first_order_month - df_cohort.cohort).apply(attrgetter('n')) #Получаем индексы когорт"
   ]
  },
  {
   "cell_type": "code",
   "execution_count": 90,
   "metadata": {},
   "outputs": [
    {
     "name": "stdout",
     "output_type": "stream",
     "text": [
      "Когорта с наибольшим retention rate за третий месяц: 2017-05\n"
     ]
    }
   ],
   "source": [
    "#Формируем сводную таблицу\n",
    "pivot_table = df_cohort.pivot_table(index='cohort', columns='period', values='n_customers')#\n",
    "cohort_size = pivot_table.iloc[:, 0]\n",
    "retention_matrix = pivot_table.divide(cohort_size, axis=0)\n",
    "retention_rates = retention_matrix.iloc[:, 3]  \n",
    "max_retention_cohort = retention_rates.idxmax()\n",
    "\n",
    "print(f\"Когорта с наибольшим retention rate за третий месяц: {max_retention_cohort}\")"
   ]
  },
  {
   "cell_type": "code",
   "execution_count": 91,
   "metadata": {},
   "outputs": [
    {
     "data": {
      "text/html": [
       "<style  type=\"text/css\" >\n",
       "#T_edec46b8_71c3_11ef_bdbb_96000040dfb6row0_col0,#T_edec46b8_71c3_11ef_bdbb_96000040dfb6row1_col0,#T_edec46b8_71c3_11ef_bdbb_96000040dfb6row1_col19,#T_edec46b8_71c3_11ef_bdbb_96000040dfb6row2_col0,#T_edec46b8_71c3_11ef_bdbb_96000040dfb6row3_col0,#T_edec46b8_71c3_11ef_bdbb_96000040dfb6row3_col18,#T_edec46b8_71c3_11ef_bdbb_96000040dfb6row4_col0,#T_edec46b8_71c3_11ef_bdbb_96000040dfb6row4_col1,#T_edec46b8_71c3_11ef_bdbb_96000040dfb6row4_col5,#T_edec46b8_71c3_11ef_bdbb_96000040dfb6row4_col8,#T_edec46b8_71c3_11ef_bdbb_96000040dfb6row4_col10,#T_edec46b8_71c3_11ef_bdbb_96000040dfb6row4_col15,#T_edec46b8_71c3_11ef_bdbb_96000040dfb6row4_col16,#T_edec46b8_71c3_11ef_bdbb_96000040dfb6row5_col0,#T_edec46b8_71c3_11ef_bdbb_96000040dfb6row5_col17,#T_edec46b8_71c3_11ef_bdbb_96000040dfb6row6_col0,#T_edec46b8_71c3_11ef_bdbb_96000040dfb6row6_col2,#T_edec46b8_71c3_11ef_bdbb_96000040dfb6row6_col12,#T_edec46b8_71c3_11ef_bdbb_96000040dfb6row6_col13,#T_edec46b8_71c3_11ef_bdbb_96000040dfb6row6_col14,#T_edec46b8_71c3_11ef_bdbb_96000040dfb6row7_col0,#T_edec46b8_71c3_11ef_bdbb_96000040dfb6row8_col0,#T_edec46b8_71c3_11ef_bdbb_96000040dfb6row9_col0,#T_edec46b8_71c3_11ef_bdbb_96000040dfb6row10_col0,#T_edec46b8_71c3_11ef_bdbb_96000040dfb6row11_col0,#T_edec46b8_71c3_11ef_bdbb_96000040dfb6row11_col11,#T_edec46b8_71c3_11ef_bdbb_96000040dfb6row12_col0,#T_edec46b8_71c3_11ef_bdbb_96000040dfb6row12_col3,#T_edec46b8_71c3_11ef_bdbb_96000040dfb6row13_col0,#T_edec46b8_71c3_11ef_bdbb_96000040dfb6row13_col6,#T_edec46b8_71c3_11ef_bdbb_96000040dfb6row13_col9,#T_edec46b8_71c3_11ef_bdbb_96000040dfb6row14_col0,#T_edec46b8_71c3_11ef_bdbb_96000040dfb6row14_col1,#T_edec46b8_71c3_11ef_bdbb_96000040dfb6row14_col7,#T_edec46b8_71c3_11ef_bdbb_96000040dfb6row15_col0,#T_edec46b8_71c3_11ef_bdbb_96000040dfb6row15_col1,#T_edec46b8_71c3_11ef_bdbb_96000040dfb6row16_col0,#T_edec46b8_71c3_11ef_bdbb_96000040dfb6row16_col1,#T_edec46b8_71c3_11ef_bdbb_96000040dfb6row17_col0,#T_edec46b8_71c3_11ef_bdbb_96000040dfb6row17_col1,#T_edec46b8_71c3_11ef_bdbb_96000040dfb6row18_col0,#T_edec46b8_71c3_11ef_bdbb_96000040dfb6row18_col4,#T_edec46b8_71c3_11ef_bdbb_96000040dfb6row19_col0,#T_edec46b8_71c3_11ef_bdbb_96000040dfb6row20_col0,#T_edec46b8_71c3_11ef_bdbb_96000040dfb6row20_col1,#T_edec46b8_71c3_11ef_bdbb_96000040dfb6row21_col0,#T_edec46b8_71c3_11ef_bdbb_96000040dfb6row22_col0,#T_edec46b8_71c3_11ef_bdbb_96000040dfb6row22_col1{\n",
       "            background-color:  #440154;\n",
       "            color:  #f1f1f1;\n",
       "        }#T_edec46b8_71c3_11ef_bdbb_96000040dfb6row0_col1,#T_edec46b8_71c3_11ef_bdbb_96000040dfb6row0_col2,#T_edec46b8_71c3_11ef_bdbb_96000040dfb6row0_col3,#T_edec46b8_71c3_11ef_bdbb_96000040dfb6row0_col4,#T_edec46b8_71c3_11ef_bdbb_96000040dfb6row0_col5,#T_edec46b8_71c3_11ef_bdbb_96000040dfb6row0_col6,#T_edec46b8_71c3_11ef_bdbb_96000040dfb6row0_col7,#T_edec46b8_71c3_11ef_bdbb_96000040dfb6row0_col8,#T_edec46b8_71c3_11ef_bdbb_96000040dfb6row0_col9,#T_edec46b8_71c3_11ef_bdbb_96000040dfb6row0_col10,#T_edec46b8_71c3_11ef_bdbb_96000040dfb6row0_col11,#T_edec46b8_71c3_11ef_bdbb_96000040dfb6row0_col12,#T_edec46b8_71c3_11ef_bdbb_96000040dfb6row0_col13,#T_edec46b8_71c3_11ef_bdbb_96000040dfb6row0_col14,#T_edec46b8_71c3_11ef_bdbb_96000040dfb6row0_col15,#T_edec46b8_71c3_11ef_bdbb_96000040dfb6row0_col16,#T_edec46b8_71c3_11ef_bdbb_96000040dfb6row0_col17,#T_edec46b8_71c3_11ef_bdbb_96000040dfb6row0_col18,#T_edec46b8_71c3_11ef_bdbb_96000040dfb6row1_col1,#T_edec46b8_71c3_11ef_bdbb_96000040dfb6row1_col2,#T_edec46b8_71c3_11ef_bdbb_96000040dfb6row1_col3,#T_edec46b8_71c3_11ef_bdbb_96000040dfb6row1_col4,#T_edec46b8_71c3_11ef_bdbb_96000040dfb6row1_col5,#T_edec46b8_71c3_11ef_bdbb_96000040dfb6row1_col7,#T_edec46b8_71c3_11ef_bdbb_96000040dfb6row1_col8,#T_edec46b8_71c3_11ef_bdbb_96000040dfb6row1_col10,#T_edec46b8_71c3_11ef_bdbb_96000040dfb6row1_col12,#T_edec46b8_71c3_11ef_bdbb_96000040dfb6row1_col14,#T_edec46b8_71c3_11ef_bdbb_96000040dfb6row1_col16,#T_edec46b8_71c3_11ef_bdbb_96000040dfb6row2_col2,#T_edec46b8_71c3_11ef_bdbb_96000040dfb6row2_col3,#T_edec46b8_71c3_11ef_bdbb_96000040dfb6row2_col4,#T_edec46b8_71c3_11ef_bdbb_96000040dfb6row2_col5,#T_edec46b8_71c3_11ef_bdbb_96000040dfb6row2_col6,#T_edec46b8_71c3_11ef_bdbb_96000040dfb6row2_col7,#T_edec46b8_71c3_11ef_bdbb_96000040dfb6row2_col8,#T_edec46b8_71c3_11ef_bdbb_96000040dfb6row2_col9,#T_edec46b8_71c3_11ef_bdbb_96000040dfb6row2_col10,#T_edec46b8_71c3_11ef_bdbb_96000040dfb6row2_col11,#T_edec46b8_71c3_11ef_bdbb_96000040dfb6row2_col12,#T_edec46b8_71c3_11ef_bdbb_96000040dfb6row2_col13,#T_edec46b8_71c3_11ef_bdbb_96000040dfb6row2_col14,#T_edec46b8_71c3_11ef_bdbb_96000040dfb6row2_col15,#T_edec46b8_71c3_11ef_bdbb_96000040dfb6row2_col16,#T_edec46b8_71c3_11ef_bdbb_96000040dfb6row2_col17,#T_edec46b8_71c3_11ef_bdbb_96000040dfb6row2_col18,#T_edec46b8_71c3_11ef_bdbb_96000040dfb6row3_col9,#T_edec46b8_71c3_11ef_bdbb_96000040dfb6row4_col18,#T_edec46b8_71c3_11ef_bdbb_96000040dfb6row5_col18,#T_edec46b8_71c3_11ef_bdbb_96000040dfb6row6_col17,#T_edec46b8_71c3_11ef_bdbb_96000040dfb6row6_col18,#T_edec46b8_71c3_11ef_bdbb_96000040dfb6row7_col16,#T_edec46b8_71c3_11ef_bdbb_96000040dfb6row7_col17,#T_edec46b8_71c3_11ef_bdbb_96000040dfb6row7_col18,#T_edec46b8_71c3_11ef_bdbb_96000040dfb6row8_col15,#T_edec46b8_71c3_11ef_bdbb_96000040dfb6row8_col16,#T_edec46b8_71c3_11ef_bdbb_96000040dfb6row8_col17,#T_edec46b8_71c3_11ef_bdbb_96000040dfb6row8_col18,#T_edec46b8_71c3_11ef_bdbb_96000040dfb6row9_col14,#T_edec46b8_71c3_11ef_bdbb_96000040dfb6row9_col15,#T_edec46b8_71c3_11ef_bdbb_96000040dfb6row9_col16,#T_edec46b8_71c3_11ef_bdbb_96000040dfb6row9_col17,#T_edec46b8_71c3_11ef_bdbb_96000040dfb6row9_col18,#T_edec46b8_71c3_11ef_bdbb_96000040dfb6row10_col13,#T_edec46b8_71c3_11ef_bdbb_96000040dfb6row10_col14,#T_edec46b8_71c3_11ef_bdbb_96000040dfb6row10_col15,#T_edec46b8_71c3_11ef_bdbb_96000040dfb6row10_col16,#T_edec46b8_71c3_11ef_bdbb_96000040dfb6row10_col17,#T_edec46b8_71c3_11ef_bdbb_96000040dfb6row10_col18,#T_edec46b8_71c3_11ef_bdbb_96000040dfb6row11_col12,#T_edec46b8_71c3_11ef_bdbb_96000040dfb6row11_col13,#T_edec46b8_71c3_11ef_bdbb_96000040dfb6row11_col14,#T_edec46b8_71c3_11ef_bdbb_96000040dfb6row11_col15,#T_edec46b8_71c3_11ef_bdbb_96000040dfb6row11_col16,#T_edec46b8_71c3_11ef_bdbb_96000040dfb6row11_col17,#T_edec46b8_71c3_11ef_bdbb_96000040dfb6row11_col18,#T_edec46b8_71c3_11ef_bdbb_96000040dfb6row12_col11,#T_edec46b8_71c3_11ef_bdbb_96000040dfb6row12_col12,#T_edec46b8_71c3_11ef_bdbb_96000040dfb6row12_col13,#T_edec46b8_71c3_11ef_bdbb_96000040dfb6row12_col14,#T_edec46b8_71c3_11ef_bdbb_96000040dfb6row12_col15,#T_edec46b8_71c3_11ef_bdbb_96000040dfb6row12_col16,#T_edec46b8_71c3_11ef_bdbb_96000040dfb6row12_col17,#T_edec46b8_71c3_11ef_bdbb_96000040dfb6row12_col18,#T_edec46b8_71c3_11ef_bdbb_96000040dfb6row13_col10,#T_edec46b8_71c3_11ef_bdbb_96000040dfb6row13_col11,#T_edec46b8_71c3_11ef_bdbb_96000040dfb6row13_col12,#T_edec46b8_71c3_11ef_bdbb_96000040dfb6row13_col13,#T_edec46b8_71c3_11ef_bdbb_96000040dfb6row13_col14,#T_edec46b8_71c3_11ef_bdbb_96000040dfb6row13_col15,#T_edec46b8_71c3_11ef_bdbb_96000040dfb6row13_col16,#T_edec46b8_71c3_11ef_bdbb_96000040dfb6row13_col17,#T_edec46b8_71c3_11ef_bdbb_96000040dfb6row13_col18,#T_edec46b8_71c3_11ef_bdbb_96000040dfb6row14_col9,#T_edec46b8_71c3_11ef_bdbb_96000040dfb6row14_col10,#T_edec46b8_71c3_11ef_bdbb_96000040dfb6row14_col11,#T_edec46b8_71c3_11ef_bdbb_96000040dfb6row14_col12,#T_edec46b8_71c3_11ef_bdbb_96000040dfb6row14_col13,#T_edec46b8_71c3_11ef_bdbb_96000040dfb6row14_col14,#T_edec46b8_71c3_11ef_bdbb_96000040dfb6row14_col15,#T_edec46b8_71c3_11ef_bdbb_96000040dfb6row14_col16,#T_edec46b8_71c3_11ef_bdbb_96000040dfb6row14_col17,#T_edec46b8_71c3_11ef_bdbb_96000040dfb6row14_col18,#T_edec46b8_71c3_11ef_bdbb_96000040dfb6row15_col8,#T_edec46b8_71c3_11ef_bdbb_96000040dfb6row15_col9,#T_edec46b8_71c3_11ef_bdbb_96000040dfb6row15_col10,#T_edec46b8_71c3_11ef_bdbb_96000040dfb6row15_col11,#T_edec46b8_71c3_11ef_bdbb_96000040dfb6row15_col12,#T_edec46b8_71c3_11ef_bdbb_96000040dfb6row15_col13,#T_edec46b8_71c3_11ef_bdbb_96000040dfb6row15_col14,#T_edec46b8_71c3_11ef_bdbb_96000040dfb6row15_col15,#T_edec46b8_71c3_11ef_bdbb_96000040dfb6row15_col16,#T_edec46b8_71c3_11ef_bdbb_96000040dfb6row15_col17,#T_edec46b8_71c3_11ef_bdbb_96000040dfb6row15_col18,#T_edec46b8_71c3_11ef_bdbb_96000040dfb6row16_col7,#T_edec46b8_71c3_11ef_bdbb_96000040dfb6row16_col8,#T_edec46b8_71c3_11ef_bdbb_96000040dfb6row16_col9,#T_edec46b8_71c3_11ef_bdbb_96000040dfb6row16_col10,#T_edec46b8_71c3_11ef_bdbb_96000040dfb6row16_col11,#T_edec46b8_71c3_11ef_bdbb_96000040dfb6row16_col12,#T_edec46b8_71c3_11ef_bdbb_96000040dfb6row16_col13,#T_edec46b8_71c3_11ef_bdbb_96000040dfb6row16_col14,#T_edec46b8_71c3_11ef_bdbb_96000040dfb6row16_col15,#T_edec46b8_71c3_11ef_bdbb_96000040dfb6row16_col16,#T_edec46b8_71c3_11ef_bdbb_96000040dfb6row16_col17,#T_edec46b8_71c3_11ef_bdbb_96000040dfb6row16_col18,#T_edec46b8_71c3_11ef_bdbb_96000040dfb6row17_col6,#T_edec46b8_71c3_11ef_bdbb_96000040dfb6row17_col7,#T_edec46b8_71c3_11ef_bdbb_96000040dfb6row17_col8,#T_edec46b8_71c3_11ef_bdbb_96000040dfb6row17_col9,#T_edec46b8_71c3_11ef_bdbb_96000040dfb6row17_col10,#T_edec46b8_71c3_11ef_bdbb_96000040dfb6row17_col11,#T_edec46b8_71c3_11ef_bdbb_96000040dfb6row17_col12,#T_edec46b8_71c3_11ef_bdbb_96000040dfb6row17_col13,#T_edec46b8_71c3_11ef_bdbb_96000040dfb6row17_col14,#T_edec46b8_71c3_11ef_bdbb_96000040dfb6row17_col15,#T_edec46b8_71c3_11ef_bdbb_96000040dfb6row17_col16,#T_edec46b8_71c3_11ef_bdbb_96000040dfb6row17_col17,#T_edec46b8_71c3_11ef_bdbb_96000040dfb6row17_col18,#T_edec46b8_71c3_11ef_bdbb_96000040dfb6row18_col5,#T_edec46b8_71c3_11ef_bdbb_96000040dfb6row18_col6,#T_edec46b8_71c3_11ef_bdbb_96000040dfb6row18_col7,#T_edec46b8_71c3_11ef_bdbb_96000040dfb6row18_col8,#T_edec46b8_71c3_11ef_bdbb_96000040dfb6row18_col9,#T_edec46b8_71c3_11ef_bdbb_96000040dfb6row18_col10,#T_edec46b8_71c3_11ef_bdbb_96000040dfb6row18_col11,#T_edec46b8_71c3_11ef_bdbb_96000040dfb6row18_col12,#T_edec46b8_71c3_11ef_bdbb_96000040dfb6row18_col13,#T_edec46b8_71c3_11ef_bdbb_96000040dfb6row18_col14,#T_edec46b8_71c3_11ef_bdbb_96000040dfb6row18_col15,#T_edec46b8_71c3_11ef_bdbb_96000040dfb6row18_col16,#T_edec46b8_71c3_11ef_bdbb_96000040dfb6row18_col17,#T_edec46b8_71c3_11ef_bdbb_96000040dfb6row18_col18,#T_edec46b8_71c3_11ef_bdbb_96000040dfb6row19_col4,#T_edec46b8_71c3_11ef_bdbb_96000040dfb6row19_col5,#T_edec46b8_71c3_11ef_bdbb_96000040dfb6row19_col6,#T_edec46b8_71c3_11ef_bdbb_96000040dfb6row19_col7,#T_edec46b8_71c3_11ef_bdbb_96000040dfb6row19_col8,#T_edec46b8_71c3_11ef_bdbb_96000040dfb6row19_col9,#T_edec46b8_71c3_11ef_bdbb_96000040dfb6row19_col10,#T_edec46b8_71c3_11ef_bdbb_96000040dfb6row19_col11,#T_edec46b8_71c3_11ef_bdbb_96000040dfb6row19_col12,#T_edec46b8_71c3_11ef_bdbb_96000040dfb6row19_col13,#T_edec46b8_71c3_11ef_bdbb_96000040dfb6row19_col14,#T_edec46b8_71c3_11ef_bdbb_96000040dfb6row19_col15,#T_edec46b8_71c3_11ef_bdbb_96000040dfb6row19_col16,#T_edec46b8_71c3_11ef_bdbb_96000040dfb6row19_col17,#T_edec46b8_71c3_11ef_bdbb_96000040dfb6row19_col18,#T_edec46b8_71c3_11ef_bdbb_96000040dfb6row20_col3,#T_edec46b8_71c3_11ef_bdbb_96000040dfb6row20_col4,#T_edec46b8_71c3_11ef_bdbb_96000040dfb6row20_col5,#T_edec46b8_71c3_11ef_bdbb_96000040dfb6row20_col6,#T_edec46b8_71c3_11ef_bdbb_96000040dfb6row20_col7,#T_edec46b8_71c3_11ef_bdbb_96000040dfb6row20_col8,#T_edec46b8_71c3_11ef_bdbb_96000040dfb6row20_col9,#T_edec46b8_71c3_11ef_bdbb_96000040dfb6row20_col10,#T_edec46b8_71c3_11ef_bdbb_96000040dfb6row20_col11,#T_edec46b8_71c3_11ef_bdbb_96000040dfb6row20_col12,#T_edec46b8_71c3_11ef_bdbb_96000040dfb6row20_col13,#T_edec46b8_71c3_11ef_bdbb_96000040dfb6row20_col14,#T_edec46b8_71c3_11ef_bdbb_96000040dfb6row20_col15,#T_edec46b8_71c3_11ef_bdbb_96000040dfb6row20_col16,#T_edec46b8_71c3_11ef_bdbb_96000040dfb6row20_col17,#T_edec46b8_71c3_11ef_bdbb_96000040dfb6row20_col18,#T_edec46b8_71c3_11ef_bdbb_96000040dfb6row21_col2,#T_edec46b8_71c3_11ef_bdbb_96000040dfb6row21_col3,#T_edec46b8_71c3_11ef_bdbb_96000040dfb6row21_col4,#T_edec46b8_71c3_11ef_bdbb_96000040dfb6row21_col5,#T_edec46b8_71c3_11ef_bdbb_96000040dfb6row21_col6,#T_edec46b8_71c3_11ef_bdbb_96000040dfb6row21_col7,#T_edec46b8_71c3_11ef_bdbb_96000040dfb6row21_col8,#T_edec46b8_71c3_11ef_bdbb_96000040dfb6row21_col9,#T_edec46b8_71c3_11ef_bdbb_96000040dfb6row21_col10,#T_edec46b8_71c3_11ef_bdbb_96000040dfb6row21_col11,#T_edec46b8_71c3_11ef_bdbb_96000040dfb6row21_col12,#T_edec46b8_71c3_11ef_bdbb_96000040dfb6row21_col13,#T_edec46b8_71c3_11ef_bdbb_96000040dfb6row21_col14,#T_edec46b8_71c3_11ef_bdbb_96000040dfb6row21_col15,#T_edec46b8_71c3_11ef_bdbb_96000040dfb6row21_col16,#T_edec46b8_71c3_11ef_bdbb_96000040dfb6row21_col17,#T_edec46b8_71c3_11ef_bdbb_96000040dfb6row21_col18,#T_edec46b8_71c3_11ef_bdbb_96000040dfb6row22_col2,#T_edec46b8_71c3_11ef_bdbb_96000040dfb6row22_col3,#T_edec46b8_71c3_11ef_bdbb_96000040dfb6row22_col4,#T_edec46b8_71c3_11ef_bdbb_96000040dfb6row22_col5,#T_edec46b8_71c3_11ef_bdbb_96000040dfb6row22_col6,#T_edec46b8_71c3_11ef_bdbb_96000040dfb6row22_col7,#T_edec46b8_71c3_11ef_bdbb_96000040dfb6row22_col8,#T_edec46b8_71c3_11ef_bdbb_96000040dfb6row22_col9,#T_edec46b8_71c3_11ef_bdbb_96000040dfb6row22_col10,#T_edec46b8_71c3_11ef_bdbb_96000040dfb6row22_col11,#T_edec46b8_71c3_11ef_bdbb_96000040dfb6row22_col12,#T_edec46b8_71c3_11ef_bdbb_96000040dfb6row22_col13,#T_edec46b8_71c3_11ef_bdbb_96000040dfb6row22_col14,#T_edec46b8_71c3_11ef_bdbb_96000040dfb6row22_col15,#T_edec46b8_71c3_11ef_bdbb_96000040dfb6row22_col16,#T_edec46b8_71c3_11ef_bdbb_96000040dfb6row22_col17,#T_edec46b8_71c3_11ef_bdbb_96000040dfb6row22_col18{\n",
       "            background-color:  #000000;\n",
       "            color:  #f1f1f1;\n",
       "            background-color:  white;\n",
       "        }#T_edec46b8_71c3_11ef_bdbb_96000040dfb6row0_col19,#T_edec46b8_71c3_11ef_bdbb_96000040dfb6row2_col19,#T_edec46b8_71c3_11ef_bdbb_96000040dfb6row3_col19,#T_edec46b8_71c3_11ef_bdbb_96000040dfb6row4_col19,#T_edec46b8_71c3_11ef_bdbb_96000040dfb6row5_col19,#T_edec46b8_71c3_11ef_bdbb_96000040dfb6row6_col19,#T_edec46b8_71c3_11ef_bdbb_96000040dfb6row7_col19,#T_edec46b8_71c3_11ef_bdbb_96000040dfb6row8_col19,#T_edec46b8_71c3_11ef_bdbb_96000040dfb6row9_col19,#T_edec46b8_71c3_11ef_bdbb_96000040dfb6row10_col19,#T_edec46b8_71c3_11ef_bdbb_96000040dfb6row11_col19,#T_edec46b8_71c3_11ef_bdbb_96000040dfb6row12_col19,#T_edec46b8_71c3_11ef_bdbb_96000040dfb6row13_col19,#T_edec46b8_71c3_11ef_bdbb_96000040dfb6row14_col19,#T_edec46b8_71c3_11ef_bdbb_96000040dfb6row15_col19,#T_edec46b8_71c3_11ef_bdbb_96000040dfb6row16_col19,#T_edec46b8_71c3_11ef_bdbb_96000040dfb6row17_col19,#T_edec46b8_71c3_11ef_bdbb_96000040dfb6row18_col19,#T_edec46b8_71c3_11ef_bdbb_96000040dfb6row19_col19,#T_edec46b8_71c3_11ef_bdbb_96000040dfb6row20_col19,#T_edec46b8_71c3_11ef_bdbb_96000040dfb6row21_col19,#T_edec46b8_71c3_11ef_bdbb_96000040dfb6row22_col19{\n",
       "            background-color:  #440154;\n",
       "            color:  #f1f1f1;\n",
       "            background-color:  white;\n",
       "        }#T_edec46b8_71c3_11ef_bdbb_96000040dfb6row1_col6{\n",
       "            background-color:  #52c569;\n",
       "            color:  #000000;\n",
       "        }#T_edec46b8_71c3_11ef_bdbb_96000040dfb6row1_col9,#T_edec46b8_71c3_11ef_bdbb_96000040dfb6row1_col15,#T_edec46b8_71c3_11ef_bdbb_96000040dfb6row1_col18,#T_edec46b8_71c3_11ef_bdbb_96000040dfb6row2_col1,#T_edec46b8_71c3_11ef_bdbb_96000040dfb6row3_col4,#T_edec46b8_71c3_11ef_bdbb_96000040dfb6row3_col12,#T_edec46b8_71c3_11ef_bdbb_96000040dfb6row3_col13,#T_edec46b8_71c3_11ef_bdbb_96000040dfb6row3_col16,#T_edec46b8_71c3_11ef_bdbb_96000040dfb6row3_col17,#T_edec46b8_71c3_11ef_bdbb_96000040dfb6row4_col4,#T_edec46b8_71c3_11ef_bdbb_96000040dfb6row5_col10,#T_edec46b8_71c3_11ef_bdbb_96000040dfb6row6_col8,#T_edec46b8_71c3_11ef_bdbb_96000040dfb6row7_col3,#T_edec46b8_71c3_11ef_bdbb_96000040dfb6row7_col6,#T_edec46b8_71c3_11ef_bdbb_96000040dfb6row7_col14,#T_edec46b8_71c3_11ef_bdbb_96000040dfb6row8_col11,#T_edec46b8_71c3_11ef_bdbb_96000040dfb6row10_col5,#T_edec46b8_71c3_11ef_bdbb_96000040dfb6row11_col2,#T_edec46b8_71c3_11ef_bdbb_96000040dfb6row12_col7{\n",
       "            background-color:  #fde725;\n",
       "            color:  #000000;\n",
       "        }#T_edec46b8_71c3_11ef_bdbb_96000040dfb6row1_col11{\n",
       "            background-color:  #e7e419;\n",
       "            color:  #000000;\n",
       "        }#T_edec46b8_71c3_11ef_bdbb_96000040dfb6row1_col13{\n",
       "            background-color:  #7ad151;\n",
       "            color:  #000000;\n",
       "        }#T_edec46b8_71c3_11ef_bdbb_96000040dfb6row1_col17{\n",
       "            background-color:  #4ac16d;\n",
       "            color:  #000000;\n",
       "        }#T_edec46b8_71c3_11ef_bdbb_96000040dfb6row3_col1,#T_edec46b8_71c3_11ef_bdbb_96000040dfb6row5_col1,#T_edec46b8_71c3_11ef_bdbb_96000040dfb6row6_col1,#T_edec46b8_71c3_11ef_bdbb_96000040dfb6row7_col1,#T_edec46b8_71c3_11ef_bdbb_96000040dfb6row8_col1,#T_edec46b8_71c3_11ef_bdbb_96000040dfb6row9_col1,#T_edec46b8_71c3_11ef_bdbb_96000040dfb6row10_col1,#T_edec46b8_71c3_11ef_bdbb_96000040dfb6row11_col1,#T_edec46b8_71c3_11ef_bdbb_96000040dfb6row12_col1,#T_edec46b8_71c3_11ef_bdbb_96000040dfb6row13_col1,#T_edec46b8_71c3_11ef_bdbb_96000040dfb6row18_col1,#T_edec46b8_71c3_11ef_bdbb_96000040dfb6row19_col1,#T_edec46b8_71c3_11ef_bdbb_96000040dfb6row21_col1{\n",
       "            background-color:  #440256;\n",
       "            color:  #f1f1f1;\n",
       "        }#T_edec46b8_71c3_11ef_bdbb_96000040dfb6row3_col2,#T_edec46b8_71c3_11ef_bdbb_96000040dfb6row8_col13{\n",
       "            background-color:  #3e4c8a;\n",
       "            color:  #f1f1f1;\n",
       "        }#T_edec46b8_71c3_11ef_bdbb_96000040dfb6row3_col3,#T_edec46b8_71c3_11ef_bdbb_96000040dfb6row15_col6{\n",
       "            background-color:  #453781;\n",
       "            color:  #f1f1f1;\n",
       "        }#T_edec46b8_71c3_11ef_bdbb_96000040dfb6row3_col5,#T_edec46b8_71c3_11ef_bdbb_96000040dfb6row6_col11{\n",
       "            background-color:  #471365;\n",
       "            color:  #f1f1f1;\n",
       "        }#T_edec46b8_71c3_11ef_bdbb_96000040dfb6row3_col6,#T_edec46b8_71c3_11ef_bdbb_96000040dfb6row11_col4{\n",
       "            background-color:  #f6e620;\n",
       "            color:  #000000;\n",
       "        }#T_edec46b8_71c3_11ef_bdbb_96000040dfb6row3_col7{\n",
       "            background-color:  #2f6c8e;\n",
       "            color:  #f1f1f1;\n",
       "        }#T_edec46b8_71c3_11ef_bdbb_96000040dfb6row3_col8{\n",
       "            background-color:  #375a8c;\n",
       "            color:  #f1f1f1;\n",
       "        }#T_edec46b8_71c3_11ef_bdbb_96000040dfb6row3_col10{\n",
       "            background-color:  #22a785;\n",
       "            color:  #000000;\n",
       "        }#T_edec46b8_71c3_11ef_bdbb_96000040dfb6row3_col11,#T_edec46b8_71c3_11ef_bdbb_96000040dfb6row9_col4{\n",
       "            background-color:  #56c667;\n",
       "            color:  #000000;\n",
       "        }#T_edec46b8_71c3_11ef_bdbb_96000040dfb6row3_col14{\n",
       "            background-color:  #228b8d;\n",
       "            color:  #000000;\n",
       "        }#T_edec46b8_71c3_11ef_bdbb_96000040dfb6row3_col15{\n",
       "            background-color:  #375b8d;\n",
       "            color:  #f1f1f1;\n",
       "        }#T_edec46b8_71c3_11ef_bdbb_96000040dfb6row4_col2,#T_edec46b8_71c3_11ef_bdbb_96000040dfb6row5_col16{\n",
       "            background-color:  #481d6f;\n",
       "            color:  #f1f1f1;\n",
       "        }#T_edec46b8_71c3_11ef_bdbb_96000040dfb6row4_col3{\n",
       "            background-color:  #365c8d;\n",
       "            color:  #f1f1f1;\n",
       "        }#T_edec46b8_71c3_11ef_bdbb_96000040dfb6row4_col6,#T_edec46b8_71c3_11ef_bdbb_96000040dfb6row6_col9,#T_edec46b8_71c3_11ef_bdbb_96000040dfb6row19_col3{\n",
       "            background-color:  #2c728e;\n",
       "            color:  #f1f1f1;\n",
       "        }#T_edec46b8_71c3_11ef_bdbb_96000040dfb6row4_col7,#T_edec46b8_71c3_11ef_bdbb_96000040dfb6row10_col6,#T_edec46b8_71c3_11ef_bdbb_96000040dfb6row16_col4{\n",
       "            background-color:  #24878e;\n",
       "            color:  #000000;\n",
       "        }#T_edec46b8_71c3_11ef_bdbb_96000040dfb6row4_col9{\n",
       "            background-color:  #2a778e;\n",
       "            color:  #000000;\n",
       "        }#T_edec46b8_71c3_11ef_bdbb_96000040dfb6row4_col11{\n",
       "            background-color:  #7cd250;\n",
       "            color:  #000000;\n",
       "        }#T_edec46b8_71c3_11ef_bdbb_96000040dfb6row4_col12{\n",
       "            background-color:  #481467;\n",
       "            color:  #f1f1f1;\n",
       "        }#T_edec46b8_71c3_11ef_bdbb_96000040dfb6row4_col13{\n",
       "            background-color:  #2e6f8e;\n",
       "            color:  #f1f1f1;\n",
       "        }#T_edec46b8_71c3_11ef_bdbb_96000040dfb6row4_col14{\n",
       "            background-color:  #355e8d;\n",
       "            color:  #f1f1f1;\n",
       "        }#T_edec46b8_71c3_11ef_bdbb_96000040dfb6row4_col17{\n",
       "            background-color:  #32648e;\n",
       "            color:  #f1f1f1;\n",
       "        }#T_edec46b8_71c3_11ef_bdbb_96000040dfb6row5_col2{\n",
       "            background-color:  #228d8d;\n",
       "            color:  #000000;\n",
       "        }#T_edec46b8_71c3_11ef_bdbb_96000040dfb6row5_col3{\n",
       "            background-color:  #98d83e;\n",
       "            color:  #000000;\n",
       "        }#T_edec46b8_71c3_11ef_bdbb_96000040dfb6row5_col4,#T_edec46b8_71c3_11ef_bdbb_96000040dfb6row8_col10{\n",
       "            background-color:  #5ec962;\n",
       "            color:  #000000;\n",
       "        }#T_edec46b8_71c3_11ef_bdbb_96000040dfb6row5_col5,#T_edec46b8_71c3_11ef_bdbb_96000040dfb6row13_col5{\n",
       "            background-color:  #482071;\n",
       "            color:  #f1f1f1;\n",
       "        }#T_edec46b8_71c3_11ef_bdbb_96000040dfb6row5_col6{\n",
       "            background-color:  #482173;\n",
       "            color:  #f1f1f1;\n",
       "        }#T_edec46b8_71c3_11ef_bdbb_96000040dfb6row5_col7{\n",
       "            background-color:  #93d741;\n",
       "            color:  #000000;\n",
       "        }#T_edec46b8_71c3_11ef_bdbb_96000040dfb6row5_col8{\n",
       "            background-color:  #a8db34;\n",
       "            color:  #000000;\n",
       "        }#T_edec46b8_71c3_11ef_bdbb_96000040dfb6row5_col9{\n",
       "            background-color:  #443983;\n",
       "            color:  #f1f1f1;\n",
       "        }#T_edec46b8_71c3_11ef_bdbb_96000040dfb6row5_col11,#T_edec46b8_71c3_11ef_bdbb_96000040dfb6row12_col5{\n",
       "            background-color:  #453581;\n",
       "            color:  #f1f1f1;\n",
       "        }#T_edec46b8_71c3_11ef_bdbb_96000040dfb6row5_col12{\n",
       "            background-color:  #3d4e8a;\n",
       "            color:  #f1f1f1;\n",
       "        }#T_edec46b8_71c3_11ef_bdbb_96000040dfb6row5_col13{\n",
       "            background-color:  #424186;\n",
       "            color:  #f1f1f1;\n",
       "        }#T_edec46b8_71c3_11ef_bdbb_96000040dfb6row5_col14,#T_edec46b8_71c3_11ef_bdbb_96000040dfb6row7_col4,#T_edec46b8_71c3_11ef_bdbb_96000040dfb6row9_col9{\n",
       "            background-color:  #25ac82;\n",
       "            color:  #000000;\n",
       "        }#T_edec46b8_71c3_11ef_bdbb_96000040dfb6row5_col15,#T_edec46b8_71c3_11ef_bdbb_96000040dfb6row7_col10{\n",
       "            background-color:  #24aa83;\n",
       "            color:  #000000;\n",
       "        }#T_edec46b8_71c3_11ef_bdbb_96000040dfb6row6_col3,#T_edec46b8_71c3_11ef_bdbb_96000040dfb6row18_col2{\n",
       "            background-color:  #38588c;\n",
       "            color:  #f1f1f1;\n",
       "        }#T_edec46b8_71c3_11ef_bdbb_96000040dfb6row6_col4{\n",
       "            background-color:  #26828e;\n",
       "            color:  #000000;\n",
       "        }#T_edec46b8_71c3_11ef_bdbb_96000040dfb6row6_col5,#T_edec46b8_71c3_11ef_bdbb_96000040dfb6row9_col10{\n",
       "            background-color:  #2f6b8e;\n",
       "            color:  #f1f1f1;\n",
       "        }#T_edec46b8_71c3_11ef_bdbb_96000040dfb6row6_col6{\n",
       "            background-color:  #5ac864;\n",
       "            color:  #000000;\n",
       "        }#T_edec46b8_71c3_11ef_bdbb_96000040dfb6row6_col7{\n",
       "            background-color:  #42be71;\n",
       "            color:  #000000;\n",
       "        }#T_edec46b8_71c3_11ef_bdbb_96000040dfb6row6_col10,#T_edec46b8_71c3_11ef_bdbb_96000040dfb6row11_col5,#T_edec46b8_71c3_11ef_bdbb_96000040dfb6row11_col9{\n",
       "            background-color:  #2d708e;\n",
       "            color:  #f1f1f1;\n",
       "        }#T_edec46b8_71c3_11ef_bdbb_96000040dfb6row6_col15,#T_edec46b8_71c3_11ef_bdbb_96000040dfb6row10_col12{\n",
       "            background-color:  #482374;\n",
       "            color:  #f1f1f1;\n",
       "        }#T_edec46b8_71c3_11ef_bdbb_96000040dfb6row6_col16{\n",
       "            background-color:  #32658e;\n",
       "            color:  #f1f1f1;\n",
       "        }#T_edec46b8_71c3_11ef_bdbb_96000040dfb6row7_col2,#T_edec46b8_71c3_11ef_bdbb_96000040dfb6row8_col3{\n",
       "            background-color:  #ece51b;\n",
       "            color:  #000000;\n",
       "        }#T_edec46b8_71c3_11ef_bdbb_96000040dfb6row7_col5{\n",
       "            background-color:  #1f988b;\n",
       "            color:  #000000;\n",
       "        }#T_edec46b8_71c3_11ef_bdbb_96000040dfb6row7_col7{\n",
       "            background-color:  #2e6d8e;\n",
       "            color:  #f1f1f1;\n",
       "        }#T_edec46b8_71c3_11ef_bdbb_96000040dfb6row7_col8{\n",
       "            background-color:  #38b977;\n",
       "            color:  #000000;\n",
       "        }#T_edec46b8_71c3_11ef_bdbb_96000040dfb6row7_col9{\n",
       "            background-color:  #37b878;\n",
       "            color:  #000000;\n",
       "        }#T_edec46b8_71c3_11ef_bdbb_96000040dfb6row7_col11{\n",
       "            background-color:  #dde318;\n",
       "            color:  #000000;\n",
       "        }#T_edec46b8_71c3_11ef_bdbb_96000040dfb6row7_col12{\n",
       "            background-color:  #433e85;\n",
       "            color:  #f1f1f1;\n",
       "        }#T_edec46b8_71c3_11ef_bdbb_96000040dfb6row7_col13{\n",
       "            background-color:  #470d60;\n",
       "            color:  #f1f1f1;\n",
       "        }#T_edec46b8_71c3_11ef_bdbb_96000040dfb6row7_col15{\n",
       "            background-color:  #20a486;\n",
       "            color:  #000000;\n",
       "        }#T_edec46b8_71c3_11ef_bdbb_96000040dfb6row8_col2,#T_edec46b8_71c3_11ef_bdbb_96000040dfb6row18_col3{\n",
       "            background-color:  #21918c;\n",
       "            color:  #000000;\n",
       "        }#T_edec46b8_71c3_11ef_bdbb_96000040dfb6row8_col4{\n",
       "            background-color:  #277e8e;\n",
       "            color:  #000000;\n",
       "        }#T_edec46b8_71c3_11ef_bdbb_96000040dfb6row8_col5,#T_edec46b8_71c3_11ef_bdbb_96000040dfb6row10_col3,#T_edec46b8_71c3_11ef_bdbb_96000040dfb6row15_col7{\n",
       "            background-color:  #1fa187;\n",
       "            color:  #000000;\n",
       "        }#T_edec46b8_71c3_11ef_bdbb_96000040dfb6row8_col6{\n",
       "            background-color:  #65cb5e;\n",
       "            color:  #000000;\n",
       "        }#T_edec46b8_71c3_11ef_bdbb_96000040dfb6row8_col7,#T_edec46b8_71c3_11ef_bdbb_96000040dfb6row15_col2{\n",
       "            background-color:  #21a685;\n",
       "            color:  #000000;\n",
       "        }#T_edec46b8_71c3_11ef_bdbb_96000040dfb6row8_col8{\n",
       "            background-color:  #3c4f8a;\n",
       "            color:  #f1f1f1;\n",
       "        }#T_edec46b8_71c3_11ef_bdbb_96000040dfb6row8_col9{\n",
       "            background-color:  #1fa088;\n",
       "            color:  #000000;\n",
       "        }#T_edec46b8_71c3_11ef_bdbb_96000040dfb6row8_col12{\n",
       "            background-color:  #472a7a;\n",
       "            color:  #f1f1f1;\n",
       "        }#T_edec46b8_71c3_11ef_bdbb_96000040dfb6row8_col14{\n",
       "            background-color:  #e5e419;\n",
       "            color:  #000000;\n",
       "        }#T_edec46b8_71c3_11ef_bdbb_96000040dfb6row9_col2{\n",
       "            background-color:  #2d718e;\n",
       "            color:  #f1f1f1;\n",
       "        }#T_edec46b8_71c3_11ef_bdbb_96000040dfb6row9_col3,#T_edec46b8_71c3_11ef_bdbb_96000040dfb6row11_col6{\n",
       "            background-color:  #33628d;\n",
       "            color:  #f1f1f1;\n",
       "        }#T_edec46b8_71c3_11ef_bdbb_96000040dfb6row9_col5{\n",
       "            background-color:  #453882;\n",
       "            color:  #f1f1f1;\n",
       "        }#T_edec46b8_71c3_11ef_bdbb_96000040dfb6row9_col6{\n",
       "            background-color:  #2db27d;\n",
       "            color:  #000000;\n",
       "        }#T_edec46b8_71c3_11ef_bdbb_96000040dfb6row9_col7{\n",
       "            background-color:  #3b528b;\n",
       "            color:  #f1f1f1;\n",
       "        }#T_edec46b8_71c3_11ef_bdbb_96000040dfb6row9_col8{\n",
       "            background-color:  #26818e;\n",
       "            color:  #000000;\n",
       "        }#T_edec46b8_71c3_11ef_bdbb_96000040dfb6row9_col11{\n",
       "            background-color:  #6ece58;\n",
       "            color:  #000000;\n",
       "        }#T_edec46b8_71c3_11ef_bdbb_96000040dfb6row9_col12{\n",
       "            background-color:  #481c6e;\n",
       "            color:  #f1f1f1;\n",
       "        }#T_edec46b8_71c3_11ef_bdbb_96000040dfb6row9_col13{\n",
       "            background-color:  #21a585;\n",
       "            color:  #000000;\n",
       "        }#T_edec46b8_71c3_11ef_bdbb_96000040dfb6row10_col2{\n",
       "            background-color:  #1f978b;\n",
       "            color:  #000000;\n",
       "        }#T_edec46b8_71c3_11ef_bdbb_96000040dfb6row10_col4{\n",
       "            background-color:  #b0dd2f;\n",
       "            color:  #000000;\n",
       "        }#T_edec46b8_71c3_11ef_bdbb_96000040dfb6row10_col7{\n",
       "            background-color:  #48c16e;\n",
       "            color:  #000000;\n",
       "        }#T_edec46b8_71c3_11ef_bdbb_96000040dfb6row10_col8{\n",
       "            background-color:  #404688;\n",
       "            color:  #f1f1f1;\n",
       "        }#T_edec46b8_71c3_11ef_bdbb_96000040dfb6row10_col9{\n",
       "            background-color:  #2e6e8e;\n",
       "            color:  #f1f1f1;\n",
       "        }#T_edec46b8_71c3_11ef_bdbb_96000040dfb6row10_col10{\n",
       "            background-color:  #25848e;\n",
       "            color:  #000000;\n",
       "        }#T_edec46b8_71c3_11ef_bdbb_96000040dfb6row10_col11,#T_edec46b8_71c3_11ef_bdbb_96000040dfb6row14_col4{\n",
       "            background-color:  #30698e;\n",
       "            color:  #f1f1f1;\n",
       "        }#T_edec46b8_71c3_11ef_bdbb_96000040dfb6row11_col3{\n",
       "            background-color:  #89d548;\n",
       "            color:  #000000;\n",
       "        }#T_edec46b8_71c3_11ef_bdbb_96000040dfb6row11_col7{\n",
       "            background-color:  #1fa287;\n",
       "            color:  #000000;\n",
       "        }#T_edec46b8_71c3_11ef_bdbb_96000040dfb6row11_col8{\n",
       "            background-color:  #b8de29;\n",
       "            color:  #000000;\n",
       "        }#T_edec46b8_71c3_11ef_bdbb_96000040dfb6row11_col10{\n",
       "            background-color:  #1f9e89;\n",
       "            color:  #000000;\n",
       "        }#T_edec46b8_71c3_11ef_bdbb_96000040dfb6row12_col2{\n",
       "            background-color:  #355f8d;\n",
       "            color:  #f1f1f1;\n",
       "        }#T_edec46b8_71c3_11ef_bdbb_96000040dfb6row12_col4,#T_edec46b8_71c3_11ef_bdbb_96000040dfb6row12_col10{\n",
       "            background-color:  #31668e;\n",
       "            color:  #f1f1f1;\n",
       "        }#T_edec46b8_71c3_11ef_bdbb_96000040dfb6row12_col6{\n",
       "            background-color:  #287d8e;\n",
       "            color:  #000000;\n",
       "        }#T_edec46b8_71c3_11ef_bdbb_96000040dfb6row12_col8{\n",
       "            background-color:  #5cc863;\n",
       "            color:  #000000;\n",
       "        }#T_edec46b8_71c3_11ef_bdbb_96000040dfb6row12_col9{\n",
       "            background-color:  #21908d;\n",
       "            color:  #000000;\n",
       "        }#T_edec46b8_71c3_11ef_bdbb_96000040dfb6row13_col2{\n",
       "            background-color:  #25ab82;\n",
       "            color:  #000000;\n",
       "        }#T_edec46b8_71c3_11ef_bdbb_96000040dfb6row13_col3{\n",
       "            background-color:  #3f4788;\n",
       "            color:  #f1f1f1;\n",
       "        }#T_edec46b8_71c3_11ef_bdbb_96000040dfb6row13_col4{\n",
       "            background-color:  #3f4889;\n",
       "            color:  #f1f1f1;\n",
       "        }#T_edec46b8_71c3_11ef_bdbb_96000040dfb6row13_col7{\n",
       "            background-color:  #1f948c;\n",
       "            color:  #000000;\n",
       "        }#T_edec46b8_71c3_11ef_bdbb_96000040dfb6row13_col8{\n",
       "            background-color:  #423f85;\n",
       "            color:  #f1f1f1;\n",
       "        }#T_edec46b8_71c3_11ef_bdbb_96000040dfb6row14_col2,#T_edec46b8_71c3_11ef_bdbb_96000040dfb6row14_col5{\n",
       "            background-color:  #424086;\n",
       "            color:  #f1f1f1;\n",
       "        }#T_edec46b8_71c3_11ef_bdbb_96000040dfb6row14_col3{\n",
       "            background-color:  #63cb5f;\n",
       "            color:  #000000;\n",
       "        }#T_edec46b8_71c3_11ef_bdbb_96000040dfb6row14_col6{\n",
       "            background-color:  #482878;\n",
       "            color:  #f1f1f1;\n",
       "        }#T_edec46b8_71c3_11ef_bdbb_96000040dfb6row14_col8{\n",
       "            background-color:  #1f998a;\n",
       "            color:  #000000;\n",
       "        }#T_edec46b8_71c3_11ef_bdbb_96000040dfb6row15_col3,#T_edec46b8_71c3_11ef_bdbb_96000040dfb6row16_col2{\n",
       "            background-color:  #31b57b;\n",
       "            color:  #000000;\n",
       "        }#T_edec46b8_71c3_11ef_bdbb_96000040dfb6row15_col4{\n",
       "            background-color:  #2eb37c;\n",
       "            color:  #000000;\n",
       "        }#T_edec46b8_71c3_11ef_bdbb_96000040dfb6row15_col5{\n",
       "            background-color:  #482475;\n",
       "            color:  #f1f1f1;\n",
       "        }#T_edec46b8_71c3_11ef_bdbb_96000040dfb6row16_col3{\n",
       "            background-color:  #2ab07f;\n",
       "            color:  #000000;\n",
       "        }#T_edec46b8_71c3_11ef_bdbb_96000040dfb6row16_col5{\n",
       "            background-color:  #472e7c;\n",
       "            color:  #f1f1f1;\n",
       "        }#T_edec46b8_71c3_11ef_bdbb_96000040dfb6row16_col6{\n",
       "            background-color:  #33638d;\n",
       "            color:  #f1f1f1;\n",
       "        }#T_edec46b8_71c3_11ef_bdbb_96000040dfb6row17_col2{\n",
       "            background-color:  #297a8e;\n",
       "            color:  #000000;\n",
       "        }#T_edec46b8_71c3_11ef_bdbb_96000040dfb6row17_col3{\n",
       "            background-color:  #2cb17e;\n",
       "            color:  #000000;\n",
       "        }#T_edec46b8_71c3_11ef_bdbb_96000040dfb6row17_col4{\n",
       "            background-color:  #46075a;\n",
       "            color:  #f1f1f1;\n",
       "        }#T_edec46b8_71c3_11ef_bdbb_96000040dfb6row17_col5{\n",
       "            background-color:  #46085c;\n",
       "            color:  #f1f1f1;\n",
       "        }#T_edec46b8_71c3_11ef_bdbb_96000040dfb6row19_col2{\n",
       "            background-color:  #472c7a;\n",
       "            color:  #f1f1f1;\n",
       "        }#T_edec46b8_71c3_11ef_bdbb_96000040dfb6row20_col2{\n",
       "            background-color:  #414287;\n",
       "            color:  #f1f1f1;\n",
       "        }</style><table id=\"T_edec46b8_71c3_11ef_bdbb_96000040dfb6\" ><caption>User retention by cohort</caption><thead>    <tr>        <th class=\"index_name level0\" >period</th>        <th class=\"col_heading level0 col0\" >0</th>        <th class=\"col_heading level0 col1\" >1</th>        <th class=\"col_heading level0 col2\" >2</th>        <th class=\"col_heading level0 col3\" >3</th>        <th class=\"col_heading level0 col4\" >4</th>        <th class=\"col_heading level0 col5\" >5</th>        <th class=\"col_heading level0 col6\" >6</th>        <th class=\"col_heading level0 col7\" >7</th>        <th class=\"col_heading level0 col8\" >8</th>        <th class=\"col_heading level0 col9\" >9</th>        <th class=\"col_heading level0 col10\" >10</th>        <th class=\"col_heading level0 col11\" >11</th>        <th class=\"col_heading level0 col12\" >12</th>        <th class=\"col_heading level0 col13\" >13</th>        <th class=\"col_heading level0 col14\" >14</th>        <th class=\"col_heading level0 col15\" >15</th>        <th class=\"col_heading level0 col16\" >16</th>        <th class=\"col_heading level0 col17\" >17</th>        <th class=\"col_heading level0 col18\" >19</th>        <th class=\"col_heading level0 col19\" >20</th>    </tr>    <tr>        <th class=\"index_name level0\" >cohort</th>        <th class=\"blank\" ></th>        <th class=\"blank\" ></th>        <th class=\"blank\" ></th>        <th class=\"blank\" ></th>        <th class=\"blank\" ></th>        <th class=\"blank\" ></th>        <th class=\"blank\" ></th>        <th class=\"blank\" ></th>        <th class=\"blank\" ></th>        <th class=\"blank\" ></th>        <th class=\"blank\" ></th>        <th class=\"blank\" ></th>        <th class=\"blank\" ></th>        <th class=\"blank\" ></th>        <th class=\"blank\" ></th>        <th class=\"blank\" ></th>        <th class=\"blank\" ></th>        <th class=\"blank\" ></th>        <th class=\"blank\" ></th>        <th class=\"blank\" ></th>    </tr></thead><tbody>\n",
       "                <tr>\n",
       "                        <th id=\"T_edec46b8_71c3_11ef_bdbb_96000040dfb6level0_row0\" class=\"row_heading level0 row0\" >2016-09</th>\n",
       "                        <td id=\"T_edec46b8_71c3_11ef_bdbb_96000040dfb6row0_col0\" class=\"data row0 col0\" >100.00%</td>\n",
       "                        <td id=\"T_edec46b8_71c3_11ef_bdbb_96000040dfb6row0_col1\" class=\"data row0 col1\" ></td>\n",
       "                        <td id=\"T_edec46b8_71c3_11ef_bdbb_96000040dfb6row0_col2\" class=\"data row0 col2\" ></td>\n",
       "                        <td id=\"T_edec46b8_71c3_11ef_bdbb_96000040dfb6row0_col3\" class=\"data row0 col3\" ></td>\n",
       "                        <td id=\"T_edec46b8_71c3_11ef_bdbb_96000040dfb6row0_col4\" class=\"data row0 col4\" ></td>\n",
       "                        <td id=\"T_edec46b8_71c3_11ef_bdbb_96000040dfb6row0_col5\" class=\"data row0 col5\" ></td>\n",
       "                        <td id=\"T_edec46b8_71c3_11ef_bdbb_96000040dfb6row0_col6\" class=\"data row0 col6\" ></td>\n",
       "                        <td id=\"T_edec46b8_71c3_11ef_bdbb_96000040dfb6row0_col7\" class=\"data row0 col7\" ></td>\n",
       "                        <td id=\"T_edec46b8_71c3_11ef_bdbb_96000040dfb6row0_col8\" class=\"data row0 col8\" ></td>\n",
       "                        <td id=\"T_edec46b8_71c3_11ef_bdbb_96000040dfb6row0_col9\" class=\"data row0 col9\" ></td>\n",
       "                        <td id=\"T_edec46b8_71c3_11ef_bdbb_96000040dfb6row0_col10\" class=\"data row0 col10\" ></td>\n",
       "                        <td id=\"T_edec46b8_71c3_11ef_bdbb_96000040dfb6row0_col11\" class=\"data row0 col11\" ></td>\n",
       "                        <td id=\"T_edec46b8_71c3_11ef_bdbb_96000040dfb6row0_col12\" class=\"data row0 col12\" ></td>\n",
       "                        <td id=\"T_edec46b8_71c3_11ef_bdbb_96000040dfb6row0_col13\" class=\"data row0 col13\" ></td>\n",
       "                        <td id=\"T_edec46b8_71c3_11ef_bdbb_96000040dfb6row0_col14\" class=\"data row0 col14\" ></td>\n",
       "                        <td id=\"T_edec46b8_71c3_11ef_bdbb_96000040dfb6row0_col15\" class=\"data row0 col15\" ></td>\n",
       "                        <td id=\"T_edec46b8_71c3_11ef_bdbb_96000040dfb6row0_col16\" class=\"data row0 col16\" ></td>\n",
       "                        <td id=\"T_edec46b8_71c3_11ef_bdbb_96000040dfb6row0_col17\" class=\"data row0 col17\" ></td>\n",
       "                        <td id=\"T_edec46b8_71c3_11ef_bdbb_96000040dfb6row0_col18\" class=\"data row0 col18\" ></td>\n",
       "                        <td id=\"T_edec46b8_71c3_11ef_bdbb_96000040dfb6row0_col19\" class=\"data row0 col19\" ></td>\n",
       "            </tr>\n",
       "            <tr>\n",
       "                        <th id=\"T_edec46b8_71c3_11ef_bdbb_96000040dfb6level0_row1\" class=\"row_heading level0 row1\" >2016-10</th>\n",
       "                        <td id=\"T_edec46b8_71c3_11ef_bdbb_96000040dfb6row1_col0\" class=\"data row1 col0\" >100.00%</td>\n",
       "                        <td id=\"T_edec46b8_71c3_11ef_bdbb_96000040dfb6row1_col1\" class=\"data row1 col1\" ></td>\n",
       "                        <td id=\"T_edec46b8_71c3_11ef_bdbb_96000040dfb6row1_col2\" class=\"data row1 col2\" ></td>\n",
       "                        <td id=\"T_edec46b8_71c3_11ef_bdbb_96000040dfb6row1_col3\" class=\"data row1 col3\" ></td>\n",
       "                        <td id=\"T_edec46b8_71c3_11ef_bdbb_96000040dfb6row1_col4\" class=\"data row1 col4\" ></td>\n",
       "                        <td id=\"T_edec46b8_71c3_11ef_bdbb_96000040dfb6row1_col5\" class=\"data row1 col5\" ></td>\n",
       "                        <td id=\"T_edec46b8_71c3_11ef_bdbb_96000040dfb6row1_col6\" class=\"data row1 col6\" >0.34%</td>\n",
       "                        <td id=\"T_edec46b8_71c3_11ef_bdbb_96000040dfb6row1_col7\" class=\"data row1 col7\" ></td>\n",
       "                        <td id=\"T_edec46b8_71c3_11ef_bdbb_96000040dfb6row1_col8\" class=\"data row1 col8\" ></td>\n",
       "                        <td id=\"T_edec46b8_71c3_11ef_bdbb_96000040dfb6row1_col9\" class=\"data row1 col9\" >0.34%</td>\n",
       "                        <td id=\"T_edec46b8_71c3_11ef_bdbb_96000040dfb6row1_col10\" class=\"data row1 col10\" ></td>\n",
       "                        <td id=\"T_edec46b8_71c3_11ef_bdbb_96000040dfb6row1_col11\" class=\"data row1 col11\" >0.34%</td>\n",
       "                        <td id=\"T_edec46b8_71c3_11ef_bdbb_96000040dfb6row1_col12\" class=\"data row1 col12\" ></td>\n",
       "                        <td id=\"T_edec46b8_71c3_11ef_bdbb_96000040dfb6row1_col13\" class=\"data row1 col13\" >0.34%</td>\n",
       "                        <td id=\"T_edec46b8_71c3_11ef_bdbb_96000040dfb6row1_col14\" class=\"data row1 col14\" ></td>\n",
       "                        <td id=\"T_edec46b8_71c3_11ef_bdbb_96000040dfb6row1_col15\" class=\"data row1 col15\" >0.34%</td>\n",
       "                        <td id=\"T_edec46b8_71c3_11ef_bdbb_96000040dfb6row1_col16\" class=\"data row1 col16\" ></td>\n",
       "                        <td id=\"T_edec46b8_71c3_11ef_bdbb_96000040dfb6row1_col17\" class=\"data row1 col17\" >0.34%</td>\n",
       "                        <td id=\"T_edec46b8_71c3_11ef_bdbb_96000040dfb6row1_col18\" class=\"data row1 col18\" >0.69%</td>\n",
       "                        <td id=\"T_edec46b8_71c3_11ef_bdbb_96000040dfb6row1_col19\" class=\"data row1 col19\" >0.69%</td>\n",
       "            </tr>\n",
       "            <tr>\n",
       "                        <th id=\"T_edec46b8_71c3_11ef_bdbb_96000040dfb6level0_row2\" class=\"row_heading level0 row2\" >2016-12</th>\n",
       "                        <td id=\"T_edec46b8_71c3_11ef_bdbb_96000040dfb6row2_col0\" class=\"data row2 col0\" >100.00%</td>\n",
       "                        <td id=\"T_edec46b8_71c3_11ef_bdbb_96000040dfb6row2_col1\" class=\"data row2 col1\" >100.00%</td>\n",
       "                        <td id=\"T_edec46b8_71c3_11ef_bdbb_96000040dfb6row2_col2\" class=\"data row2 col2\" ></td>\n",
       "                        <td id=\"T_edec46b8_71c3_11ef_bdbb_96000040dfb6row2_col3\" class=\"data row2 col3\" ></td>\n",
       "                        <td id=\"T_edec46b8_71c3_11ef_bdbb_96000040dfb6row2_col4\" class=\"data row2 col4\" ></td>\n",
       "                        <td id=\"T_edec46b8_71c3_11ef_bdbb_96000040dfb6row2_col5\" class=\"data row2 col5\" ></td>\n",
       "                        <td id=\"T_edec46b8_71c3_11ef_bdbb_96000040dfb6row2_col6\" class=\"data row2 col6\" ></td>\n",
       "                        <td id=\"T_edec46b8_71c3_11ef_bdbb_96000040dfb6row2_col7\" class=\"data row2 col7\" ></td>\n",
       "                        <td id=\"T_edec46b8_71c3_11ef_bdbb_96000040dfb6row2_col8\" class=\"data row2 col8\" ></td>\n",
       "                        <td id=\"T_edec46b8_71c3_11ef_bdbb_96000040dfb6row2_col9\" class=\"data row2 col9\" ></td>\n",
       "                        <td id=\"T_edec46b8_71c3_11ef_bdbb_96000040dfb6row2_col10\" class=\"data row2 col10\" ></td>\n",
       "                        <td id=\"T_edec46b8_71c3_11ef_bdbb_96000040dfb6row2_col11\" class=\"data row2 col11\" ></td>\n",
       "                        <td id=\"T_edec46b8_71c3_11ef_bdbb_96000040dfb6row2_col12\" class=\"data row2 col12\" ></td>\n",
       "                        <td id=\"T_edec46b8_71c3_11ef_bdbb_96000040dfb6row2_col13\" class=\"data row2 col13\" ></td>\n",
       "                        <td id=\"T_edec46b8_71c3_11ef_bdbb_96000040dfb6row2_col14\" class=\"data row2 col14\" ></td>\n",
       "                        <td id=\"T_edec46b8_71c3_11ef_bdbb_96000040dfb6row2_col15\" class=\"data row2 col15\" ></td>\n",
       "                        <td id=\"T_edec46b8_71c3_11ef_bdbb_96000040dfb6row2_col16\" class=\"data row2 col16\" ></td>\n",
       "                        <td id=\"T_edec46b8_71c3_11ef_bdbb_96000040dfb6row2_col17\" class=\"data row2 col17\" ></td>\n",
       "                        <td id=\"T_edec46b8_71c3_11ef_bdbb_96000040dfb6row2_col18\" class=\"data row2 col18\" ></td>\n",
       "                        <td id=\"T_edec46b8_71c3_11ef_bdbb_96000040dfb6row2_col19\" class=\"data row2 col19\" ></td>\n",
       "            </tr>\n",
       "            <tr>\n",
       "                        <th id=\"T_edec46b8_71c3_11ef_bdbb_96000040dfb6level0_row3\" class=\"row_heading level0 row3\" >2017-01</th>\n",
       "                        <td id=\"T_edec46b8_71c3_11ef_bdbb_96000040dfb6row3_col0\" class=\"data row3 col0\" >100.00%</td>\n",
       "                        <td id=\"T_edec46b8_71c3_11ef_bdbb_96000040dfb6row3_col1\" class=\"data row3 col1\" >0.56%</td>\n",
       "                        <td id=\"T_edec46b8_71c3_11ef_bdbb_96000040dfb6row3_col2\" class=\"data row3 col2\" >0.28%</td>\n",
       "                        <td id=\"T_edec46b8_71c3_11ef_bdbb_96000040dfb6row3_col3\" class=\"data row3 col3\" >0.14%</td>\n",
       "                        <td id=\"T_edec46b8_71c3_11ef_bdbb_96000040dfb6row3_col4\" class=\"data row3 col4\" >0.42%</td>\n",
       "                        <td id=\"T_edec46b8_71c3_11ef_bdbb_96000040dfb6row3_col5\" class=\"data row3 col5\" >0.14%</td>\n",
       "                        <td id=\"T_edec46b8_71c3_11ef_bdbb_96000040dfb6row3_col6\" class=\"data row3 col6\" >0.42%</td>\n",
       "                        <td id=\"T_edec46b8_71c3_11ef_bdbb_96000040dfb6row3_col7\" class=\"data row3 col7\" >0.14%</td>\n",
       "                        <td id=\"T_edec46b8_71c3_11ef_bdbb_96000040dfb6row3_col8\" class=\"data row3 col8\" >0.14%</td>\n",
       "                        <td id=\"T_edec46b8_71c3_11ef_bdbb_96000040dfb6row3_col9\" class=\"data row3 col9\" ></td>\n",
       "                        <td id=\"T_edec46b8_71c3_11ef_bdbb_96000040dfb6row3_col10\" class=\"data row3 col10\" >0.28%</td>\n",
       "                        <td id=\"T_edec46b8_71c3_11ef_bdbb_96000040dfb6row3_col11\" class=\"data row3 col11\" >0.28%</td>\n",
       "                        <td id=\"T_edec46b8_71c3_11ef_bdbb_96000040dfb6row3_col12\" class=\"data row3 col12\" >0.70%</td>\n",
       "                        <td id=\"T_edec46b8_71c3_11ef_bdbb_96000040dfb6row3_col13\" class=\"data row3 col13\" >0.42%</td>\n",
       "                        <td id=\"T_edec46b8_71c3_11ef_bdbb_96000040dfb6row3_col14\" class=\"data row3 col14\" >0.14%</td>\n",
       "                        <td id=\"T_edec46b8_71c3_11ef_bdbb_96000040dfb6row3_col15\" class=\"data row3 col15\" >0.14%</td>\n",
       "                        <td id=\"T_edec46b8_71c3_11ef_bdbb_96000040dfb6row3_col16\" class=\"data row3 col16\" >0.28%</td>\n",
       "                        <td id=\"T_edec46b8_71c3_11ef_bdbb_96000040dfb6row3_col17\" class=\"data row3 col17\" >0.42%</td>\n",
       "                        <td id=\"T_edec46b8_71c3_11ef_bdbb_96000040dfb6row3_col18\" class=\"data row3 col18\" >0.14%</td>\n",
       "                        <td id=\"T_edec46b8_71c3_11ef_bdbb_96000040dfb6row3_col19\" class=\"data row3 col19\" ></td>\n",
       "            </tr>\n",
       "            <tr>\n",
       "                        <th id=\"T_edec46b8_71c3_11ef_bdbb_96000040dfb6level0_row4\" class=\"row_heading level0 row4\" >2017-02</th>\n",
       "                        <td id=\"T_edec46b8_71c3_11ef_bdbb_96000040dfb6row4_col0\" class=\"data row4 col0\" >100.00%</td>\n",
       "                        <td id=\"T_edec46b8_71c3_11ef_bdbb_96000040dfb6row4_col1\" class=\"data row4 col1\" >0.24%</td>\n",
       "                        <td id=\"T_edec46b8_71c3_11ef_bdbb_96000040dfb6row4_col2\" class=\"data row4 col2\" >0.24%</td>\n",
       "                        <td id=\"T_edec46b8_71c3_11ef_bdbb_96000040dfb6row4_col3\" class=\"data row4 col3\" >0.18%</td>\n",
       "                        <td id=\"T_edec46b8_71c3_11ef_bdbb_96000040dfb6row4_col4\" class=\"data row4 col4\" >0.42%</td>\n",
       "                        <td id=\"T_edec46b8_71c3_11ef_bdbb_96000040dfb6row4_col5\" class=\"data row4 col5\" >0.12%</td>\n",
       "                        <td id=\"T_edec46b8_71c3_11ef_bdbb_96000040dfb6row4_col6\" class=\"data row4 col6\" >0.24%</td>\n",
       "                        <td id=\"T_edec46b8_71c3_11ef_bdbb_96000040dfb6row4_col7\" class=\"data row4 col7\" >0.18%</td>\n",
       "                        <td id=\"T_edec46b8_71c3_11ef_bdbb_96000040dfb6row4_col8\" class=\"data row4 col8\" >0.06%</td>\n",
       "                        <td id=\"T_edec46b8_71c3_11ef_bdbb_96000040dfb6row4_col9\" class=\"data row4 col9\" >0.18%</td>\n",
       "                        <td id=\"T_edec46b8_71c3_11ef_bdbb_96000040dfb6row4_col10\" class=\"data row4 col10\" >0.12%</td>\n",
       "                        <td id=\"T_edec46b8_71c3_11ef_bdbb_96000040dfb6row4_col11\" class=\"data row4 col11\" >0.30%</td>\n",
       "                        <td id=\"T_edec46b8_71c3_11ef_bdbb_96000040dfb6row4_col12\" class=\"data row4 col12\" >0.12%</td>\n",
       "                        <td id=\"T_edec46b8_71c3_11ef_bdbb_96000040dfb6row4_col13\" class=\"data row4 col13\" >0.18%</td>\n",
       "                        <td id=\"T_edec46b8_71c3_11ef_bdbb_96000040dfb6row4_col14\" class=\"data row4 col14\" >0.12%</td>\n",
       "                        <td id=\"T_edec46b8_71c3_11ef_bdbb_96000040dfb6row4_col15\" class=\"data row4 col15\" >0.06%</td>\n",
       "                        <td id=\"T_edec46b8_71c3_11ef_bdbb_96000040dfb6row4_col16\" class=\"data row4 col16\" >0.06%</td>\n",
       "                        <td id=\"T_edec46b8_71c3_11ef_bdbb_96000040dfb6row4_col17\" class=\"data row4 col17\" >0.24%</td>\n",
       "                        <td id=\"T_edec46b8_71c3_11ef_bdbb_96000040dfb6row4_col18\" class=\"data row4 col18\" ></td>\n",
       "                        <td id=\"T_edec46b8_71c3_11ef_bdbb_96000040dfb6row4_col19\" class=\"data row4 col19\" ></td>\n",
       "            </tr>\n",
       "            <tr>\n",
       "                        <th id=\"T_edec46b8_71c3_11ef_bdbb_96000040dfb6level0_row5\" class=\"row_heading level0 row5\" >2017-03</th>\n",
       "                        <td id=\"T_edec46b8_71c3_11ef_bdbb_96000040dfb6row5_col0\" class=\"data row5 col0\" >100.00%</td>\n",
       "                        <td id=\"T_edec46b8_71c3_11ef_bdbb_96000040dfb6row5_col1\" class=\"data row5 col1\" >0.50%</td>\n",
       "                        <td id=\"T_edec46b8_71c3_11ef_bdbb_96000040dfb6row5_col2\" class=\"data row5 col2\" >0.35%</td>\n",
       "                        <td id=\"T_edec46b8_71c3_11ef_bdbb_96000040dfb6row5_col3\" class=\"data row5 col3\" >0.35%</td>\n",
       "                        <td id=\"T_edec46b8_71c3_11ef_bdbb_96000040dfb6row5_col4\" class=\"data row5 col4\" >0.35%</td>\n",
       "                        <td id=\"T_edec46b8_71c3_11ef_bdbb_96000040dfb6row5_col5\" class=\"data row5 col5\" >0.16%</td>\n",
       "                        <td id=\"T_edec46b8_71c3_11ef_bdbb_96000040dfb6row5_col6\" class=\"data row5 col6\" >0.16%</td>\n",
       "                        <td id=\"T_edec46b8_71c3_11ef_bdbb_96000040dfb6row5_col7\" class=\"data row5 col7\" >0.31%</td>\n",
       "                        <td id=\"T_edec46b8_71c3_11ef_bdbb_96000040dfb6row5_col8\" class=\"data row5 col8\" >0.31%</td>\n",
       "                        <td id=\"T_edec46b8_71c3_11ef_bdbb_96000040dfb6row5_col9\" class=\"data row5 col9\" >0.12%</td>\n",
       "                        <td id=\"T_edec46b8_71c3_11ef_bdbb_96000040dfb6row5_col10\" class=\"data row5 col10\" >0.39%</td>\n",
       "                        <td id=\"T_edec46b8_71c3_11ef_bdbb_96000040dfb6row5_col11\" class=\"data row5 col11\" >0.12%</td>\n",
       "                        <td id=\"T_edec46b8_71c3_11ef_bdbb_96000040dfb6row5_col12\" class=\"data row5 col12\" >0.23%</td>\n",
       "                        <td id=\"T_edec46b8_71c3_11ef_bdbb_96000040dfb6row5_col13\" class=\"data row5 col13\" >0.12%</td>\n",
       "                        <td id=\"T_edec46b8_71c3_11ef_bdbb_96000040dfb6row5_col14\" class=\"data row5 col14\" >0.16%</td>\n",
       "                        <td id=\"T_edec46b8_71c3_11ef_bdbb_96000040dfb6row5_col15\" class=\"data row5 col15\" >0.23%</td>\n",
       "                        <td id=\"T_edec46b8_71c3_11ef_bdbb_96000040dfb6row5_col16\" class=\"data row5 col16\" >0.08%</td>\n",
       "                        <td id=\"T_edec46b8_71c3_11ef_bdbb_96000040dfb6row5_col17\" class=\"data row5 col17\" >0.16%</td>\n",
       "                        <td id=\"T_edec46b8_71c3_11ef_bdbb_96000040dfb6row5_col18\" class=\"data row5 col18\" ></td>\n",
       "                        <td id=\"T_edec46b8_71c3_11ef_bdbb_96000040dfb6row5_col19\" class=\"data row5 col19\" ></td>\n",
       "            </tr>\n",
       "            <tr>\n",
       "                        <th id=\"T_edec46b8_71c3_11ef_bdbb_96000040dfb6level0_row6\" class=\"row_heading level0 row6\" >2017-04</th>\n",
       "                        <td id=\"T_edec46b8_71c3_11ef_bdbb_96000040dfb6row6_col0\" class=\"data row6 col0\" >100.00%</td>\n",
       "                        <td id=\"T_edec46b8_71c3_11ef_bdbb_96000040dfb6row6_col1\" class=\"data row6 col1\" >0.61%</td>\n",
       "                        <td id=\"T_edec46b8_71c3_11ef_bdbb_96000040dfb6row6_col2\" class=\"data row6 col2\" >0.22%</td>\n",
       "                        <td id=\"T_edec46b8_71c3_11ef_bdbb_96000040dfb6row6_col3\" class=\"data row6 col3\" >0.17%</td>\n",
       "                        <td id=\"T_edec46b8_71c3_11ef_bdbb_96000040dfb6row6_col4\" class=\"data row6 col4\" >0.26%</td>\n",
       "                        <td id=\"T_edec46b8_71c3_11ef_bdbb_96000040dfb6row6_col5\" class=\"data row6 col5\" >0.26%</td>\n",
       "                        <td id=\"T_edec46b8_71c3_11ef_bdbb_96000040dfb6row6_col6\" class=\"data row6 col6\" >0.35%</td>\n",
       "                        <td id=\"T_edec46b8_71c3_11ef_bdbb_96000040dfb6row6_col7\" class=\"data row6 col7\" >0.26%</td>\n",
       "                        <td id=\"T_edec46b8_71c3_11ef_bdbb_96000040dfb6row6_col8\" class=\"data row6 col8\" >0.35%</td>\n",
       "                        <td id=\"T_edec46b8_71c3_11ef_bdbb_96000040dfb6row6_col9\" class=\"data row6 col9\" >0.17%</td>\n",
       "                        <td id=\"T_edec46b8_71c3_11ef_bdbb_96000040dfb6row6_col10\" class=\"data row6 col10\" >0.22%</td>\n",
       "                        <td id=\"T_edec46b8_71c3_11ef_bdbb_96000040dfb6row6_col11\" class=\"data row6 col11\" >0.09%</td>\n",
       "                        <td id=\"T_edec46b8_71c3_11ef_bdbb_96000040dfb6row6_col12\" class=\"data row6 col12\" >0.09%</td>\n",
       "                        <td id=\"T_edec46b8_71c3_11ef_bdbb_96000040dfb6row6_col13\" class=\"data row6 col13\" >0.04%</td>\n",
       "                        <td id=\"T_edec46b8_71c3_11ef_bdbb_96000040dfb6row6_col14\" class=\"data row6 col14\" >0.09%</td>\n",
       "                        <td id=\"T_edec46b8_71c3_11ef_bdbb_96000040dfb6row6_col15\" class=\"data row6 col15\" >0.09%</td>\n",
       "                        <td id=\"T_edec46b8_71c3_11ef_bdbb_96000040dfb6row6_col16\" class=\"data row6 col16\" >0.13%</td>\n",
       "                        <td id=\"T_edec46b8_71c3_11ef_bdbb_96000040dfb6row6_col17\" class=\"data row6 col17\" ></td>\n",
       "                        <td id=\"T_edec46b8_71c3_11ef_bdbb_96000040dfb6row6_col18\" class=\"data row6 col18\" ></td>\n",
       "                        <td id=\"T_edec46b8_71c3_11ef_bdbb_96000040dfb6row6_col19\" class=\"data row6 col19\" ></td>\n",
       "            </tr>\n",
       "            <tr>\n",
       "                        <th id=\"T_edec46b8_71c3_11ef_bdbb_96000040dfb6level0_row7\" class=\"row_heading level0 row7\" >2017-05</th>\n",
       "                        <td id=\"T_edec46b8_71c3_11ef_bdbb_96000040dfb6row7_col0\" class=\"data row7 col0\" >100.00%</td>\n",
       "                        <td id=\"T_edec46b8_71c3_11ef_bdbb_96000040dfb6row7_col1\" class=\"data row7 col1\" >0.54%</td>\n",
       "                        <td id=\"T_edec46b8_71c3_11ef_bdbb_96000040dfb6row7_col2\" class=\"data row7 col2\" >0.48%</td>\n",
       "                        <td id=\"T_edec46b8_71c3_11ef_bdbb_96000040dfb6row7_col3\" class=\"data row7 col3\" >0.40%</td>\n",
       "                        <td id=\"T_edec46b8_71c3_11ef_bdbb_96000040dfb6row7_col4\" class=\"data row7 col4\" >0.31%</td>\n",
       "                        <td id=\"T_edec46b8_71c3_11ef_bdbb_96000040dfb6row7_col5\" class=\"data row7 col5\" >0.34%</td>\n",
       "                        <td id=\"T_edec46b8_71c3_11ef_bdbb_96000040dfb6row7_col6\" class=\"data row7 col6\" >0.42%</td>\n",
       "                        <td id=\"T_edec46b8_71c3_11ef_bdbb_96000040dfb6row7_col7\" class=\"data row7 col7\" >0.14%</td>\n",
       "                        <td id=\"T_edec46b8_71c3_11ef_bdbb_96000040dfb6row7_col8\" class=\"data row7 col8\" >0.25%</td>\n",
       "                        <td id=\"T_edec46b8_71c3_11ef_bdbb_96000040dfb6row7_col9\" class=\"data row7 col9\" >0.25%</td>\n",
       "                        <td id=\"T_edec46b8_71c3_11ef_bdbb_96000040dfb6row7_col10\" class=\"data row7 col10\" >0.28%</td>\n",
       "                        <td id=\"T_edec46b8_71c3_11ef_bdbb_96000040dfb6row7_col11\" class=\"data row7 col11\" >0.34%</td>\n",
       "                        <td id=\"T_edec46b8_71c3_11ef_bdbb_96000040dfb6row7_col12\" class=\"data row7 col12\" >0.20%</td>\n",
       "                        <td id=\"T_edec46b8_71c3_11ef_bdbb_96000040dfb6row7_col13\" class=\"data row7 col13\" >0.06%</td>\n",
       "                        <td id=\"T_edec46b8_71c3_11ef_bdbb_96000040dfb6row7_col14\" class=\"data row7 col14\" >0.20%</td>\n",
       "                        <td id=\"T_edec46b8_71c3_11ef_bdbb_96000040dfb6row7_col15\" class=\"data row7 col15\" >0.23%</td>\n",
       "                        <td id=\"T_edec46b8_71c3_11ef_bdbb_96000040dfb6row7_col16\" class=\"data row7 col16\" ></td>\n",
       "                        <td id=\"T_edec46b8_71c3_11ef_bdbb_96000040dfb6row7_col17\" class=\"data row7 col17\" ></td>\n",
       "                        <td id=\"T_edec46b8_71c3_11ef_bdbb_96000040dfb6row7_col18\" class=\"data row7 col18\" ></td>\n",
       "                        <td id=\"T_edec46b8_71c3_11ef_bdbb_96000040dfb6row7_col19\" class=\"data row7 col19\" ></td>\n",
       "            </tr>\n",
       "            <tr>\n",
       "                        <th id=\"T_edec46b8_71c3_11ef_bdbb_96000040dfb6level0_row8\" class=\"row_heading level0 row8\" >2017-06</th>\n",
       "                        <td id=\"T_edec46b8_71c3_11ef_bdbb_96000040dfb6row8_col0\" class=\"data row8 col0\" >100.00%</td>\n",
       "                        <td id=\"T_edec46b8_71c3_11ef_bdbb_96000040dfb6row8_col1\" class=\"data row8 col1\" >0.45%</td>\n",
       "                        <td id=\"T_edec46b8_71c3_11ef_bdbb_96000040dfb6row8_col2\" class=\"data row8 col2\" >0.35%</td>\n",
       "                        <td id=\"T_edec46b8_71c3_11ef_bdbb_96000040dfb6row8_col3\" class=\"data row8 col3\" >0.39%</td>\n",
       "                        <td id=\"T_edec46b8_71c3_11ef_bdbb_96000040dfb6row8_col4\" class=\"data row8 col4\" >0.26%</td>\n",
       "                        <td id=\"T_edec46b8_71c3_11ef_bdbb_96000040dfb6row8_col5\" class=\"data row8 col5\" >0.35%</td>\n",
       "                        <td id=\"T_edec46b8_71c3_11ef_bdbb_96000040dfb6row8_col6\" class=\"data row8 col6\" >0.35%</td>\n",
       "                        <td id=\"T_edec46b8_71c3_11ef_bdbb_96000040dfb6row8_col7\" class=\"data row8 col7\" >0.23%</td>\n",
       "                        <td id=\"T_edec46b8_71c3_11ef_bdbb_96000040dfb6row8_col8\" class=\"data row8 col8\" >0.13%</td>\n",
       "                        <td id=\"T_edec46b8_71c3_11ef_bdbb_96000040dfb6row8_col9\" class=\"data row8 col9\" >0.23%</td>\n",
       "                        <td id=\"T_edec46b8_71c3_11ef_bdbb_96000040dfb6row8_col10\" class=\"data row8 col10\" >0.32%</td>\n",
       "                        <td id=\"T_edec46b8_71c3_11ef_bdbb_96000040dfb6row8_col11\" class=\"data row8 col11\" >0.35%</td>\n",
       "                        <td id=\"T_edec46b8_71c3_11ef_bdbb_96000040dfb6row8_col12\" class=\"data row8 col12\" >0.16%</td>\n",
       "                        <td id=\"T_edec46b8_71c3_11ef_bdbb_96000040dfb6row8_col13\" class=\"data row8 col13\" >0.13%</td>\n",
       "                        <td id=\"T_edec46b8_71c3_11ef_bdbb_96000040dfb6row8_col14\" class=\"data row8 col14\" >0.19%</td>\n",
       "                        <td id=\"T_edec46b8_71c3_11ef_bdbb_96000040dfb6row8_col15\" class=\"data row8 col15\" ></td>\n",
       "                        <td id=\"T_edec46b8_71c3_11ef_bdbb_96000040dfb6row8_col16\" class=\"data row8 col16\" ></td>\n",
       "                        <td id=\"T_edec46b8_71c3_11ef_bdbb_96000040dfb6row8_col17\" class=\"data row8 col17\" ></td>\n",
       "                        <td id=\"T_edec46b8_71c3_11ef_bdbb_96000040dfb6row8_col18\" class=\"data row8 col18\" ></td>\n",
       "                        <td id=\"T_edec46b8_71c3_11ef_bdbb_96000040dfb6row8_col19\" class=\"data row8 col19\" ></td>\n",
       "            </tr>\n",
       "            <tr>\n",
       "                        <th id=\"T_edec46b8_71c3_11ef_bdbb_96000040dfb6level0_row9\" class=\"row_heading level0 row9\" >2017-07</th>\n",
       "                        <td id=\"T_edec46b8_71c3_11ef_bdbb_96000040dfb6row9_col0\" class=\"data row9 col0\" >100.00%</td>\n",
       "                        <td id=\"T_edec46b8_71c3_11ef_bdbb_96000040dfb6row9_col1\" class=\"data row9 col1\" >0.53%</td>\n",
       "                        <td id=\"T_edec46b8_71c3_11ef_bdbb_96000040dfb6row9_col2\" class=\"data row9 col2\" >0.32%</td>\n",
       "                        <td id=\"T_edec46b8_71c3_11ef_bdbb_96000040dfb6row9_col3\" class=\"data row9 col3\" >0.19%</td>\n",
       "                        <td id=\"T_edec46b8_71c3_11ef_bdbb_96000040dfb6row9_col4\" class=\"data row9 col4\" >0.34%</td>\n",
       "                        <td id=\"T_edec46b8_71c3_11ef_bdbb_96000040dfb6row9_col5\" class=\"data row9 col5\" >0.19%</td>\n",
       "                        <td id=\"T_edec46b8_71c3_11ef_bdbb_96000040dfb6row9_col6\" class=\"data row9 col6\" >0.32%</td>\n",
       "                        <td id=\"T_edec46b8_71c3_11ef_bdbb_96000040dfb6row9_col7\" class=\"data row9 col7\" >0.11%</td>\n",
       "                        <td id=\"T_edec46b8_71c3_11ef_bdbb_96000040dfb6row9_col8\" class=\"data row9 col8\" >0.19%</td>\n",
       "                        <td id=\"T_edec46b8_71c3_11ef_bdbb_96000040dfb6row9_col9\" class=\"data row9 col9\" >0.24%</td>\n",
       "                        <td id=\"T_edec46b8_71c3_11ef_bdbb_96000040dfb6row9_col10\" class=\"data row9 col10\" >0.21%</td>\n",
       "                        <td id=\"T_edec46b8_71c3_11ef_bdbb_96000040dfb6row9_col11\" class=\"data row9 col11\" >0.29%</td>\n",
       "                        <td id=\"T_edec46b8_71c3_11ef_bdbb_96000040dfb6row9_col12\" class=\"data row9 col12\" >0.13%</td>\n",
       "                        <td id=\"T_edec46b8_71c3_11ef_bdbb_96000040dfb6row9_col13\" class=\"data row9 col13\" >0.26%</td>\n",
       "                        <td id=\"T_edec46b8_71c3_11ef_bdbb_96000040dfb6row9_col14\" class=\"data row9 col14\" ></td>\n",
       "                        <td id=\"T_edec46b8_71c3_11ef_bdbb_96000040dfb6row9_col15\" class=\"data row9 col15\" ></td>\n",
       "                        <td id=\"T_edec46b8_71c3_11ef_bdbb_96000040dfb6row9_col16\" class=\"data row9 col16\" ></td>\n",
       "                        <td id=\"T_edec46b8_71c3_11ef_bdbb_96000040dfb6row9_col17\" class=\"data row9 col17\" ></td>\n",
       "                        <td id=\"T_edec46b8_71c3_11ef_bdbb_96000040dfb6row9_col18\" class=\"data row9 col18\" ></td>\n",
       "                        <td id=\"T_edec46b8_71c3_11ef_bdbb_96000040dfb6row9_col19\" class=\"data row9 col19\" ></td>\n",
       "            </tr>\n",
       "            <tr>\n",
       "                        <th id=\"T_edec46b8_71c3_11ef_bdbb_96000040dfb6level0_row10\" class=\"row_heading level0 row10\" >2017-08</th>\n",
       "                        <td id=\"T_edec46b8_71c3_11ef_bdbb_96000040dfb6row10_col0\" class=\"data row10 col0\" >100.00%</td>\n",
       "                        <td id=\"T_edec46b8_71c3_11ef_bdbb_96000040dfb6row10_col1\" class=\"data row10 col1\" >0.67%</td>\n",
       "                        <td id=\"T_edec46b8_71c3_11ef_bdbb_96000040dfb6row10_col2\" class=\"data row10 col2\" >0.36%</td>\n",
       "                        <td id=\"T_edec46b8_71c3_11ef_bdbb_96000040dfb6row10_col3\" class=\"data row10 col3\" >0.26%</td>\n",
       "                        <td id=\"T_edec46b8_71c3_11ef_bdbb_96000040dfb6row10_col4\" class=\"data row10 col4\" >0.39%</td>\n",
       "                        <td id=\"T_edec46b8_71c3_11ef_bdbb_96000040dfb6row10_col5\" class=\"data row10 col5\" >0.53%</td>\n",
       "                        <td id=\"T_edec46b8_71c3_11ef_bdbb_96000040dfb6row10_col6\" class=\"data row10 col6\" >0.26%</td>\n",
       "                        <td id=\"T_edec46b8_71c3_11ef_bdbb_96000040dfb6row10_col7\" class=\"data row10 col7\" >0.26%</td>\n",
       "                        <td id=\"T_edec46b8_71c3_11ef_bdbb_96000040dfb6row10_col8\" class=\"data row10 col8\" >0.12%</td>\n",
       "                        <td id=\"T_edec46b8_71c3_11ef_bdbb_96000040dfb6row10_col9\" class=\"data row10 col9\" >0.17%</td>\n",
       "                        <td id=\"T_edec46b8_71c3_11ef_bdbb_96000040dfb6row10_col10\" class=\"data row10 col10\" >0.24%</td>\n",
       "                        <td id=\"T_edec46b8_71c3_11ef_bdbb_96000040dfb6row10_col11\" class=\"data row10 col11\" >0.17%</td>\n",
       "                        <td id=\"T_edec46b8_71c3_11ef_bdbb_96000040dfb6row10_col12\" class=\"data row10 col12\" >0.14%</td>\n",
       "                        <td id=\"T_edec46b8_71c3_11ef_bdbb_96000040dfb6row10_col13\" class=\"data row10 col13\" ></td>\n",
       "                        <td id=\"T_edec46b8_71c3_11ef_bdbb_96000040dfb6row10_col14\" class=\"data row10 col14\" ></td>\n",
       "                        <td id=\"T_edec46b8_71c3_11ef_bdbb_96000040dfb6row10_col15\" class=\"data row10 col15\" ></td>\n",
       "                        <td id=\"T_edec46b8_71c3_11ef_bdbb_96000040dfb6row10_col16\" class=\"data row10 col16\" ></td>\n",
       "                        <td id=\"T_edec46b8_71c3_11ef_bdbb_96000040dfb6row10_col17\" class=\"data row10 col17\" ></td>\n",
       "                        <td id=\"T_edec46b8_71c3_11ef_bdbb_96000040dfb6row10_col18\" class=\"data row10 col18\" ></td>\n",
       "                        <td id=\"T_edec46b8_71c3_11ef_bdbb_96000040dfb6row10_col19\" class=\"data row10 col19\" ></td>\n",
       "            </tr>\n",
       "            <tr>\n",
       "                        <th id=\"T_edec46b8_71c3_11ef_bdbb_96000040dfb6level0_row11\" class=\"row_heading level0 row11\" >2017-09</th>\n",
       "                        <td id=\"T_edec46b8_71c3_11ef_bdbb_96000040dfb6row11_col0\" class=\"data row11 col0\" >100.00%</td>\n",
       "                        <td id=\"T_edec46b8_71c3_11ef_bdbb_96000040dfb6row11_col1\" class=\"data row11 col1\" >0.66%</td>\n",
       "                        <td id=\"T_edec46b8_71c3_11ef_bdbb_96000040dfb6row11_col2\" class=\"data row11 col2\" >0.49%</td>\n",
       "                        <td id=\"T_edec46b8_71c3_11ef_bdbb_96000040dfb6row11_col3\" class=\"data row11 col3\" >0.34%</td>\n",
       "                        <td id=\"T_edec46b8_71c3_11ef_bdbb_96000040dfb6row11_col4\" class=\"data row11 col4\" >0.41%</td>\n",
       "                        <td id=\"T_edec46b8_71c3_11ef_bdbb_96000040dfb6row11_col5\" class=\"data row11 col5\" >0.27%</td>\n",
       "                        <td id=\"T_edec46b8_71c3_11ef_bdbb_96000040dfb6row11_col6\" class=\"data row11 col6\" >0.22%</td>\n",
       "                        <td id=\"T_edec46b8_71c3_11ef_bdbb_96000040dfb6row11_col7\" class=\"data row11 col7\" >0.22%</td>\n",
       "                        <td id=\"T_edec46b8_71c3_11ef_bdbb_96000040dfb6row11_col8\" class=\"data row11 col8\" >0.32%</td>\n",
       "                        <td id=\"T_edec46b8_71c3_11ef_bdbb_96000040dfb6row11_col9\" class=\"data row11 col9\" >0.17%</td>\n",
       "                        <td id=\"T_edec46b8_71c3_11ef_bdbb_96000040dfb6row11_col10\" class=\"data row11 col10\" >0.27%</td>\n",
       "                        <td id=\"T_edec46b8_71c3_11ef_bdbb_96000040dfb6row11_col11\" class=\"data row11 col11\" >0.07%</td>\n",
       "                        <td id=\"T_edec46b8_71c3_11ef_bdbb_96000040dfb6row11_col12\" class=\"data row11 col12\" ></td>\n",
       "                        <td id=\"T_edec46b8_71c3_11ef_bdbb_96000040dfb6row11_col13\" class=\"data row11 col13\" ></td>\n",
       "                        <td id=\"T_edec46b8_71c3_11ef_bdbb_96000040dfb6row11_col14\" class=\"data row11 col14\" ></td>\n",
       "                        <td id=\"T_edec46b8_71c3_11ef_bdbb_96000040dfb6row11_col15\" class=\"data row11 col15\" ></td>\n",
       "                        <td id=\"T_edec46b8_71c3_11ef_bdbb_96000040dfb6row11_col16\" class=\"data row11 col16\" ></td>\n",
       "                        <td id=\"T_edec46b8_71c3_11ef_bdbb_96000040dfb6row11_col17\" class=\"data row11 col17\" ></td>\n",
       "                        <td id=\"T_edec46b8_71c3_11ef_bdbb_96000040dfb6row11_col18\" class=\"data row11 col18\" ></td>\n",
       "                        <td id=\"T_edec46b8_71c3_11ef_bdbb_96000040dfb6row11_col19\" class=\"data row11 col19\" ></td>\n",
       "            </tr>\n",
       "            <tr>\n",
       "                        <th id=\"T_edec46b8_71c3_11ef_bdbb_96000040dfb6level0_row12\" class=\"row_heading level0 row12\" >2017-10</th>\n",
       "                        <td id=\"T_edec46b8_71c3_11ef_bdbb_96000040dfb6row12_col0\" class=\"data row12 col0\" >100.00%</td>\n",
       "                        <td id=\"T_edec46b8_71c3_11ef_bdbb_96000040dfb6row12_col1\" class=\"data row12 col1\" >0.69%</td>\n",
       "                        <td id=\"T_edec46b8_71c3_11ef_bdbb_96000040dfb6row12_col2\" class=\"data row12 col2\" >0.30%</td>\n",
       "                        <td id=\"T_edec46b8_71c3_11ef_bdbb_96000040dfb6row12_col3\" class=\"data row12 col3\" >0.09%</td>\n",
       "                        <td id=\"T_edec46b8_71c3_11ef_bdbb_96000040dfb6row12_col4\" class=\"data row12 col4\" >0.23%</td>\n",
       "                        <td id=\"T_edec46b8_71c3_11ef_bdbb_96000040dfb6row12_col5\" class=\"data row12 col5\" >0.18%</td>\n",
       "                        <td id=\"T_edec46b8_71c3_11ef_bdbb_96000040dfb6row12_col6\" class=\"data row12 col6\" >0.25%</td>\n",
       "                        <td id=\"T_edec46b8_71c3_11ef_bdbb_96000040dfb6row12_col7\" class=\"data row12 col7\" >0.37%</td>\n",
       "                        <td id=\"T_edec46b8_71c3_11ef_bdbb_96000040dfb6row12_col8\" class=\"data row12 col8\" >0.28%</td>\n",
       "                        <td id=\"T_edec46b8_71c3_11ef_bdbb_96000040dfb6row12_col9\" class=\"data row12 col9\" >0.21%</td>\n",
       "                        <td id=\"T_edec46b8_71c3_11ef_bdbb_96000040dfb6row12_col10\" class=\"data row12 col10\" >0.21%</td>\n",
       "                        <td id=\"T_edec46b8_71c3_11ef_bdbb_96000040dfb6row12_col11\" class=\"data row12 col11\" ></td>\n",
       "                        <td id=\"T_edec46b8_71c3_11ef_bdbb_96000040dfb6row12_col12\" class=\"data row12 col12\" ></td>\n",
       "                        <td id=\"T_edec46b8_71c3_11ef_bdbb_96000040dfb6row12_col13\" class=\"data row12 col13\" ></td>\n",
       "                        <td id=\"T_edec46b8_71c3_11ef_bdbb_96000040dfb6row12_col14\" class=\"data row12 col14\" ></td>\n",
       "                        <td id=\"T_edec46b8_71c3_11ef_bdbb_96000040dfb6row12_col15\" class=\"data row12 col15\" ></td>\n",
       "                        <td id=\"T_edec46b8_71c3_11ef_bdbb_96000040dfb6row12_col16\" class=\"data row12 col16\" ></td>\n",
       "                        <td id=\"T_edec46b8_71c3_11ef_bdbb_96000040dfb6row12_col17\" class=\"data row12 col17\" ></td>\n",
       "                        <td id=\"T_edec46b8_71c3_11ef_bdbb_96000040dfb6row12_col18\" class=\"data row12 col18\" ></td>\n",
       "                        <td id=\"T_edec46b8_71c3_11ef_bdbb_96000040dfb6row12_col19\" class=\"data row12 col19\" ></td>\n",
       "            </tr>\n",
       "            <tr>\n",
       "                        <th id=\"T_edec46b8_71c3_11ef_bdbb_96000040dfb6level0_row13\" class=\"row_heading level0 row13\" >2017-11</th>\n",
       "                        <td id=\"T_edec46b8_71c3_11ef_bdbb_96000040dfb6row13_col0\" class=\"data row13 col0\" >100.00%</td>\n",
       "                        <td id=\"T_edec46b8_71c3_11ef_bdbb_96000040dfb6row13_col1\" class=\"data row13 col1\" >0.55%</td>\n",
       "                        <td id=\"T_edec46b8_71c3_11ef_bdbb_96000040dfb6row13_col2\" class=\"data row13 col2\" >0.38%</td>\n",
       "                        <td id=\"T_edec46b8_71c3_11ef_bdbb_96000040dfb6row13_col3\" class=\"data row13 col3\" >0.16%</td>\n",
       "                        <td id=\"T_edec46b8_71c3_11ef_bdbb_96000040dfb6row13_col4\" class=\"data row13 col4\" >0.20%</td>\n",
       "                        <td id=\"T_edec46b8_71c3_11ef_bdbb_96000040dfb6row13_col5\" class=\"data row13 col5\" >0.16%</td>\n",
       "                        <td id=\"T_edec46b8_71c3_11ef_bdbb_96000040dfb6row13_col6\" class=\"data row13 col6\" >0.13%</td>\n",
       "                        <td id=\"T_edec46b8_71c3_11ef_bdbb_96000040dfb6row13_col7\" class=\"data row13 col7\" >0.20%</td>\n",
       "                        <td id=\"T_edec46b8_71c3_11ef_bdbb_96000040dfb6row13_col8\" class=\"data row13 col8\" >0.11%</td>\n",
       "                        <td id=\"T_edec46b8_71c3_11ef_bdbb_96000040dfb6row13_col9\" class=\"data row13 col9\" >0.07%</td>\n",
       "                        <td id=\"T_edec46b8_71c3_11ef_bdbb_96000040dfb6row13_col10\" class=\"data row13 col10\" ></td>\n",
       "                        <td id=\"T_edec46b8_71c3_11ef_bdbb_96000040dfb6row13_col11\" class=\"data row13 col11\" ></td>\n",
       "                        <td id=\"T_edec46b8_71c3_11ef_bdbb_96000040dfb6row13_col12\" class=\"data row13 col12\" ></td>\n",
       "                        <td id=\"T_edec46b8_71c3_11ef_bdbb_96000040dfb6row13_col13\" class=\"data row13 col13\" ></td>\n",
       "                        <td id=\"T_edec46b8_71c3_11ef_bdbb_96000040dfb6row13_col14\" class=\"data row13 col14\" ></td>\n",
       "                        <td id=\"T_edec46b8_71c3_11ef_bdbb_96000040dfb6row13_col15\" class=\"data row13 col15\" ></td>\n",
       "                        <td id=\"T_edec46b8_71c3_11ef_bdbb_96000040dfb6row13_col16\" class=\"data row13 col16\" ></td>\n",
       "                        <td id=\"T_edec46b8_71c3_11ef_bdbb_96000040dfb6row13_col17\" class=\"data row13 col17\" ></td>\n",
       "                        <td id=\"T_edec46b8_71c3_11ef_bdbb_96000040dfb6row13_col18\" class=\"data row13 col18\" ></td>\n",
       "                        <td id=\"T_edec46b8_71c3_11ef_bdbb_96000040dfb6row13_col19\" class=\"data row13 col19\" ></td>\n",
       "            </tr>\n",
       "            <tr>\n",
       "                        <th id=\"T_edec46b8_71c3_11ef_bdbb_96000040dfb6level0_row14\" class=\"row_heading level0 row14\" >2017-12</th>\n",
       "                        <td id=\"T_edec46b8_71c3_11ef_bdbb_96000040dfb6row14_col0\" class=\"data row14 col0\" >100.00%</td>\n",
       "                        <td id=\"T_edec46b8_71c3_11ef_bdbb_96000040dfb6row14_col1\" class=\"data row14 col1\" >0.23%</td>\n",
       "                        <td id=\"T_edec46b8_71c3_11ef_bdbb_96000040dfb6row14_col2\" class=\"data row14 col2\" >0.27%</td>\n",
       "                        <td id=\"T_edec46b8_71c3_11ef_bdbb_96000040dfb6row14_col3\" class=\"data row14 col3\" >0.32%</td>\n",
       "                        <td id=\"T_edec46b8_71c3_11ef_bdbb_96000040dfb6row14_col4\" class=\"data row14 col4\" >0.23%</td>\n",
       "                        <td id=\"T_edec46b8_71c3_11ef_bdbb_96000040dfb6row14_col5\" class=\"data row14 col5\" >0.20%</td>\n",
       "                        <td id=\"T_edec46b8_71c3_11ef_bdbb_96000040dfb6row14_col6\" class=\"data row14 col6\" >0.16%</td>\n",
       "                        <td id=\"T_edec46b8_71c3_11ef_bdbb_96000040dfb6row14_col7\" class=\"data row14 col7\" >0.02%</td>\n",
       "                        <td id=\"T_edec46b8_71c3_11ef_bdbb_96000040dfb6row14_col8\" class=\"data row14 col8\" >0.21%</td>\n",
       "                        <td id=\"T_edec46b8_71c3_11ef_bdbb_96000040dfb6row14_col9\" class=\"data row14 col9\" ></td>\n",
       "                        <td id=\"T_edec46b8_71c3_11ef_bdbb_96000040dfb6row14_col10\" class=\"data row14 col10\" ></td>\n",
       "                        <td id=\"T_edec46b8_71c3_11ef_bdbb_96000040dfb6row14_col11\" class=\"data row14 col11\" ></td>\n",
       "                        <td id=\"T_edec46b8_71c3_11ef_bdbb_96000040dfb6row14_col12\" class=\"data row14 col12\" ></td>\n",
       "                        <td id=\"T_edec46b8_71c3_11ef_bdbb_96000040dfb6row14_col13\" class=\"data row14 col13\" ></td>\n",
       "                        <td id=\"T_edec46b8_71c3_11ef_bdbb_96000040dfb6row14_col14\" class=\"data row14 col14\" ></td>\n",
       "                        <td id=\"T_edec46b8_71c3_11ef_bdbb_96000040dfb6row14_col15\" class=\"data row14 col15\" ></td>\n",
       "                        <td id=\"T_edec46b8_71c3_11ef_bdbb_96000040dfb6row14_col16\" class=\"data row14 col16\" ></td>\n",
       "                        <td id=\"T_edec46b8_71c3_11ef_bdbb_96000040dfb6row14_col17\" class=\"data row14 col17\" ></td>\n",
       "                        <td id=\"T_edec46b8_71c3_11ef_bdbb_96000040dfb6row14_col18\" class=\"data row14 col18\" ></td>\n",
       "                        <td id=\"T_edec46b8_71c3_11ef_bdbb_96000040dfb6row14_col19\" class=\"data row14 col19\" ></td>\n",
       "            </tr>\n",
       "            <tr>\n",
       "                        <th id=\"T_edec46b8_71c3_11ef_bdbb_96000040dfb6level0_row15\" class=\"row_heading level0 row15\" >2018-01</th>\n",
       "                        <td id=\"T_edec46b8_71c3_11ef_bdbb_96000040dfb6row15_col0\" class=\"data row15 col0\" >100.00%</td>\n",
       "                        <td id=\"T_edec46b8_71c3_11ef_bdbb_96000040dfb6row15_col1\" class=\"data row15 col1\" >0.35%</td>\n",
       "                        <td id=\"T_edec46b8_71c3_11ef_bdbb_96000040dfb6row15_col2\" class=\"data row15 col2\" >0.38%</td>\n",
       "                        <td id=\"T_edec46b8_71c3_11ef_bdbb_96000040dfb6row15_col3\" class=\"data row15 col3\" >0.29%</td>\n",
       "                        <td id=\"T_edec46b8_71c3_11ef_bdbb_96000040dfb6row15_col4\" class=\"data row15 col4\" >0.32%</td>\n",
       "                        <td id=\"T_edec46b8_71c3_11ef_bdbb_96000040dfb6row15_col5\" class=\"data row15 col5\" >0.16%</td>\n",
       "                        <td id=\"T_edec46b8_71c3_11ef_bdbb_96000040dfb6row15_col6\" class=\"data row15 col6\" >0.17%</td>\n",
       "                        <td id=\"T_edec46b8_71c3_11ef_bdbb_96000040dfb6row15_col7\" class=\"data row15 col7\" >0.22%</td>\n",
       "                        <td id=\"T_edec46b8_71c3_11ef_bdbb_96000040dfb6row15_col8\" class=\"data row15 col8\" ></td>\n",
       "                        <td id=\"T_edec46b8_71c3_11ef_bdbb_96000040dfb6row15_col9\" class=\"data row15 col9\" ></td>\n",
       "                        <td id=\"T_edec46b8_71c3_11ef_bdbb_96000040dfb6row15_col10\" class=\"data row15 col10\" ></td>\n",
       "                        <td id=\"T_edec46b8_71c3_11ef_bdbb_96000040dfb6row15_col11\" class=\"data row15 col11\" ></td>\n",
       "                        <td id=\"T_edec46b8_71c3_11ef_bdbb_96000040dfb6row15_col12\" class=\"data row15 col12\" ></td>\n",
       "                        <td id=\"T_edec46b8_71c3_11ef_bdbb_96000040dfb6row15_col13\" class=\"data row15 col13\" ></td>\n",
       "                        <td id=\"T_edec46b8_71c3_11ef_bdbb_96000040dfb6row15_col14\" class=\"data row15 col14\" ></td>\n",
       "                        <td id=\"T_edec46b8_71c3_11ef_bdbb_96000040dfb6row15_col15\" class=\"data row15 col15\" ></td>\n",
       "                        <td id=\"T_edec46b8_71c3_11ef_bdbb_96000040dfb6row15_col16\" class=\"data row15 col16\" ></td>\n",
       "                        <td id=\"T_edec46b8_71c3_11ef_bdbb_96000040dfb6row15_col17\" class=\"data row15 col17\" ></td>\n",
       "                        <td id=\"T_edec46b8_71c3_11ef_bdbb_96000040dfb6row15_col18\" class=\"data row15 col18\" ></td>\n",
       "                        <td id=\"T_edec46b8_71c3_11ef_bdbb_96000040dfb6row15_col19\" class=\"data row15 col19\" ></td>\n",
       "            </tr>\n",
       "            <tr>\n",
       "                        <th id=\"T_edec46b8_71c3_11ef_bdbb_96000040dfb6level0_row16\" class=\"row_heading level0 row16\" >2018-02</th>\n",
       "                        <td id=\"T_edec46b8_71c3_11ef_bdbb_96000040dfb6row16_col0\" class=\"data row16 col0\" >100.00%</td>\n",
       "                        <td id=\"T_edec46b8_71c3_11ef_bdbb_96000040dfb6row16_col1\" class=\"data row16 col1\" >0.33%</td>\n",
       "                        <td id=\"T_edec46b8_71c3_11ef_bdbb_96000040dfb6row16_col2\" class=\"data row16 col2\" >0.39%</td>\n",
       "                        <td id=\"T_edec46b8_71c3_11ef_bdbb_96000040dfb6row16_col3\" class=\"data row16 col3\" >0.28%</td>\n",
       "                        <td id=\"T_edec46b8_71c3_11ef_bdbb_96000040dfb6row16_col4\" class=\"data row16 col4\" >0.27%</td>\n",
       "                        <td id=\"T_edec46b8_71c3_11ef_bdbb_96000040dfb6row16_col5\" class=\"data row16 col5\" >0.17%</td>\n",
       "                        <td id=\"T_edec46b8_71c3_11ef_bdbb_96000040dfb6row16_col6\" class=\"data row16 col6\" >0.22%</td>\n",
       "                        <td id=\"T_edec46b8_71c3_11ef_bdbb_96000040dfb6row16_col7\" class=\"data row16 col7\" ></td>\n",
       "                        <td id=\"T_edec46b8_71c3_11ef_bdbb_96000040dfb6row16_col8\" class=\"data row16 col8\" ></td>\n",
       "                        <td id=\"T_edec46b8_71c3_11ef_bdbb_96000040dfb6row16_col9\" class=\"data row16 col9\" ></td>\n",
       "                        <td id=\"T_edec46b8_71c3_11ef_bdbb_96000040dfb6row16_col10\" class=\"data row16 col10\" ></td>\n",
       "                        <td id=\"T_edec46b8_71c3_11ef_bdbb_96000040dfb6row16_col11\" class=\"data row16 col11\" ></td>\n",
       "                        <td id=\"T_edec46b8_71c3_11ef_bdbb_96000040dfb6row16_col12\" class=\"data row16 col12\" ></td>\n",
       "                        <td id=\"T_edec46b8_71c3_11ef_bdbb_96000040dfb6row16_col13\" class=\"data row16 col13\" ></td>\n",
       "                        <td id=\"T_edec46b8_71c3_11ef_bdbb_96000040dfb6row16_col14\" class=\"data row16 col14\" ></td>\n",
       "                        <td id=\"T_edec46b8_71c3_11ef_bdbb_96000040dfb6row16_col15\" class=\"data row16 col15\" ></td>\n",
       "                        <td id=\"T_edec46b8_71c3_11ef_bdbb_96000040dfb6row16_col16\" class=\"data row16 col16\" ></td>\n",
       "                        <td id=\"T_edec46b8_71c3_11ef_bdbb_96000040dfb6row16_col17\" class=\"data row16 col17\" ></td>\n",
       "                        <td id=\"T_edec46b8_71c3_11ef_bdbb_96000040dfb6row16_col18\" class=\"data row16 col18\" ></td>\n",
       "                        <td id=\"T_edec46b8_71c3_11ef_bdbb_96000040dfb6row16_col19\" class=\"data row16 col19\" ></td>\n",
       "            </tr>\n",
       "            <tr>\n",
       "                        <th id=\"T_edec46b8_71c3_11ef_bdbb_96000040dfb6level0_row17\" class=\"row_heading level0 row17\" >2018-03</th>\n",
       "                        <td id=\"T_edec46b8_71c3_11ef_bdbb_96000040dfb6row17_col0\" class=\"data row17 col0\" >100.00%</td>\n",
       "                        <td id=\"T_edec46b8_71c3_11ef_bdbb_96000040dfb6row17_col1\" class=\"data row17 col1\" >0.40%</td>\n",
       "                        <td id=\"T_edec46b8_71c3_11ef_bdbb_96000040dfb6row17_col2\" class=\"data row17 col2\" >0.33%</td>\n",
       "                        <td id=\"T_edec46b8_71c3_11ef_bdbb_96000040dfb6row17_col3\" class=\"data row17 col3\" >0.29%</td>\n",
       "                        <td id=\"T_edec46b8_71c3_11ef_bdbb_96000040dfb6row17_col4\" class=\"data row17 col4\" >0.14%</td>\n",
       "                        <td id=\"T_edec46b8_71c3_11ef_bdbb_96000040dfb6row17_col5\" class=\"data row17 col5\" >0.13%</td>\n",
       "                        <td id=\"T_edec46b8_71c3_11ef_bdbb_96000040dfb6row17_col6\" class=\"data row17 col6\" ></td>\n",
       "                        <td id=\"T_edec46b8_71c3_11ef_bdbb_96000040dfb6row17_col7\" class=\"data row17 col7\" ></td>\n",
       "                        <td id=\"T_edec46b8_71c3_11ef_bdbb_96000040dfb6row17_col8\" class=\"data row17 col8\" ></td>\n",
       "                        <td id=\"T_edec46b8_71c3_11ef_bdbb_96000040dfb6row17_col9\" class=\"data row17 col9\" ></td>\n",
       "                        <td id=\"T_edec46b8_71c3_11ef_bdbb_96000040dfb6row17_col10\" class=\"data row17 col10\" ></td>\n",
       "                        <td id=\"T_edec46b8_71c3_11ef_bdbb_96000040dfb6row17_col11\" class=\"data row17 col11\" ></td>\n",
       "                        <td id=\"T_edec46b8_71c3_11ef_bdbb_96000040dfb6row17_col12\" class=\"data row17 col12\" ></td>\n",
       "                        <td id=\"T_edec46b8_71c3_11ef_bdbb_96000040dfb6row17_col13\" class=\"data row17 col13\" ></td>\n",
       "                        <td id=\"T_edec46b8_71c3_11ef_bdbb_96000040dfb6row17_col14\" class=\"data row17 col14\" ></td>\n",
       "                        <td id=\"T_edec46b8_71c3_11ef_bdbb_96000040dfb6row17_col15\" class=\"data row17 col15\" ></td>\n",
       "                        <td id=\"T_edec46b8_71c3_11ef_bdbb_96000040dfb6row17_col16\" class=\"data row17 col16\" ></td>\n",
       "                        <td id=\"T_edec46b8_71c3_11ef_bdbb_96000040dfb6row17_col17\" class=\"data row17 col17\" ></td>\n",
       "                        <td id=\"T_edec46b8_71c3_11ef_bdbb_96000040dfb6row17_col18\" class=\"data row17 col18\" ></td>\n",
       "                        <td id=\"T_edec46b8_71c3_11ef_bdbb_96000040dfb6row17_col19\" class=\"data row17 col19\" ></td>\n",
       "            </tr>\n",
       "            <tr>\n",
       "                        <th id=\"T_edec46b8_71c3_11ef_bdbb_96000040dfb6level0_row18\" class=\"row_heading level0 row18\" >2018-04</th>\n",
       "                        <td id=\"T_edec46b8_71c3_11ef_bdbb_96000040dfb6row18_col0\" class=\"data row18 col0\" >100.00%</td>\n",
       "                        <td id=\"T_edec46b8_71c3_11ef_bdbb_96000040dfb6row18_col1\" class=\"data row18 col1\" >0.60%</td>\n",
       "                        <td id=\"T_edec46b8_71c3_11ef_bdbb_96000040dfb6row18_col2\" class=\"data row18 col2\" >0.29%</td>\n",
       "                        <td id=\"T_edec46b8_71c3_11ef_bdbb_96000040dfb6row18_col3\" class=\"data row18 col3\" >0.24%</td>\n",
       "                        <td id=\"T_edec46b8_71c3_11ef_bdbb_96000040dfb6row18_col4\" class=\"data row18 col4\" >0.14%</td>\n",
       "                        <td id=\"T_edec46b8_71c3_11ef_bdbb_96000040dfb6row18_col5\" class=\"data row18 col5\" ></td>\n",
       "                        <td id=\"T_edec46b8_71c3_11ef_bdbb_96000040dfb6row18_col6\" class=\"data row18 col6\" ></td>\n",
       "                        <td id=\"T_edec46b8_71c3_11ef_bdbb_96000040dfb6row18_col7\" class=\"data row18 col7\" ></td>\n",
       "                        <td id=\"T_edec46b8_71c3_11ef_bdbb_96000040dfb6row18_col8\" class=\"data row18 col8\" ></td>\n",
       "                        <td id=\"T_edec46b8_71c3_11ef_bdbb_96000040dfb6row18_col9\" class=\"data row18 col9\" ></td>\n",
       "                        <td id=\"T_edec46b8_71c3_11ef_bdbb_96000040dfb6row18_col10\" class=\"data row18 col10\" ></td>\n",
       "                        <td id=\"T_edec46b8_71c3_11ef_bdbb_96000040dfb6row18_col11\" class=\"data row18 col11\" ></td>\n",
       "                        <td id=\"T_edec46b8_71c3_11ef_bdbb_96000040dfb6row18_col12\" class=\"data row18 col12\" ></td>\n",
       "                        <td id=\"T_edec46b8_71c3_11ef_bdbb_96000040dfb6row18_col13\" class=\"data row18 col13\" ></td>\n",
       "                        <td id=\"T_edec46b8_71c3_11ef_bdbb_96000040dfb6row18_col14\" class=\"data row18 col14\" ></td>\n",
       "                        <td id=\"T_edec46b8_71c3_11ef_bdbb_96000040dfb6row18_col15\" class=\"data row18 col15\" ></td>\n",
       "                        <td id=\"T_edec46b8_71c3_11ef_bdbb_96000040dfb6row18_col16\" class=\"data row18 col16\" ></td>\n",
       "                        <td id=\"T_edec46b8_71c3_11ef_bdbb_96000040dfb6row18_col17\" class=\"data row18 col17\" ></td>\n",
       "                        <td id=\"T_edec46b8_71c3_11ef_bdbb_96000040dfb6row18_col18\" class=\"data row18 col18\" ></td>\n",
       "                        <td id=\"T_edec46b8_71c3_11ef_bdbb_96000040dfb6row18_col19\" class=\"data row18 col19\" ></td>\n",
       "            </tr>\n",
       "            <tr>\n",
       "                        <th id=\"T_edec46b8_71c3_11ef_bdbb_96000040dfb6level0_row19\" class=\"row_heading level0 row19\" >2018-05</th>\n",
       "                        <td id=\"T_edec46b8_71c3_11ef_bdbb_96000040dfb6row19_col0\" class=\"data row19 col0\" >100.00%</td>\n",
       "                        <td id=\"T_edec46b8_71c3_11ef_bdbb_96000040dfb6row19_col1\" class=\"data row19 col1\" >0.55%</td>\n",
       "                        <td id=\"T_edec46b8_71c3_11ef_bdbb_96000040dfb6row19_col2\" class=\"data row19 col2\" >0.25%</td>\n",
       "                        <td id=\"T_edec46b8_71c3_11ef_bdbb_96000040dfb6row19_col3\" class=\"data row19 col3\" >0.21%</td>\n",
       "                        <td id=\"T_edec46b8_71c3_11ef_bdbb_96000040dfb6row19_col4\" class=\"data row19 col4\" ></td>\n",
       "                        <td id=\"T_edec46b8_71c3_11ef_bdbb_96000040dfb6row19_col5\" class=\"data row19 col5\" ></td>\n",
       "                        <td id=\"T_edec46b8_71c3_11ef_bdbb_96000040dfb6row19_col6\" class=\"data row19 col6\" ></td>\n",
       "                        <td id=\"T_edec46b8_71c3_11ef_bdbb_96000040dfb6row19_col7\" class=\"data row19 col7\" ></td>\n",
       "                        <td id=\"T_edec46b8_71c3_11ef_bdbb_96000040dfb6row19_col8\" class=\"data row19 col8\" ></td>\n",
       "                        <td id=\"T_edec46b8_71c3_11ef_bdbb_96000040dfb6row19_col9\" class=\"data row19 col9\" ></td>\n",
       "                        <td id=\"T_edec46b8_71c3_11ef_bdbb_96000040dfb6row19_col10\" class=\"data row19 col10\" ></td>\n",
       "                        <td id=\"T_edec46b8_71c3_11ef_bdbb_96000040dfb6row19_col11\" class=\"data row19 col11\" ></td>\n",
       "                        <td id=\"T_edec46b8_71c3_11ef_bdbb_96000040dfb6row19_col12\" class=\"data row19 col12\" ></td>\n",
       "                        <td id=\"T_edec46b8_71c3_11ef_bdbb_96000040dfb6row19_col13\" class=\"data row19 col13\" ></td>\n",
       "                        <td id=\"T_edec46b8_71c3_11ef_bdbb_96000040dfb6row19_col14\" class=\"data row19 col14\" ></td>\n",
       "                        <td id=\"T_edec46b8_71c3_11ef_bdbb_96000040dfb6row19_col15\" class=\"data row19 col15\" ></td>\n",
       "                        <td id=\"T_edec46b8_71c3_11ef_bdbb_96000040dfb6row19_col16\" class=\"data row19 col16\" ></td>\n",
       "                        <td id=\"T_edec46b8_71c3_11ef_bdbb_96000040dfb6row19_col17\" class=\"data row19 col17\" ></td>\n",
       "                        <td id=\"T_edec46b8_71c3_11ef_bdbb_96000040dfb6row19_col18\" class=\"data row19 col18\" ></td>\n",
       "                        <td id=\"T_edec46b8_71c3_11ef_bdbb_96000040dfb6row19_col19\" class=\"data row19 col19\" ></td>\n",
       "            </tr>\n",
       "            <tr>\n",
       "                        <th id=\"T_edec46b8_71c3_11ef_bdbb_96000040dfb6level0_row20\" class=\"row_heading level0 row20\" >2018-06</th>\n",
       "                        <td id=\"T_edec46b8_71c3_11ef_bdbb_96000040dfb6row20_col0\" class=\"data row20 col0\" >100.00%</td>\n",
       "                        <td id=\"T_edec46b8_71c3_11ef_bdbb_96000040dfb6row20_col1\" class=\"data row20 col1\" >0.39%</td>\n",
       "                        <td id=\"T_edec46b8_71c3_11ef_bdbb_96000040dfb6row20_col2\" class=\"data row20 col2\" >0.27%</td>\n",
       "                        <td id=\"T_edec46b8_71c3_11ef_bdbb_96000040dfb6row20_col3\" class=\"data row20 col3\" ></td>\n",
       "                        <td id=\"T_edec46b8_71c3_11ef_bdbb_96000040dfb6row20_col4\" class=\"data row20 col4\" ></td>\n",
       "                        <td id=\"T_edec46b8_71c3_11ef_bdbb_96000040dfb6row20_col5\" class=\"data row20 col5\" ></td>\n",
       "                        <td id=\"T_edec46b8_71c3_11ef_bdbb_96000040dfb6row20_col6\" class=\"data row20 col6\" ></td>\n",
       "                        <td id=\"T_edec46b8_71c3_11ef_bdbb_96000040dfb6row20_col7\" class=\"data row20 col7\" ></td>\n",
       "                        <td id=\"T_edec46b8_71c3_11ef_bdbb_96000040dfb6row20_col8\" class=\"data row20 col8\" ></td>\n",
       "                        <td id=\"T_edec46b8_71c3_11ef_bdbb_96000040dfb6row20_col9\" class=\"data row20 col9\" ></td>\n",
       "                        <td id=\"T_edec46b8_71c3_11ef_bdbb_96000040dfb6row20_col10\" class=\"data row20 col10\" ></td>\n",
       "                        <td id=\"T_edec46b8_71c3_11ef_bdbb_96000040dfb6row20_col11\" class=\"data row20 col11\" ></td>\n",
       "                        <td id=\"T_edec46b8_71c3_11ef_bdbb_96000040dfb6row20_col12\" class=\"data row20 col12\" ></td>\n",
       "                        <td id=\"T_edec46b8_71c3_11ef_bdbb_96000040dfb6row20_col13\" class=\"data row20 col13\" ></td>\n",
       "                        <td id=\"T_edec46b8_71c3_11ef_bdbb_96000040dfb6row20_col14\" class=\"data row20 col14\" ></td>\n",
       "                        <td id=\"T_edec46b8_71c3_11ef_bdbb_96000040dfb6row20_col15\" class=\"data row20 col15\" ></td>\n",
       "                        <td id=\"T_edec46b8_71c3_11ef_bdbb_96000040dfb6row20_col16\" class=\"data row20 col16\" ></td>\n",
       "                        <td id=\"T_edec46b8_71c3_11ef_bdbb_96000040dfb6row20_col17\" class=\"data row20 col17\" ></td>\n",
       "                        <td id=\"T_edec46b8_71c3_11ef_bdbb_96000040dfb6row20_col18\" class=\"data row20 col18\" ></td>\n",
       "                        <td id=\"T_edec46b8_71c3_11ef_bdbb_96000040dfb6row20_col19\" class=\"data row20 col19\" ></td>\n",
       "            </tr>\n",
       "            <tr>\n",
       "                        <th id=\"T_edec46b8_71c3_11ef_bdbb_96000040dfb6level0_row21\" class=\"row_heading level0 row21\" >2018-07</th>\n",
       "                        <td id=\"T_edec46b8_71c3_11ef_bdbb_96000040dfb6row21_col0\" class=\"data row21 col0\" >100.00%</td>\n",
       "                        <td id=\"T_edec46b8_71c3_11ef_bdbb_96000040dfb6row21_col1\" class=\"data row21 col1\" >0.51%</td>\n",
       "                        <td id=\"T_edec46b8_71c3_11ef_bdbb_96000040dfb6row21_col2\" class=\"data row21 col2\" ></td>\n",
       "                        <td id=\"T_edec46b8_71c3_11ef_bdbb_96000040dfb6row21_col3\" class=\"data row21 col3\" ></td>\n",
       "                        <td id=\"T_edec46b8_71c3_11ef_bdbb_96000040dfb6row21_col4\" class=\"data row21 col4\" ></td>\n",
       "                        <td id=\"T_edec46b8_71c3_11ef_bdbb_96000040dfb6row21_col5\" class=\"data row21 col5\" ></td>\n",
       "                        <td id=\"T_edec46b8_71c3_11ef_bdbb_96000040dfb6row21_col6\" class=\"data row21 col6\" ></td>\n",
       "                        <td id=\"T_edec46b8_71c3_11ef_bdbb_96000040dfb6row21_col7\" class=\"data row21 col7\" ></td>\n",
       "                        <td id=\"T_edec46b8_71c3_11ef_bdbb_96000040dfb6row21_col8\" class=\"data row21 col8\" ></td>\n",
       "                        <td id=\"T_edec46b8_71c3_11ef_bdbb_96000040dfb6row21_col9\" class=\"data row21 col9\" ></td>\n",
       "                        <td id=\"T_edec46b8_71c3_11ef_bdbb_96000040dfb6row21_col10\" class=\"data row21 col10\" ></td>\n",
       "                        <td id=\"T_edec46b8_71c3_11ef_bdbb_96000040dfb6row21_col11\" class=\"data row21 col11\" ></td>\n",
       "                        <td id=\"T_edec46b8_71c3_11ef_bdbb_96000040dfb6row21_col12\" class=\"data row21 col12\" ></td>\n",
       "                        <td id=\"T_edec46b8_71c3_11ef_bdbb_96000040dfb6row21_col13\" class=\"data row21 col13\" ></td>\n",
       "                        <td id=\"T_edec46b8_71c3_11ef_bdbb_96000040dfb6row21_col14\" class=\"data row21 col14\" ></td>\n",
       "                        <td id=\"T_edec46b8_71c3_11ef_bdbb_96000040dfb6row21_col15\" class=\"data row21 col15\" ></td>\n",
       "                        <td id=\"T_edec46b8_71c3_11ef_bdbb_96000040dfb6row21_col16\" class=\"data row21 col16\" ></td>\n",
       "                        <td id=\"T_edec46b8_71c3_11ef_bdbb_96000040dfb6row21_col17\" class=\"data row21 col17\" ></td>\n",
       "                        <td id=\"T_edec46b8_71c3_11ef_bdbb_96000040dfb6row21_col18\" class=\"data row21 col18\" ></td>\n",
       "                        <td id=\"T_edec46b8_71c3_11ef_bdbb_96000040dfb6row21_col19\" class=\"data row21 col19\" ></td>\n",
       "            </tr>\n",
       "            <tr>\n",
       "                        <th id=\"T_edec46b8_71c3_11ef_bdbb_96000040dfb6level0_row22\" class=\"row_heading level0 row22\" >2018-08</th>\n",
       "                        <td id=\"T_edec46b8_71c3_11ef_bdbb_96000040dfb6row22_col0\" class=\"data row22 col0\" >100.00%</td>\n",
       "                        <td id=\"T_edec46b8_71c3_11ef_bdbb_96000040dfb6row22_col1\" class=\"data row22 col1\" >0.02%</td>\n",
       "                        <td id=\"T_edec46b8_71c3_11ef_bdbb_96000040dfb6row22_col2\" class=\"data row22 col2\" ></td>\n",
       "                        <td id=\"T_edec46b8_71c3_11ef_bdbb_96000040dfb6row22_col3\" class=\"data row22 col3\" ></td>\n",
       "                        <td id=\"T_edec46b8_71c3_11ef_bdbb_96000040dfb6row22_col4\" class=\"data row22 col4\" ></td>\n",
       "                        <td id=\"T_edec46b8_71c3_11ef_bdbb_96000040dfb6row22_col5\" class=\"data row22 col5\" ></td>\n",
       "                        <td id=\"T_edec46b8_71c3_11ef_bdbb_96000040dfb6row22_col6\" class=\"data row22 col6\" ></td>\n",
       "                        <td id=\"T_edec46b8_71c3_11ef_bdbb_96000040dfb6row22_col7\" class=\"data row22 col7\" ></td>\n",
       "                        <td id=\"T_edec46b8_71c3_11ef_bdbb_96000040dfb6row22_col8\" class=\"data row22 col8\" ></td>\n",
       "                        <td id=\"T_edec46b8_71c3_11ef_bdbb_96000040dfb6row22_col9\" class=\"data row22 col9\" ></td>\n",
       "                        <td id=\"T_edec46b8_71c3_11ef_bdbb_96000040dfb6row22_col10\" class=\"data row22 col10\" ></td>\n",
       "                        <td id=\"T_edec46b8_71c3_11ef_bdbb_96000040dfb6row22_col11\" class=\"data row22 col11\" ></td>\n",
       "                        <td id=\"T_edec46b8_71c3_11ef_bdbb_96000040dfb6row22_col12\" class=\"data row22 col12\" ></td>\n",
       "                        <td id=\"T_edec46b8_71c3_11ef_bdbb_96000040dfb6row22_col13\" class=\"data row22 col13\" ></td>\n",
       "                        <td id=\"T_edec46b8_71c3_11ef_bdbb_96000040dfb6row22_col14\" class=\"data row22 col14\" ></td>\n",
       "                        <td id=\"T_edec46b8_71c3_11ef_bdbb_96000040dfb6row22_col15\" class=\"data row22 col15\" ></td>\n",
       "                        <td id=\"T_edec46b8_71c3_11ef_bdbb_96000040dfb6row22_col16\" class=\"data row22 col16\" ></td>\n",
       "                        <td id=\"T_edec46b8_71c3_11ef_bdbb_96000040dfb6row22_col17\" class=\"data row22 col17\" ></td>\n",
       "                        <td id=\"T_edec46b8_71c3_11ef_bdbb_96000040dfb6row22_col18\" class=\"data row22 col18\" ></td>\n",
       "                        <td id=\"T_edec46b8_71c3_11ef_bdbb_96000040dfb6row22_col19\" class=\"data row22 col19\" ></td>\n",
       "            </tr>\n",
       "    </tbody></table>"
      ],
      "text/plain": [
       "<pandas.io.formats.style.Styler at 0x7fc96fb7fd30>"
      ]
     },
     "execution_count": 91,
     "metadata": {},
     "output_type": "execute_result"
    }
   ],
   "source": [
    "cohort_graph = (retention_matrix\n",
    "        .style\n",
    "        .set_caption('User retention by cohort')\n",
    "        .background_gradient(cmap='viridis')  # раскрашиваем ячейки по столбцам\n",
    "        .highlight_null('white')  # делаем белый фон для значений NaN\n",
    "        .format(\"{:.2%}\", na_rep=\"\"))  # числа форматируем как проценты, NaN заменяем на пустоту\n",
    "cohort_graph"
   ]
  },
  {
   "cell_type": "markdown",
   "metadata": {},
   "source": [
    "# Ответ: Когорта с наибольшим retention rate за третий месяц: 2017-05"
   ]
  },
  {
   "cell_type": "markdown",
   "metadata": {},
   "source": [
    "# RFM-сегментация"
   ]
  },
  {
   "cell_type": "markdown",
   "metadata": {},
   "source": [
    "Часто для качественного анализа аудитории использую подходы, основанные на сегментации. Используя python, построй RFM-сегментацию пользователей, чтобы качественно оценить свою аудиторию. В кластеризации можешь выбрать следующие метрики: R - время от последней покупки пользователя до текущей даты, F - суммарное количество покупок у пользователя за всё время, M - сумма покупок за всё время. Подробно опиши, как ты создавал кластеры. Для каждого RFM-сегмента построй границы метрик recency, frequency и monetary для интерпретации этих кластеров. Пример такого описания: RFM-сегмент 132 (recency=1, frequency=3, monetary=2) имеет границы метрик recency от 130 до 500 дней, frequency от 2 до 5 заказов в неделю, monetary от 1780 до 3560 рублей в неделю."
   ]
  },
  {
   "cell_type": "code",
   "execution_count": 92,
   "metadata": {},
   "outputs": [],
   "source": [
    "#Объединим три датафрейма в один\n",
    "RFM_df = order_items_dataset.merge(orders_dataset, how = 'inner', on = 'order_id').merge(customers_dataset, how = 'inner', on = 'customer_id') \n",
    "\n",
    "#Снова отберем покупки\n",
    "\n",
    "RFM_df= RFM_df.query(\"((order_status != ['canceled', 'unavailable']) & (order_approved_at != 'NaT')) or ((order_approved_at == 'NaT') & (order_status == 'delivered'))\")\n",
    "\n",
    "#Мы не будем убирать дубликаты. Нам необходимо посчитать выурчку с продажи каждого товара, а, как мы помним, в каждом заказе у нас может быть несколько товаров, которые в переменной \"order_item_id\" нумируются по порядку"
   ]
  },
  {
   "cell_type": "code",
   "execution_count": 93,
   "metadata": {},
   "outputs": [
    {
     "name": "stdout",
     "output_type": "stream",
     "text": [
      "112,101 rows; 18 columns\n"
     ]
    }
   ],
   "source": [
    "#Посмотрим на количество строк и колонок в получившимся датафрейме\n",
    "print('{:,} rows; {:,} columns'.format(RFM_df.shape[0], RFM_df.shape[1]))"
   ]
  },
  {
   "cell_type": "markdown",
   "metadata": {},
   "source": [
    "Определимся с сегодняшней датой. Так как данные довольно старые, то будет разумно, если мы за \"сегодняшнюю дату\" для нашего анализа возьмем последнюю дату покупки + 1 день"
   ]
  },
  {
   "cell_type": "code",
   "execution_count": 94,
   "metadata": {},
   "outputs": [
    {
     "data": {
      "text/plain": [
       "Timestamp('2018-09-04 17:40:06')"
      ]
     },
     "execution_count": 94,
     "metadata": {},
     "output_type": "execute_result"
    }
   ],
   "source": [
    "nowadays = RFM_df['order_approved_at'].max() + timedelta(days = 1)\n",
    "nowadays"
   ]
  },
  {
   "cell_type": "code",
   "execution_count": 95,
   "metadata": {},
   "outputs": [],
   "source": [
    "# Считаем количество товаров в каждом чеке.\n",
    "RFM_df['total_items'] = RFM_df\\\n",
    "    .groupby('order_id')['order_item_id']\\\n",
    "    .transform('count')"
   ]
  },
  {
   "cell_type": "code",
   "execution_count": 96,
   "metadata": {},
   "outputs": [
    {
     "data": {
      "text/html": [
       "<div>\n",
       "<style scoped>\n",
       "    .dataframe tbody tr th:only-of-type {\n",
       "        vertical-align: middle;\n",
       "    }\n",
       "\n",
       "    .dataframe tbody tr th {\n",
       "        vertical-align: top;\n",
       "    }\n",
       "\n",
       "    .dataframe thead th {\n",
       "        text-align: right;\n",
       "    }\n",
       "</style>\n",
       "<table border=\"1\" class=\"dataframe\">\n",
       "  <thead>\n",
       "    <tr style=\"text-align: right;\">\n",
       "      <th></th>\n",
       "      <th>order_id</th>\n",
       "      <th>customer_unique_id</th>\n",
       "      <th>order_approved_at</th>\n",
       "      <th>price</th>\n",
       "    </tr>\n",
       "  </thead>\n",
       "  <tbody>\n",
       "    <tr>\n",
       "      <th>0</th>\n",
       "      <td>bfbd0f9bdef84302105ad712db648a6c</td>\n",
       "      <td>830d5b7aaa3b6f1e9ad63703bec97d23</td>\n",
       "      <td>2016-09-15 12:16:38</td>\n",
       "      <td>134.97</td>\n",
       "    </tr>\n",
       "    <tr>\n",
       "      <th>1</th>\n",
       "      <td>1ff217aa612f6cd7c4255c9bfe931c8b</td>\n",
       "      <td>14359ea0c7a105749c0a56478825b015</td>\n",
       "      <td>2016-10-04 09:43:32</td>\n",
       "      <td>32.49</td>\n",
       "    </tr>\n",
       "    <tr>\n",
       "      <th>2</th>\n",
       "      <td>cd3b8574c82b42fc8129f6d502690c3e</td>\n",
       "      <td>87776adb449c551e74c13fc34f036105</td>\n",
       "      <td>2016-10-04 10:19:23</td>\n",
       "      <td>29.99</td>\n",
       "    </tr>\n",
       "    <tr>\n",
       "      <th>3</th>\n",
       "      <td>ed8c7b1b3eb256c70ce0c74231e1da88</td>\n",
       "      <td>88bc832f104b6dd684a17dbb1b76e778</td>\n",
       "      <td>2016-10-04 10:25:46</td>\n",
       "      <td>89.90</td>\n",
       "    </tr>\n",
       "    <tr>\n",
       "      <th>4</th>\n",
       "      <td>d207cc272675637bfed0062edffd0818</td>\n",
       "      <td>8d3a54507421dbd2ce0a1d58046826e0</td>\n",
       "      <td>2016-10-04 10:28:07</td>\n",
       "      <td>119.90</td>\n",
       "    </tr>\n",
       "    <tr>\n",
       "      <th>...</th>\n",
       "      <td>...</td>\n",
       "      <td>...</td>\n",
       "      <td>...</td>\n",
       "      <td>...</td>\n",
       "    </tr>\n",
       "    <tr>\n",
       "      <th>98180</th>\n",
       "      <td>168626408cb32af0ffaf76711caae1dc</td>\n",
       "      <td>7febafa06d9d8f232a900a2937f04338</td>\n",
       "      <td>2018-08-29 14:30:23</td>\n",
       "      <td>45.90</td>\n",
       "    </tr>\n",
       "    <tr>\n",
       "      <th>98181</th>\n",
       "      <td>0b223d92c27432930dfe407c6aea3041</td>\n",
       "      <td>5c58de6fb80e93396e2f35642666b693</td>\n",
       "      <td>2018-08-29 14:31:07</td>\n",
       "      <td>418.00</td>\n",
       "    </tr>\n",
       "    <tr>\n",
       "      <th>98182</th>\n",
       "      <td>03ef5dedbe7492bdae72eec50764c43f</td>\n",
       "      <td>b701bebbdf478f5500348f03aff62121</td>\n",
       "      <td>2018-08-29 15:05:22</td>\n",
       "      <td>24.90</td>\n",
       "    </tr>\n",
       "    <tr>\n",
       "      <th>98183</th>\n",
       "      <td>35a972d7f8436f405b56e36add1a7140</td>\n",
       "      <td>24ac2b4327e25baf39f2119e4228976a</td>\n",
       "      <td>2018-08-29 15:10:26</td>\n",
       "      <td>84.99</td>\n",
       "    </tr>\n",
       "    <tr>\n",
       "      <th>98184</th>\n",
       "      <td>54282e97f61c23b78330c15b154c867d</td>\n",
       "      <td>ff22e30958c13ffe219db7d711e8f564</td>\n",
       "      <td>2018-09-03 17:40:06</td>\n",
       "      <td>145.00</td>\n",
       "    </tr>\n",
       "  </tbody>\n",
       "</table>\n",
       "<p>98185 rows × 4 columns</p>\n",
       "</div>"
      ],
      "text/plain": [
       "                               order_id                customer_unique_id  \\\n",
       "0      bfbd0f9bdef84302105ad712db648a6c  830d5b7aaa3b6f1e9ad63703bec97d23   \n",
       "1      1ff217aa612f6cd7c4255c9bfe931c8b  14359ea0c7a105749c0a56478825b015   \n",
       "2      cd3b8574c82b42fc8129f6d502690c3e  87776adb449c551e74c13fc34f036105   \n",
       "3      ed8c7b1b3eb256c70ce0c74231e1da88  88bc832f104b6dd684a17dbb1b76e778   \n",
       "4      d207cc272675637bfed0062edffd0818  8d3a54507421dbd2ce0a1d58046826e0   \n",
       "...                                 ...                               ...   \n",
       "98180  168626408cb32af0ffaf76711caae1dc  7febafa06d9d8f232a900a2937f04338   \n",
       "98181  0b223d92c27432930dfe407c6aea3041  5c58de6fb80e93396e2f35642666b693   \n",
       "98182  03ef5dedbe7492bdae72eec50764c43f  b701bebbdf478f5500348f03aff62121   \n",
       "98183  35a972d7f8436f405b56e36add1a7140  24ac2b4327e25baf39f2119e4228976a   \n",
       "98184  54282e97f61c23b78330c15b154c867d  ff22e30958c13ffe219db7d711e8f564   \n",
       "\n",
       "        order_approved_at   price  \n",
       "0     2016-09-15 12:16:38  134.97  \n",
       "1     2016-10-04 09:43:32   32.49  \n",
       "2     2016-10-04 10:19:23   29.99  \n",
       "3     2016-10-04 10:25:46   89.90  \n",
       "4     2016-10-04 10:28:07  119.90  \n",
       "...                   ...     ...  \n",
       "98180 2018-08-29 14:30:23   45.90  \n",
       "98181 2018-08-29 14:31:07  418.00  \n",
       "98182 2018-08-29 15:05:22   24.90  \n",
       "98183 2018-08-29 15:10:26   84.99  \n",
       "98184 2018-09-03 17:40:06  145.00  \n",
       "\n",
       "[98185 rows x 4 columns]"
      ]
     },
     "execution_count": 96,
     "metadata": {},
     "output_type": "execute_result"
    }
   ],
   "source": [
    "#Посчитаем итоговую сумму по каждому заказу\n",
    "RFM_df1 = RFM_df\\\n",
    "    .groupby(['order_id', 'customer_unique_id', 'order_approved_at'])\\\n",
    "    .agg({'price' : 'sum'}).sort_values('order_approved_at')\\\n",
    "    .reset_index()\n",
    "RFM_df1"
   ]
  },
  {
   "cell_type": "markdown",
   "metadata": {},
   "source": [
    "Вводим три переменные: Recency, Frequency, Monetary"
   ]
  },
  {
   "cell_type": "code",
   "execution_count": 97,
   "metadata": {},
   "outputs": [],
   "source": [
    "rfm_df = RFM_df1\\\n",
    "    .groupby('customer_unique_id', as_index = False)\\\n",
    "    .agg({'order_approved_at' : lambda x: (nowadays - x.max()).days, 'order_id' : 'nunique', 'price' : 'sum'})\\\n",
    "    .rename(columns = {'order_approved_at' : 'Recency', 'order_id' : 'Frequency', 'price' : 'Monetary'})"
   ]
  },
  {
   "cell_type": "code",
   "execution_count": 98,
   "metadata": {},
   "outputs": [
    {
     "data": {
      "image/png": "[encoded data removed]",
      "text/plain": [
       "<Figure size 864x432 with 1 Axes>"
      ]
     },
     "metadata": {
      "needs_background": "light"
     },
     "output_type": "display_data"
    },
    {
     "data": {
      "image/png": "[encoded data removed]",
      "text/plain": [
       "<Figure size 864x432 with 1 Axes>"
      ]
     },
     "metadata": {
      "needs_background": "light"
     },
     "output_type": "display_data"
    },
    {
     "data": {
      "image/png": "[encoded data removed]",
      "text/plain": [
       "<Figure size 864x432 with 1 Axes>"
      ]
     },
     "metadata": {
      "needs_background": "light"
     },
     "output_type": "display_data"
    }
   ],
   "source": [
    "#Построим графикы распределения переменных \n",
    "RFM_columns = ['Recency', 'Frequency', 'Monetary']\n",
    "\n",
    "for col in RFM_columns:\n",
    "    fig, ax = plt.subplots(figsize=(12, 6))  \n",
    "    sns.histplot(rfm_df[col], kde=True, ax=ax) \n",
    "    ax.set_title('Distribution of %s' % col)\n",
    "    ax.set_xlabel(col) \n",
    "    ax.set_ylabel('Frequency')  \n",
    "    plt.show()"
   ]
  },
  {
   "cell_type": "code",
   "execution_count": 99,
   "metadata": {},
   "outputs": [
    {
     "data": {
      "text/plain": [
       "Recency      243.475519\n",
       "Frequency      1.033853\n",
       "Monetary     142.073605\n",
       "dtype: float64"
      ]
     },
     "execution_count": 99,
     "metadata": {},
     "output_type": "execute_result"
    }
   ],
   "source": [
    "#Рассмотрим основные статистические показатели по нашим показателям, это поможет нам в будущем при сегментации пользователей\n",
    "rfm_df[['Recency', 'Frequency', 'Monetary']].mean()"
   ]
  },
  {
   "cell_type": "code",
   "execution_count": 100,
   "metadata": {},
   "outputs": [
    {
     "data": {
      "text/html": [
       "<div>\n",
       "<style scoped>\n",
       "    .dataframe tbody tr th:only-of-type {\n",
       "        vertical-align: middle;\n",
       "    }\n",
       "\n",
       "    .dataframe tbody tr th {\n",
       "        vertical-align: top;\n",
       "    }\n",
       "\n",
       "    .dataframe thead th {\n",
       "        text-align: right;\n",
       "    }\n",
       "</style>\n",
       "<table border=\"1\" class=\"dataframe\">\n",
       "  <thead>\n",
       "    <tr style=\"text-align: right;\">\n",
       "      <th></th>\n",
       "      <th>Recency</th>\n",
       "      <th>Frequency</th>\n",
       "      <th>Monetary</th>\n",
       "    </tr>\n",
       "  </thead>\n",
       "  <tbody>\n",
       "    <tr>\n",
       "      <th>0</th>\n",
       "      <td>132</td>\n",
       "      <td>1</td>\n",
       "      <td>59.9</td>\n",
       "    </tr>\n",
       "  </tbody>\n",
       "</table>\n",
       "</div>"
      ],
      "text/plain": [
       "   Recency  Frequency  Monetary\n",
       "0      132          1      59.9"
      ]
     },
     "execution_count": 100,
     "metadata": {},
     "output_type": "execute_result"
    }
   ],
   "source": [
    "rfm_df[['Recency', 'Frequency', 'Monetary']].mode()"
   ]
  },
  {
   "cell_type": "code",
   "execution_count": 101,
   "metadata": {},
   "outputs": [
    {
     "data": {
      "text/plain": [
       "Recency      224.00\n",
       "Frequency      1.00\n",
       "Monetary      89.89\n",
       "dtype: float64"
      ]
     },
     "execution_count": 101,
     "metadata": {},
     "output_type": "execute_result"
    }
   ],
   "source": [
    "rfm_df[['Recency', 'Frequency', 'Monetary']].median()"
   ]
  },
  {
   "cell_type": "markdown",
   "metadata": {},
   "source": [
    "Исходя из информации, полученной из графиков, все три наши переменные довольно сильно отличаются от нормального распределения\n",
    "\n",
    "На графике, который описывает переменную **\"Recency\"** мы видим, что распределение немного смещено влево. Функция mode() показывет, что распределение переменной унимодально, однако, судя по графику, распределение полимодально. Если оценивать распределение переменной в общих чертах, то можно скзаать, что покупателей, которые купили товар/товары сравнительно недавно больше, нежели покупателей, которые приобретали товары давно. \n",
    "\n",
    "Графики **\"Frequency\" и \"Monetary\"** визуально схожи между собой: наибольшее скопление данных наблюдается в начале распределения. На самом деле, это вполне очевидно. В случае с **\"Monetary\"** людей, которые потратили на товары сравнительно небольшую сумму, будет гораздо больше, чем тех, кто потратил на покупки большие деньги. Скорее всего бизнес ориентирован на розничную торговлю, а не на оптовую, отсюда и такие низкие показатели **\"Monetary\"**. С переменной **\"Frequency\"** всё довольно просто: у нас довольно много покупателей, которые совершили покупку только один раз. При присвоении рангов переменным, рассмотрим этот момент подробнее.\n"
   ]
  },
  {
   "cell_type": "code",
   "execution_count": 102,
   "metadata": {},
   "outputs": [
    {
     "data": {
      "text/plain": [
       "{'Recency': {0.2: 98.0, 0.4: 182.0, 0.6: 273.0, 0.8: 388.0},\n",
       " 'Frequency': {0.2: 1.0, 0.4: 1.0, 0.6: 1.0, 0.8: 1.0},\n",
       " 'Monetary': {0.2: 39.9, 0.4: 69.9, 0.6: 109.9, 0.8: 179.9}}"
      ]
     },
     "execution_count": 102,
     "metadata": {},
     "output_type": "execute_result"
    }
   ],
   "source": [
    "#Рассчитаем квантили переменных для того, чтобы на их основе сегментировать пользователей\n",
    "quintiles = rfm_df[['Recency', 'Frequency', 'Monetary']].quantile([.2, .4, .6, .8]).to_dict()\n",
    "quintiles"
   ]
  },
  {
   "cell_type": "markdown",
   "metadata": {},
   "source": [
    "Далее присвоим ранги нашим переменным от 1 до 5. Однако есть одно примечание: меньшее значение Recency для нас является более предпочтительным, тогда как Frequency и Monetary - наоборот."
   ]
  },
  {
   "cell_type": "markdown",
   "metadata": {},
   "source": [
    "Довольно неопределенная ситуация получилась с Frequency. Большинство покупателей совершило одну покупку. Убедимся в этом."
   ]
  },
  {
   "cell_type": "code",
   "execution_count": 103,
   "metadata": {},
   "outputs": [
    {
     "data": {
      "text/plain": [
       "1     92084\n",
       "2      2650\n",
       "3       188\n",
       "4        29\n",
       "5         9\n",
       "6         5\n",
       "7         3\n",
       "16        1\n",
       "9         1\n",
       "Name: Frequency, dtype: int64"
      ]
     },
     "execution_count": 103,
     "metadata": {},
     "output_type": "execute_result"
    }
   ],
   "source": [
    "rfm_df.Frequency.value_counts()"
   ]
  },
  {
   "cell_type": "markdown",
   "metadata": {},
   "source": [
    "Действительно, тезис, выдвинутый выше,подтверждается. В данном случае мы будем опираться не на квантили, а на собственную разбивку. Итак:\n",
    "\n",
    "1 покупка - 1 сегмент;\n",
    "\n",
    "2 покупки - 2 сегмент;\n",
    "\n",
    "3 покупки - 3 сегмент;\n",
    "\n",
    "4 покупки - 4 сегмент;\n",
    "\n",
    "5 и более покупок - 5 сегмент"
   ]
  },
  {
   "cell_type": "code",
   "execution_count": 104,
   "metadata": {},
   "outputs": [],
   "source": [
    "#Функция для присвоения номера каждому пользователю внутри сегмента\n",
    "def r_score(x):\n",
    "    if x <= quintiles['Recency'][.2]:\n",
    "        return 5\n",
    "    elif x <= quintiles['Recency'][.4]:\n",
    "        return 4\n",
    "    elif x <= quintiles['Recency'][.6]:\n",
    "        return 3\n",
    "    elif x <= quintiles['Recency'][.8]:\n",
    "        return 2\n",
    "    else:\n",
    "        return 1\n",
    "\n",
    "def f_score(x):\n",
    "    if x <= 1:\n",
    "        return 1\n",
    "    elif x <= 2:\n",
    "        return 2\n",
    "    elif x <= 3:\n",
    "        return 3\n",
    "    elif x <= 4:\n",
    "        return 4\n",
    "    else:\n",
    "        return 5  \n",
    "\n",
    "\n",
    "def m_score(x):\n",
    "    if x <= quintiles['Monetary'][.2]:\n",
    "        return 1\n",
    "    elif x <= quintiles['Monetary'][.4]:\n",
    "        return 2\n",
    "    elif x <= quintiles['Monetary'][.6]:\n",
    "        return 3\n",
    "    elif x <= quintiles['Monetary'][.8]:\n",
    "        return 4\n",
    "    else:\n",
    "        return 5  "
   ]
  },
  {
   "cell_type": "code",
   "execution_count": 105,
   "metadata": {},
   "outputs": [],
   "source": [
    "rfm_df['R'] = rfm_df['Recency'].apply(lambda x: r_score(x))\n",
    "rfm_df['F'] = rfm_df['Frequency'].apply(lambda x: f_score(x))\n",
    "rfm_df['M'] = rfm_df['Monetary'].apply(lambda x: m_score(x))\n",
    "#разбивка на сегменты"
   ]
  },
  {
   "cell_type": "code",
   "execution_count": 106,
   "metadata": {},
   "outputs": [],
   "source": [
    "rfm_df['RFM_Score'] = rfm_df['R'].map(str) + rfm_df['F'].map(str) + rfm_df['M'].map(str)"
   ]
  },
  {
   "cell_type": "code",
   "execution_count": 107,
   "metadata": {
    "scrolled": true
   },
   "outputs": [
    {
     "data": {
      "text/plain": [
       "array(['414', '411', '112', '211', '215', '315', '114', '413', '111',\n",
       "       '213', '412', '113', '311', '512', '511', '515', '115', '214',\n",
       "       '313', '513', '212', '514', '415', '314', '325', '312', '523',\n",
       "       '123', '425', '525', '225', '125', '422', '223', '324', '524',\n",
       "       '222', '424', '322', '435', '521', '122', '522', '434', '224',\n",
       "       '423', '133', '124', '545', '323', '445', '235', '335', '234',\n",
       "       '421', '221', '152', '534', '355', '533', '334', '535', '321',\n",
       "       '142', '333', '135', '433', '455', '233', '555', '121', '134',\n",
       "       '131', '332', '141', '145', '245', '345', '132', '532'],\n",
       "      dtype=object)"
      ]
     },
     "execution_count": 107,
     "metadata": {},
     "output_type": "execute_result"
    }
   ],
   "source": [
    "#В итоге у нас получилось порядка 80 уникальных сегментов. Следующей задачей является описание каждого сегмента\n",
    "rfm_df.RFM_Score.unique()"
   ]
  },
  {
   "cell_type": "markdown",
   "metadata": {},
   "source": [
    "# Сформируем 10 сегментов на основе оценок R и F: \n",
    "\n",
    "**Чемпионы** - купили недавно, покупают часто и тратят больше всех\n",
    "\n",
    "**Постоянные клиенты** - тратят хорошие деньги и часто, реагируя на рекламные акции\n",
    "\n",
    "**Потенциальный лоялист** - недавние клиенты, но потратили приличную сумму и покупали более одного раза\n",
    "\n",
    "**Новые клиенты** - покупали совсем недавно, но не часто\n",
    "\n",
    "**Перспективные** - недавно совершившие покупку, но потратившие не так уж много\n",
    "\n",
    "**Нуждаются во внимании** - недавность, частота и денежные показатели выше среднего; возможно, покупали не так давно\n",
    "\n",
    "**Собираются спать** - недавность, частота и денежные показатели ниже среднего; потеряют их, если не активизировать\n",
    "\n",
    "**Подвержен риску** - тратит большие деньги и покупает часто, но давно; их нужно вернуть\n",
    "\n",
    "**Нельзя потерять** - совершал крупные покупки и часто, но долго не возвращал\n",
    "\n",
    "**Переход в спящий режим** - последняя покупка была совершена давно, низкие траты и небольшое количество заказов.\n",
    "\n",
    "Примечание: **RF-анализ** - анализ по давности и частоте покупок. Показывает, как часто клиенты совершают покупки за анализируемый период. Позволяет выявить клиентов, которые недавно что-то купили и сотрудничают с компанией постоянно."
   ]
  },
  {
   "cell_type": "code",
   "execution_count": 108,
   "metadata": {},
   "outputs": [],
   "source": [
    "segt_map = {\n",
    "    r'[1-2][1-2]': 'Переход в спящий режим',\n",
    "    r'[1-2][3-4]': 'Подвержен риску',\n",
    "    r'[1-2]5': 'Нельзя терять',\n",
    "    r'3[1-2]': 'Собираются спать',\n",
    "    r'33': 'Нуждаются во внимании',\n",
    "    r'[3-4][4-5]': 'Постоянные клиенты',\n",
    "    r'41': 'Перспективные клиенты',\n",
    "    r'51': 'Новые клиенты',\n",
    "    r'[4-5][2-3]': 'Потенциальный лоялист',\n",
    "    r'5[4-5]': 'Чемпики'\n",
    "}\n",
    "\n",
    "rfm_df['Segment'] = rfm_df['R'].map(str) + rfm_df['F'].map(str)\n",
    "rfm_df['Segment'] = rfm_df['Segment'].replace(segt_map, regex=True)"
   ]
  },
  {
   "cell_type": "code",
   "execution_count": 109,
   "metadata": {},
   "outputs": [
    {
     "data": {
      "image/png": "[encoded data removed]",
      "text/plain": [
       "<Figure size 1152x720 with 1 Axes>"
      ]
     },
     "metadata": {
      "needs_background": "light"
     },
     "output_type": "display_data"
    }
   ],
   "source": [
    "#Посмотрим на количество покупателй по RFM-параметру(визуализация с помощью barplot)\n",
    "segment_counts = rfm_df.groupby('Segment')['Segment']\\\n",
    "    .count()\\\n",
    "    .to_frame()\\\n",
    "    .rename(columns = {'Segment' : 'amount'})\\\n",
    "    .sort_values(\"amount\", ascending = False)\\\n",
    "    .reset_index()\n",
    "\n",
    "plt.figure(figsize=(16, 10))\n",
    "\n",
    "ax = sns.barplot(data=segment_counts, x=\"Segment\", y=\"amount\", estimator=sum, ci=None)\n",
    "ax.set_xticklabels(ax.get_xticklabels(), rotation=45, fontsize=12)\n",
    "ax.tick_params(axis='x', which='major', pad=15)\n",
    "ax.set(xlabel='RFM-сегменты', ylabel ='Количество пользователей', title = 'Распределение RFM-сегментов')\n",
    "\n",
    "# Добавим информацию о том, какой процент составляет сегмент от общего числа пользователей\n",
    "\n",
    "total_users = segment_counts['amount'].sum()\n",
    "\n",
    "# Добавим процентное значение к каждому столбику\n",
    "for p in ax.patches:\n",
    "    percentage = '{:.1f}%'.format(100 * p.get_height() / total_users)\n",
    "    x = p.get_x() + p.get_width() / 2\n",
    "    y = p.get_height()\n",
    "    ax.annotate(percentage, (x, y), ha='center', va='bottom', fontsize=10)\n",
    "    \n",
    "    \n",
    "    ax.text(x, y/2, f'{int(y)}', ha='center', va='center', color='white', fontsize=10)\n",
    "\n",
    "plt.show()\n"
   ]
  },
  {
   "cell_type": "markdown",
   "metadata": {},
   "source": [
    "К сожалению, представленный выше график не отображает информацию о сегментах, где количество клиентов < 70, поэтому построим treemap, которое предоставит более детальную информацию о каждом сегменте"
   ]
  },
  {
   "cell_type": "code",
   "execution_count": 110,
   "metadata": {},
   "outputs": [
    {
     "data": {
      "application/vnd.plotly.v1+json": {
       "config": {
        "plotlyServerURL": "https://plot.ly"
       },
       "data": [
        {
         "branchvalues": "total",
         "customdata": [
          [
           "Чемпики"
          ],
          [
           "Нуждаются во внимании"
          ],
          [
           "Постоянные клиенты"
          ],
          [
           "Нельзя терять"
          ],
          [
           "Переход в спящий режим"
          ],
          [
           "Подвержен риску"
          ],
          [
           "Потенциальный лоялист"
          ],
          [
           "Перспективные клиенты"
          ],
          [
           "Новые клиенты"
          ],
          [
           "Собираются спать"
          ]
         ],
         "domain": {
          "x": [
           0,
           1
          ],
          "y": [
           0,
           1
          ]
         },
         "hovertemplate": "labels=%{label}<br>amount=%{value}<br>parent=%{parent}<br>id=%{id}<br>Segment=%{customdata[0]}<extra></extra>",
         "ids": [
          "Чемпики",
          "Нуждаются во внимании",
          "Постоянные клиенты",
          "Нельзя терять",
          "Переход в спящий режим",
          "Подвержен риску",
          "Потенциальный лоялист",
          "Перспективные клиенты",
          "Новые клиенты",
          "Собираются спать"
         ],
         "labels": [
          "Чемпики",
          "Нуждаются во внимании",
          "Постоянные клиенты",
          "Нельзя терять",
          "Переход в спящий режим",
          "Подвержен риску",
          "Потенциальный лоялист",
          "Перспективные клиенты",
          "Новые клиенты",
          "Собираются спать"
         ],
         "marker": {
          "colors": [
           "rgb(102, 197, 204)",
           "rgb(246, 207, 113)",
           "rgb(248, 156, 116)",
           "rgb(220, 176, 242)",
           "rgb(135, 197, 95)",
           "rgb(158, 185, 243)",
           "rgb(254, 136, 177)",
           "rgb(201, 219, 116)",
           "rgb(139, 224, 164)",
           "rgb(180, 151, 231)"
          ]
         },
         "name": "",
         "parents": [
          "",
          "",
          "",
          "",
          "",
          "",
          "",
          "",
          "",
          ""
         ],
         "type": "treemap",
         "values": [
          20,
          30,
          20,
          1,
          37769,
          70,
          1205,
          18375,
          18455,
          19025
         ]
        }
       ],
       "layout": {
        "legend": {
         "tracegroupgap": 0
        },
        "template": {
         "data": {
          "bar": [
           {
            "error_x": {
             "color": "#2a3f5f"
            },
            "error_y": {
             "color": "#2a3f5f"
            },
            "marker": {
             "line": {
              "color": "#E5ECF6",
              "width": 0.5
             }
            },
            "type": "bar"
           }
          ],
          "barpolar": [
           {
            "marker": {
             "line": {
              "color": "#E5ECF6",
              "width": 0.5
             }
            },
            "type": "barpolar"
           }
          ],
          "carpet": [
           {
            "aaxis": {
             "endlinecolor": "#2a3f5f",
             "gridcolor": "white",
             "linecolor": "white",
             "minorgridcolor": "white",
             "startlinecolor": "#2a3f5f"
            },
            "baxis": {
             "endlinecolor": "#2a3f5f",
             "gridcolor": "white",
             "linecolor": "white",
             "minorgridcolor": "white",
             "startlinecolor": "#2a3f5f"
            },
            "type": "carpet"
           }
          ],
          "choropleth": [
           {
            "colorbar": {
             "outlinewidth": 0,
             "ticks": ""
            },
            "type": "choropleth"
           }
          ],
          "contour": [
           {
            "colorbar": {
             "outlinewidth": 0,
             "ticks": ""
            },
            "colorscale": [
             [
              0,
              "#0d0887"
             ],
             [
              0.1111111111111111,
              "#46039f"
             ],
             [
              0.2222222222222222,
              "#7201a8"
             ],
             [
              0.3333333333333333,
              "#9c179e"
             ],
             [
              0.4444444444444444,
              "#bd3786"
             ],
             [
              0.5555555555555556,
              "#d8576b"
             ],
             [
              0.6666666666666666,
              "#ed7953"
             ],
             [
              0.7777777777777778,
              "#fb9f3a"
             ],
             [
              0.8888888888888888,
              "#fdca26"
             ],
             [
              1,
              "#f0f921"
             ]
            ],
            "type": "contour"
           }
          ],
          "contourcarpet": [
           {
            "colorbar": {
             "outlinewidth": 0,
             "ticks": ""
            },
            "type": "contourcarpet"
           }
          ],
          "heatmap": [
           {
            "colorbar": {
             "outlinewidth": 0,
             "ticks": ""
            },
            "colorscale": [
             [
              0,
              "#0d0887"
             ],
             [
              0.1111111111111111,
              "#46039f"
             ],
             [
              0.2222222222222222,
              "#7201a8"
             ],
             [
              0.3333333333333333,
              "#9c179e"
             ],
             [
              0.4444444444444444,
              "#bd3786"
             ],
             [
              0.5555555555555556,
              "#d8576b"
             ],
             [
              0.6666666666666666,
              "#ed7953"
             ],
             [
              0.7777777777777778,
              "#fb9f3a"
             ],
             [
              0.8888888888888888,
              "#fdca26"
             ],
             [
              1,
              "#f0f921"
             ]
            ],
            "type": "heatmap"
           }
          ],
          "heatmapgl": [
           {
            "colorbar": {
             "outlinewidth": 0,
             "ticks": ""
            },
            "colorscale": [
             [
              0,
              "#0d0887"
             ],
             [
              0.1111111111111111,
              "#46039f"
             ],
             [
              0.2222222222222222,
              "#7201a8"
             ],
             [
              0.3333333333333333,
              "#9c179e"
             ],
             [
              0.4444444444444444,
              "#bd3786"
             ],
             [
              0.5555555555555556,
              "#d8576b"
             ],
             [
              0.6666666666666666,
              "#ed7953"
             ],
             [
              0.7777777777777778,
              "#fb9f3a"
             ],
             [
              0.8888888888888888,
              "#fdca26"
             ],
             [
              1,
              "#f0f921"
             ]
            ],
            "type": "heatmapgl"
           }
          ],
          "histogram": [
           {
            "marker": {
             "colorbar": {
              "outlinewidth": 0,
              "ticks": ""
             }
            },
            "type": "histogram"
           }
          ],
          "histogram2d": [
           {
            "colorbar": {
             "outlinewidth": 0,
             "ticks": ""
            },
            "colorscale": [
             [
              0,
              "#0d0887"
             ],
             [
              0.1111111111111111,
              "#46039f"
             ],
             [
              0.2222222222222222,
              "#7201a8"
             ],
             [
              0.3333333333333333,
              "#9c179e"
             ],
             [
              0.4444444444444444,
              "#bd3786"
             ],
             [
              0.5555555555555556,
              "#d8576b"
             ],
             [
              0.6666666666666666,
              "#ed7953"
             ],
             [
              0.7777777777777778,
              "#fb9f3a"
             ],
             [
              0.8888888888888888,
              "#fdca26"
             ],
             [
              1,
              "#f0f921"
             ]
            ],
            "type": "histogram2d"
           }
          ],
          "histogram2dcontour": [
           {
            "colorbar": {
             "outlinewidth": 0,
             "ticks": ""
            },
            "colorscale": [
             [
              0,
              "#0d0887"
             ],
             [
              0.1111111111111111,
              "#46039f"
             ],
             [
              0.2222222222222222,
              "#7201a8"
             ],
             [
              0.3333333333333333,
              "#9c179e"
             ],
             [
              0.4444444444444444,
              "#bd3786"
             ],
             [
              0.5555555555555556,
              "#d8576b"
             ],
             [
              0.6666666666666666,
              "#ed7953"
             ],
             [
              0.7777777777777778,
              "#fb9f3a"
             ],
             [
              0.8888888888888888,
              "#fdca26"
             ],
             [
              1,
              "#f0f921"
             ]
            ],
            "type": "histogram2dcontour"
           }
          ],
          "mesh3d": [
           {
            "colorbar": {
             "outlinewidth": 0,
             "ticks": ""
            },
            "type": "mesh3d"
           }
          ],
          "parcoords": [
           {
            "line": {
             "colorbar": {
              "outlinewidth": 0,
              "ticks": ""
             }
            },
            "type": "parcoords"
           }
          ],
          "pie": [
           {
            "automargin": true,
            "type": "pie"
           }
          ],
          "scatter": [
           {
            "marker": {
             "colorbar": {
              "outlinewidth": 0,
              "ticks": ""
             }
            },
            "type": "scatter"
           }
          ],
          "scatter3d": [
           {
            "line": {
             "colorbar": {
              "outlinewidth": 0,
              "ticks": ""
             }
            },
            "marker": {
             "colorbar": {
              "outlinewidth": 0,
              "ticks": ""
             }
            },
            "type": "scatter3d"
           }
          ],
          "scattercarpet": [
           {
            "marker": {
             "colorbar": {
              "outlinewidth": 0,
              "ticks": ""
             }
            },
            "type": "scattercarpet"
           }
          ],
          "scattergeo": [
           {
            "marker": {
             "colorbar": {
              "outlinewidth": 0,
              "ticks": ""
             }
            },
            "type": "scattergeo"
           }
          ],
          "scattergl": [
           {
            "marker": {
             "colorbar": {
              "outlinewidth": 0,
              "ticks": ""
             }
            },
            "type": "scattergl"
           }
          ],
          "scattermapbox": [
           {
            "marker": {
             "colorbar": {
              "outlinewidth": 0,
              "ticks": ""
             }
            },
            "type": "scattermapbox"
           }
          ],
          "scatterpolar": [
           {
            "marker": {
             "colorbar": {
              "outlinewidth": 0,
              "ticks": ""
             }
            },
            "type": "scatterpolar"
           }
          ],
          "scatterpolargl": [
           {
            "marker": {
             "colorbar": {
              "outlinewidth": 0,
              "ticks": ""
             }
            },
            "type": "scatterpolargl"
           }
          ],
          "scatterternary": [
           {
            "marker": {
             "colorbar": {
              "outlinewidth": 0,
              "ticks": ""
             }
            },
            "type": "scatterternary"
           }
          ],
          "surface": [
           {
            "colorbar": {
             "outlinewidth": 0,
             "ticks": ""
            },
            "colorscale": [
             [
              0,
              "#0d0887"
             ],
             [
              0.1111111111111111,
              "#46039f"
             ],
             [
              0.2222222222222222,
              "#7201a8"
             ],
             [
              0.3333333333333333,
              "#9c179e"
             ],
             [
              0.4444444444444444,
              "#bd3786"
             ],
             [
              0.5555555555555556,
              "#d8576b"
             ],
             [
              0.6666666666666666,
              "#ed7953"
             ],
             [
              0.7777777777777778,
              "#fb9f3a"
             ],
             [
              0.8888888888888888,
              "#fdca26"
             ],
             [
              1,
              "#f0f921"
             ]
            ],
            "type": "surface"
           }
          ],
          "table": [
           {
            "cells": {
             "fill": {
              "color": "#EBF0F8"
             },
             "line": {
              "color": "white"
             }
            },
            "header": {
             "fill": {
              "color": "#C8D4E3"
             },
             "line": {
              "color": "white"
             }
            },
            "type": "table"
           }
          ]
         },
         "layout": {
          "annotationdefaults": {
           "arrowcolor": "#2a3f5f",
           "arrowhead": 0,
           "arrowwidth": 1
          },
          "coloraxis": {
           "colorbar": {
            "outlinewidth": 0,
            "ticks": ""
           }
          },
          "colorscale": {
           "diverging": [
            [
             0,
             "#8e0152"
            ],
            [
             0.1,
             "#c51b7d"
            ],
            [
             0.2,
             "#de77ae"
            ],
            [
             0.3,
             "#f1b6da"
            ],
            [
             0.4,
             "#fde0ef"
            ],
            [
             0.5,
             "#f7f7f7"
            ],
            [
             0.6,
             "#e6f5d0"
            ],
            [
             0.7,
             "#b8e186"
            ],
            [
             0.8,
             "#7fbc41"
            ],
            [
             0.9,
             "#4d9221"
            ],
            [
             1,
             "#276419"
            ]
           ],
           "sequential": [
            [
             0,
             "#0d0887"
            ],
            [
             0.1111111111111111,
             "#46039f"
            ],
            [
             0.2222222222222222,
             "#7201a8"
            ],
            [
             0.3333333333333333,
             "#9c179e"
            ],
            [
             0.4444444444444444,
             "#bd3786"
            ],
            [
             0.5555555555555556,
             "#d8576b"
            ],
            [
             0.6666666666666666,
             "#ed7953"
            ],
            [
             0.7777777777777778,
             "#fb9f3a"
            ],
            [
             0.8888888888888888,
             "#fdca26"
            ],
            [
             1,
             "#f0f921"
            ]
           ],
           "sequentialminus": [
            [
             0,
             "#0d0887"
            ],
            [
             0.1111111111111111,
             "#46039f"
            ],
            [
             0.2222222222222222,
             "#7201a8"
            ],
            [
             0.3333333333333333,
             "#9c179e"
            ],
            [
             0.4444444444444444,
             "#bd3786"
            ],
            [
             0.5555555555555556,
             "#d8576b"
            ],
            [
             0.6666666666666666,
             "#ed7953"
            ],
            [
             0.7777777777777778,
             "#fb9f3a"
            ],
            [
             0.8888888888888888,
             "#fdca26"
            ],
            [
             1,
             "#f0f921"
            ]
           ]
          },
          "colorway": [
           "#636efa",
           "#EF553B",
           "#00cc96",
           "#ab63fa",
           "#FFA15A",
           "#19d3f3",
           "#FF6692",
           "#B6E880",
           "#FF97FF",
           "#FECB52"
          ],
          "font": {
           "color": "#2a3f5f"
          },
          "geo": {
           "bgcolor": "white",
           "lakecolor": "white",
           "landcolor": "#E5ECF6",
           "showlakes": true,
           "showland": true,
           "subunitcolor": "white"
          },
          "hoverlabel": {
           "align": "left"
          },
          "hovermode": "closest",
          "mapbox": {
           "style": "light"
          },
          "paper_bgcolor": "white",
          "plot_bgcolor": "#E5ECF6",
          "polar": {
           "angularaxis": {
            "gridcolor": "white",
            "linecolor": "white",
            "ticks": ""
           },
           "bgcolor": "#E5ECF6",
           "radialaxis": {
            "gridcolor": "white",
            "linecolor": "white",
            "ticks": ""
           }
          },
          "scene": {
           "xaxis": {
            "backgroundcolor": "#E5ECF6",
            "gridcolor": "white",
            "gridwidth": 2,
            "linecolor": "white",
            "showbackground": true,
            "ticks": "",
            "zerolinecolor": "white"
           },
           "yaxis": {
            "backgroundcolor": "#E5ECF6",
            "gridcolor": "white",
            "gridwidth": 2,
            "linecolor": "white",
            "showbackground": true,
            "ticks": "",
            "zerolinecolor": "white"
           },
           "zaxis": {
            "backgroundcolor": "#E5ECF6",
            "gridcolor": "white",
            "gridwidth": 2,
            "linecolor": "white",
            "showbackground": true,
            "ticks": "",
            "zerolinecolor": "white"
           }
          },
          "shapedefaults": {
           "line": {
            "color": "#2a3f5f"
           }
          },
          "ternary": {
           "aaxis": {
            "gridcolor": "white",
            "linecolor": "white",
            "ticks": ""
           },
           "baxis": {
            "gridcolor": "white",
            "linecolor": "white",
            "ticks": ""
           },
           "bgcolor": "#E5ECF6",
           "caxis": {
            "gridcolor": "white",
            "linecolor": "white",
            "ticks": ""
           }
          },
          "title": {
           "x": 0.05
          },
          "xaxis": {
           "automargin": true,
           "gridcolor": "white",
           "linecolor": "white",
           "ticks": "",
           "title": {
            "standoff": 15
           },
           "zerolinecolor": "white",
           "zerolinewidth": 2
          },
          "yaxis": {
           "automargin": true,
           "gridcolor": "white",
           "linecolor": "white",
           "ticks": "",
           "title": {
            "standoff": 15
           },
           "zerolinecolor": "white",
           "zerolinewidth": 2
          }
         }
        },
        "title": {
         "text": "RFM Customer Segments by Value"
        },
        "treemapcolorway": [
         "rgb(102, 197, 204)",
         "rgb(246, 207, 113)",
         "rgb(248, 156, 116)",
         "rgb(220, 176, 242)",
         "rgb(135, 197, 95)",
         "rgb(158, 185, 243)",
         "rgb(254, 136, 177)",
         "rgb(201, 219, 116)",
         "rgb(139, 224, 164)",
         "rgb(180, 151, 231)",
         "rgb(179, 179, 179)"
        ]
       }
      },
      "text/html": [
       "<div>\n",
       "        \n",
       "        \n",
       "            <div id=\"fb4368a8-1ed8-4a9f-9b74-00062d57fff0\" class=\"plotly-graph-div\" style=\"height:525px; width:100%;\"></div>\n",
       "            <script type=\"text/javascript\">\n",
       "                require([\"plotly\"], function(Plotly) {\n",
       "                    window.PLOTLYENV=window.PLOTLYENV || {};\n",
       "                    \n",
       "                if (document.getElementById(\"fb4368a8-1ed8-4a9f-9b74-00062d57fff0\")) {\n",
       "                    Plotly.newPlot(\n",
       "                        'fb4368a8-1ed8-4a9f-9b74-00062d57fff0',\n",
       "                        [{\"branchvalues\": \"total\", \"customdata\": [[\"\\u0427\\u0435\\u043c\\u043f\\u0438\\u043a\\u0438\"], [\"\\u041d\\u0443\\u0436\\u0434\\u0430\\u044e\\u0442\\u0441\\u044f \\u0432\\u043e \\u0432\\u043d\\u0438\\u043c\\u0430\\u043d\\u0438\\u0438\"], [\"\\u041f\\u043e\\u0441\\u0442\\u043e\\u044f\\u043d\\u043d\\u044b\\u0435 \\u043a\\u043b\\u0438\\u0435\\u043d\\u0442\\u044b\"], [\"\\u041d\\u0435\\u043b\\u044c\\u0437\\u044f \\u0442\\u0435\\u0440\\u044f\\u0442\\u044c\"], [\"\\u041f\\u0435\\u0440\\u0435\\u0445\\u043e\\u0434 \\u0432 \\u0441\\u043f\\u044f\\u0449\\u0438\\u0439 \\u0440\\u0435\\u0436\\u0438\\u043c\"], [\"\\u041f\\u043e\\u0434\\u0432\\u0435\\u0440\\u0436\\u0435\\u043d \\u0440\\u0438\\u0441\\u043a\\u0443\"], [\"\\u041f\\u043e\\u0442\\u0435\\u043d\\u0446\\u0438\\u0430\\u043b\\u044c\\u043d\\u044b\\u0439 \\u043b\\u043e\\u044f\\u043b\\u0438\\u0441\\u0442\"], [\"\\u041f\\u0435\\u0440\\u0441\\u043f\\u0435\\u043a\\u0442\\u0438\\u0432\\u043d\\u044b\\u0435 \\u043a\\u043b\\u0438\\u0435\\u043d\\u0442\\u044b\"], [\"\\u041d\\u043e\\u0432\\u044b\\u0435 \\u043a\\u043b\\u0438\\u0435\\u043d\\u0442\\u044b\"], [\"\\u0421\\u043e\\u0431\\u0438\\u0440\\u0430\\u044e\\u0442\\u0441\\u044f \\u0441\\u043f\\u0430\\u0442\\u044c\"]], \"domain\": {\"x\": [0.0, 1.0], \"y\": [0.0, 1.0]}, \"hovertemplate\": \"labels=%{label}<br>amount=%{value}<br>parent=%{parent}<br>id=%{id}<br>Segment=%{customdata[0]}<extra></extra>\", \"ids\": [\"\\u0427\\u0435\\u043c\\u043f\\u0438\\u043a\\u0438\", \"\\u041d\\u0443\\u0436\\u0434\\u0430\\u044e\\u0442\\u0441\\u044f \\u0432\\u043e \\u0432\\u043d\\u0438\\u043c\\u0430\\u043d\\u0438\\u0438\", \"\\u041f\\u043e\\u0441\\u0442\\u043e\\u044f\\u043d\\u043d\\u044b\\u0435 \\u043a\\u043b\\u0438\\u0435\\u043d\\u0442\\u044b\", \"\\u041d\\u0435\\u043b\\u044c\\u0437\\u044f \\u0442\\u0435\\u0440\\u044f\\u0442\\u044c\", \"\\u041f\\u0435\\u0440\\u0435\\u0445\\u043e\\u0434 \\u0432 \\u0441\\u043f\\u044f\\u0449\\u0438\\u0439 \\u0440\\u0435\\u0436\\u0438\\u043c\", \"\\u041f\\u043e\\u0434\\u0432\\u0435\\u0440\\u0436\\u0435\\u043d \\u0440\\u0438\\u0441\\u043a\\u0443\", \"\\u041f\\u043e\\u0442\\u0435\\u043d\\u0446\\u0438\\u0430\\u043b\\u044c\\u043d\\u044b\\u0439 \\u043b\\u043e\\u044f\\u043b\\u0438\\u0441\\u0442\", \"\\u041f\\u0435\\u0440\\u0441\\u043f\\u0435\\u043a\\u0442\\u0438\\u0432\\u043d\\u044b\\u0435 \\u043a\\u043b\\u0438\\u0435\\u043d\\u0442\\u044b\", \"\\u041d\\u043e\\u0432\\u044b\\u0435 \\u043a\\u043b\\u0438\\u0435\\u043d\\u0442\\u044b\", \"\\u0421\\u043e\\u0431\\u0438\\u0440\\u0430\\u044e\\u0442\\u0441\\u044f \\u0441\\u043f\\u0430\\u0442\\u044c\"], \"labels\": [\"\\u0427\\u0435\\u043c\\u043f\\u0438\\u043a\\u0438\", \"\\u041d\\u0443\\u0436\\u0434\\u0430\\u044e\\u0442\\u0441\\u044f \\u0432\\u043e \\u0432\\u043d\\u0438\\u043c\\u0430\\u043d\\u0438\\u0438\", \"\\u041f\\u043e\\u0441\\u0442\\u043e\\u044f\\u043d\\u043d\\u044b\\u0435 \\u043a\\u043b\\u0438\\u0435\\u043d\\u0442\\u044b\", \"\\u041d\\u0435\\u043b\\u044c\\u0437\\u044f \\u0442\\u0435\\u0440\\u044f\\u0442\\u044c\", \"\\u041f\\u0435\\u0440\\u0435\\u0445\\u043e\\u0434 \\u0432 \\u0441\\u043f\\u044f\\u0449\\u0438\\u0439 \\u0440\\u0435\\u0436\\u0438\\u043c\", \"\\u041f\\u043e\\u0434\\u0432\\u0435\\u0440\\u0436\\u0435\\u043d \\u0440\\u0438\\u0441\\u043a\\u0443\", \"\\u041f\\u043e\\u0442\\u0435\\u043d\\u0446\\u0438\\u0430\\u043b\\u044c\\u043d\\u044b\\u0439 \\u043b\\u043e\\u044f\\u043b\\u0438\\u0441\\u0442\", \"\\u041f\\u0435\\u0440\\u0441\\u043f\\u0435\\u043a\\u0442\\u0438\\u0432\\u043d\\u044b\\u0435 \\u043a\\u043b\\u0438\\u0435\\u043d\\u0442\\u044b\", \"\\u041d\\u043e\\u0432\\u044b\\u0435 \\u043a\\u043b\\u0438\\u0435\\u043d\\u0442\\u044b\", \"\\u0421\\u043e\\u0431\\u0438\\u0440\\u0430\\u044e\\u0442\\u0441\\u044f \\u0441\\u043f\\u0430\\u0442\\u044c\"], \"marker\": {\"colors\": [\"rgb(102, 197, 204)\", \"rgb(246, 207, 113)\", \"rgb(248, 156, 116)\", \"rgb(220, 176, 242)\", \"rgb(135, 197, 95)\", \"rgb(158, 185, 243)\", \"rgb(254, 136, 177)\", \"rgb(201, 219, 116)\", \"rgb(139, 224, 164)\", \"rgb(180, 151, 231)\"]}, \"name\": \"\", \"parents\": [\"\", \"\", \"\", \"\", \"\", \"\", \"\", \"\", \"\", \"\"], \"type\": \"treemap\", \"values\": [20, 30, 20, 1, 37769, 70, 1205, 18375, 18455, 19025]}],\n",
       "                        {\"legend\": {\"tracegroupgap\": 0}, \"template\": {\"data\": {\"bar\": [{\"error_x\": {\"color\": \"#2a3f5f\"}, \"error_y\": {\"color\": \"#2a3f5f\"}, \"marker\": {\"line\": {\"color\": \"#E5ECF6\", \"width\": 0.5}}, \"type\": \"bar\"}], \"barpolar\": [{\"marker\": {\"line\": {\"color\": \"#E5ECF6\", \"width\": 0.5}}, \"type\": \"barpolar\"}], \"carpet\": [{\"aaxis\": {\"endlinecolor\": \"#2a3f5f\", \"gridcolor\": \"white\", \"linecolor\": \"white\", \"minorgridcolor\": \"white\", \"startlinecolor\": \"#2a3f5f\"}, \"baxis\": {\"endlinecolor\": \"#2a3f5f\", \"gridcolor\": \"white\", \"linecolor\": \"white\", \"minorgridcolor\": \"white\", \"startlinecolor\": \"#2a3f5f\"}, \"type\": \"carpet\"}], \"choropleth\": [{\"colorbar\": {\"outlinewidth\": 0, \"ticks\": \"\"}, \"type\": \"choropleth\"}], \"contour\": [{\"colorbar\": {\"outlinewidth\": 0, \"ticks\": \"\"}, \"colorscale\": [[0.0, \"#0d0887\"], [0.1111111111111111, \"#46039f\"], [0.2222222222222222, \"#7201a8\"], [0.3333333333333333, \"#9c179e\"], [0.4444444444444444, \"#bd3786\"], [0.5555555555555556, \"#d8576b\"], [0.6666666666666666, \"#ed7953\"], [0.7777777777777778, \"#fb9f3a\"], [0.8888888888888888, \"#fdca26\"], [1.0, \"#f0f921\"]], \"type\": \"contour\"}], \"contourcarpet\": [{\"colorbar\": {\"outlinewidth\": 0, \"ticks\": \"\"}, \"type\": \"contourcarpet\"}], \"heatmap\": [{\"colorbar\": {\"outlinewidth\": 0, \"ticks\": \"\"}, \"colorscale\": [[0.0, \"#0d0887\"], [0.1111111111111111, \"#46039f\"], [0.2222222222222222, \"#7201a8\"], [0.3333333333333333, \"#9c179e\"], [0.4444444444444444, \"#bd3786\"], [0.5555555555555556, \"#d8576b\"], [0.6666666666666666, \"#ed7953\"], [0.7777777777777778, \"#fb9f3a\"], [0.8888888888888888, \"#fdca26\"], [1.0, \"#f0f921\"]], \"type\": \"heatmap\"}], \"heatmapgl\": [{\"colorbar\": {\"outlinewidth\": 0, \"ticks\": \"\"}, \"colorscale\": [[0.0, \"#0d0887\"], [0.1111111111111111, \"#46039f\"], [0.2222222222222222, \"#7201a8\"], [0.3333333333333333, \"#9c179e\"], [0.4444444444444444, \"#bd3786\"], [0.5555555555555556, \"#d8576b\"], [0.6666666666666666, \"#ed7953\"], [0.7777777777777778, \"#fb9f3a\"], [0.8888888888888888, \"#fdca26\"], [1.0, \"#f0f921\"]], \"type\": \"heatmapgl\"}], \"histogram\": [{\"marker\": {\"colorbar\": {\"outlinewidth\": 0, \"ticks\": \"\"}}, \"type\": \"histogram\"}], \"histogram2d\": [{\"colorbar\": {\"outlinewidth\": 0, \"ticks\": \"\"}, \"colorscale\": [[0.0, \"#0d0887\"], [0.1111111111111111, \"#46039f\"], [0.2222222222222222, \"#7201a8\"], [0.3333333333333333, \"#9c179e\"], [0.4444444444444444, \"#bd3786\"], [0.5555555555555556, \"#d8576b\"], [0.6666666666666666, \"#ed7953\"], [0.7777777777777778, \"#fb9f3a\"], [0.8888888888888888, \"#fdca26\"], [1.0, \"#f0f921\"]], \"type\": \"histogram2d\"}], \"histogram2dcontour\": [{\"colorbar\": {\"outlinewidth\": 0, \"ticks\": \"\"}, \"colorscale\": [[0.0, \"#0d0887\"], [0.1111111111111111, \"#46039f\"], [0.2222222222222222, \"#7201a8\"], [0.3333333333333333, \"#9c179e\"], [0.4444444444444444, \"#bd3786\"], [0.5555555555555556, \"#d8576b\"], [0.6666666666666666, \"#ed7953\"], [0.7777777777777778, \"#fb9f3a\"], [0.8888888888888888, \"#fdca26\"], [1.0, \"#f0f921\"]], \"type\": \"histogram2dcontour\"}], \"mesh3d\": [{\"colorbar\": {\"outlinewidth\": 0, \"ticks\": \"\"}, \"type\": \"mesh3d\"}], \"parcoords\": [{\"line\": {\"colorbar\": {\"outlinewidth\": 0, \"ticks\": \"\"}}, \"type\": \"parcoords\"}], \"pie\": [{\"automargin\": true, \"type\": \"pie\"}], \"scatter\": [{\"marker\": {\"colorbar\": {\"outlinewidth\": 0, \"ticks\": \"\"}}, \"type\": \"scatter\"}], \"scatter3d\": [{\"line\": {\"colorbar\": {\"outlinewidth\": 0, \"ticks\": \"\"}}, \"marker\": {\"colorbar\": {\"outlinewidth\": 0, \"ticks\": \"\"}}, \"type\": \"scatter3d\"}], \"scattercarpet\": [{\"marker\": {\"colorbar\": {\"outlinewidth\": 0, \"ticks\": \"\"}}, \"type\": \"scattercarpet\"}], \"scattergeo\": [{\"marker\": {\"colorbar\": {\"outlinewidth\": 0, \"ticks\": \"\"}}, \"type\": \"scattergeo\"}], \"scattergl\": [{\"marker\": {\"colorbar\": {\"outlinewidth\": 0, \"ticks\": \"\"}}, \"type\": \"scattergl\"}], \"scattermapbox\": [{\"marker\": {\"colorbar\": {\"outlinewidth\": 0, \"ticks\": \"\"}}, \"type\": \"scattermapbox\"}], \"scatterpolar\": [{\"marker\": {\"colorbar\": {\"outlinewidth\": 0, \"ticks\": \"\"}}, \"type\": \"scatterpolar\"}], \"scatterpolargl\": [{\"marker\": {\"colorbar\": {\"outlinewidth\": 0, \"ticks\": \"\"}}, \"type\": \"scatterpolargl\"}], \"scatterternary\": [{\"marker\": {\"colorbar\": {\"outlinewidth\": 0, \"ticks\": \"\"}}, \"type\": \"scatterternary\"}], \"surface\": [{\"colorbar\": {\"outlinewidth\": 0, \"ticks\": \"\"}, \"colorscale\": [[0.0, \"#0d0887\"], [0.1111111111111111, \"#46039f\"], [0.2222222222222222, \"#7201a8\"], [0.3333333333333333, \"#9c179e\"], [0.4444444444444444, \"#bd3786\"], [0.5555555555555556, \"#d8576b\"], [0.6666666666666666, \"#ed7953\"], [0.7777777777777778, \"#fb9f3a\"], [0.8888888888888888, \"#fdca26\"], [1.0, \"#f0f921\"]], \"type\": \"surface\"}], \"table\": [{\"cells\": {\"fill\": {\"color\": \"#EBF0F8\"}, \"line\": {\"color\": \"white\"}}, \"header\": {\"fill\": {\"color\": \"#C8D4E3\"}, \"line\": {\"color\": \"white\"}}, \"type\": \"table\"}]}, \"layout\": {\"annotationdefaults\": {\"arrowcolor\": \"#2a3f5f\", \"arrowhead\": 0, \"arrowwidth\": 1}, \"coloraxis\": {\"colorbar\": {\"outlinewidth\": 0, \"ticks\": \"\"}}, \"colorscale\": {\"diverging\": [[0, \"#8e0152\"], [0.1, \"#c51b7d\"], [0.2, \"#de77ae\"], [0.3, \"#f1b6da\"], [0.4, \"#fde0ef\"], [0.5, \"#f7f7f7\"], [0.6, \"#e6f5d0\"], [0.7, \"#b8e186\"], [0.8, \"#7fbc41\"], [0.9, \"#4d9221\"], [1, \"#276419\"]], \"sequential\": [[0.0, \"#0d0887\"], [0.1111111111111111, \"#46039f\"], [0.2222222222222222, \"#7201a8\"], [0.3333333333333333, \"#9c179e\"], [0.4444444444444444, \"#bd3786\"], [0.5555555555555556, \"#d8576b\"], [0.6666666666666666, \"#ed7953\"], [0.7777777777777778, \"#fb9f3a\"], [0.8888888888888888, \"#fdca26\"], [1.0, \"#f0f921\"]], \"sequentialminus\": [[0.0, \"#0d0887\"], [0.1111111111111111, \"#46039f\"], [0.2222222222222222, \"#7201a8\"], [0.3333333333333333, \"#9c179e\"], [0.4444444444444444, \"#bd3786\"], [0.5555555555555556, \"#d8576b\"], [0.6666666666666666, \"#ed7953\"], [0.7777777777777778, \"#fb9f3a\"], [0.8888888888888888, \"#fdca26\"], [1.0, \"#f0f921\"]]}, \"colorway\": [\"#636efa\", \"#EF553B\", \"#00cc96\", \"#ab63fa\", \"#FFA15A\", \"#19d3f3\", \"#FF6692\", \"#B6E880\", \"#FF97FF\", \"#FECB52\"], \"font\": {\"color\": \"#2a3f5f\"}, \"geo\": {\"bgcolor\": \"white\", \"lakecolor\": \"white\", \"landcolor\": \"#E5ECF6\", \"showlakes\": true, \"showland\": true, \"subunitcolor\": \"white\"}, \"hoverlabel\": {\"align\": \"left\"}, \"hovermode\": \"closest\", \"mapbox\": {\"style\": \"light\"}, \"paper_bgcolor\": \"white\", \"plot_bgcolor\": \"#E5ECF6\", \"polar\": {\"angularaxis\": {\"gridcolor\": \"white\", \"linecolor\": \"white\", \"ticks\": \"\"}, \"bgcolor\": \"#E5ECF6\", \"radialaxis\": {\"gridcolor\": \"white\", \"linecolor\": \"white\", \"ticks\": \"\"}}, \"scene\": {\"xaxis\": {\"backgroundcolor\": \"#E5ECF6\", \"gridcolor\": \"white\", \"gridwidth\": 2, \"linecolor\": \"white\", \"showbackground\": true, \"ticks\": \"\", \"zerolinecolor\": \"white\"}, \"yaxis\": {\"backgroundcolor\": \"#E5ECF6\", \"gridcolor\": \"white\", \"gridwidth\": 2, \"linecolor\": \"white\", \"showbackground\": true, \"ticks\": \"\", \"zerolinecolor\": \"white\"}, \"zaxis\": {\"backgroundcolor\": \"#E5ECF6\", \"gridcolor\": \"white\", \"gridwidth\": 2, \"linecolor\": \"white\", \"showbackground\": true, \"ticks\": \"\", \"zerolinecolor\": \"white\"}}, \"shapedefaults\": {\"line\": {\"color\": \"#2a3f5f\"}}, \"ternary\": {\"aaxis\": {\"gridcolor\": \"white\", \"linecolor\": \"white\", \"ticks\": \"\"}, \"baxis\": {\"gridcolor\": \"white\", \"linecolor\": \"white\", \"ticks\": \"\"}, \"bgcolor\": \"#E5ECF6\", \"caxis\": {\"gridcolor\": \"white\", \"linecolor\": \"white\", \"ticks\": \"\"}}, \"title\": {\"x\": 0.05}, \"xaxis\": {\"automargin\": true, \"gridcolor\": \"white\", \"linecolor\": \"white\", \"ticks\": \"\", \"title\": {\"standoff\": 15}, \"zerolinecolor\": \"white\", \"zerolinewidth\": 2}, \"yaxis\": {\"automargin\": true, \"gridcolor\": \"white\", \"linecolor\": \"white\", \"ticks\": \"\", \"title\": {\"standoff\": 15}, \"zerolinecolor\": \"white\", \"zerolinewidth\": 2}}}, \"title\": {\"text\": \"RFM Customer Segments by Value\"}, \"treemapcolorway\": [\"rgb(102, 197, 204)\", \"rgb(246, 207, 113)\", \"rgb(248, 156, 116)\", \"rgb(220, 176, 242)\", \"rgb(135, 197, 95)\", \"rgb(158, 185, 243)\", \"rgb(254, 136, 177)\", \"rgb(201, 219, 116)\", \"rgb(139, 224, 164)\", \"rgb(180, 151, 231)\", \"rgb(179, 179, 179)\"]},\n",
       "                        {\"responsive\": true}\n",
       "                    ).then(function(){\n",
       "                            \n",
       "var gd = document.getElementById('fb4368a8-1ed8-4a9f-9b74-00062d57fff0');\n",
       "var x = new MutationObserver(function (mutations, observer) {{\n",
       "        var display = window.getComputedStyle(gd).display;\n",
       "        if (!display || display === 'none') {{\n",
       "            console.log([gd, 'removed!']);\n",
       "            Plotly.purge(gd);\n",
       "            observer.disconnect();\n",
       "        }}\n",
       "}});\n",
       "\n",
       "// Listen for the removal of the full notebook cells\n",
       "var notebookContainer = gd.closest('#notebook-container');\n",
       "if (notebookContainer) {{\n",
       "    x.observe(notebookContainer, {childList: true});\n",
       "}}\n",
       "\n",
       "// Listen for the clearing of the current output cell\n",
       "var outputEl = gd.closest('.output');\n",
       "if (outputEl) {{\n",
       "    x.observe(outputEl, {childList: true});\n",
       "}}\n",
       "\n",
       "                        })\n",
       "                };\n",
       "                });\n",
       "            </script>\n",
       "        </div>"
      ]
     },
     "metadata": {},
     "output_type": "display_data"
    }
   ],
   "source": [
    "#Количество клиентов в каждом сегменте(визуализация с помощью treemap)\n",
    "#График построил, опираясь на официальную документацию plotly\n",
    "#Знаю, что графики plotly не будут отображаться в GitLab, но без них как-то совсем скучно\n",
    "segment_counts = rfm_df.groupby('Segment')['Segment']\\\n",
    "    .count()\\\n",
    "    .to_frame()\\\n",
    "    .rename(columns = {'Segment' : 'amount'})\\\n",
    "    .sort_values(\"amount\", ascending = False)\\\n",
    "    .reset_index()\n",
    "\n",
    "fig_treemap_segment_product = px.treemap(segment_counts,\n",
    "                                         path=['Segment'],\n",
    "                                         values='amount',\n",
    "                                         color='Segment',\n",
    "                                         color_discrete_sequence=px.colors.qualitative.Pastel,\n",
    "                                         title='RFM Customer Segments by Value')\n",
    "fig_treemap_segment_product.show()"
   ]
  },
  {
   "cell_type": "code",
   "execution_count": 111,
   "metadata": {},
   "outputs": [
    {
     "data": {
      "application/vnd.plotly.v1+json": {
       "config": {
        "plotlyServerURL": "https://plot.ly"
       },
       "data": [
        {
         "branchvalues": "total",
         "customdata": [
          [
           "Чемпики"
          ],
          [
           "Нуждаются во внимании"
          ],
          [
           "Собираются спать"
          ],
          [
           "Нельзя терять"
          ],
          [
           "Новые клиенты"
          ],
          [
           "Подвержен риску"
          ],
          [
           "Потенциальный лоялист"
          ],
          [
           "Перспективные клиенты"
          ],
          [
           "Переход в спящий режим"
          ],
          [
           "Постоянные клиенты"
          ]
         ],
         "domain": {
          "x": [
           0,
           1
          ],
          "y": [
           0,
           1
          ]
         },
         "hovertemplate": "labels=%{label}<br>revenue=%{value}<br>parent=%{parent}<br>id=%{id}<br>Segment=%{customdata[0]}<extra></extra>",
         "ids": [
          "Чемпики",
          "Нуждаются во внимании",
          "Собираются спать",
          "Нельзя терять",
          "Новые клиенты",
          "Подвержен риску",
          "Потенциальный лоялист",
          "Перспективные клиенты",
          "Переход в спящий режим",
          "Постоянные клиенты"
         ],
         "labels": [
          "Чемпики",
          "Нуждаются во внимании",
          "Собираются спать",
          "Нельзя терять",
          "Новые клиенты",
          "Подвержен риску",
          "Потенциальный лоялист",
          "Перспективные клиенты",
          "Переход в спящий режим",
          "Постоянные клиенты"
         ],
         "marker": {
          "colors": [
           "rgb(102, 197, 204)",
           "rgb(246, 207, 113)",
           "rgb(248, 156, 116)",
           "rgb(220, 176, 242)",
           "rgb(135, 197, 95)",
           "rgb(158, 185, 243)",
           "rgb(254, 136, 177)",
           "rgb(201, 219, 116)",
           "rgb(139, 224, 164)",
           "rgb(180, 151, 231)"
          ]
         },
         "name": "",
         "parents": [
          "",
          "",
          "",
          "",
          "",
          "",
          "",
          "",
          "",
          ""
         ],
         "type": "treemap",
         "values": [
          16586.35,
          11402.1,
          2552874.779999793,
          58.4,
          2566496.659999832,
          24874.710000000003,
          309628.99999999953,
          2614527.699999826,
          5384347.24000133,
          11933.37
         ]
        }
       ],
       "layout": {
        "legend": {
         "tracegroupgap": 0
        },
        "template": {
         "data": {
          "bar": [
           {
            "error_x": {
             "color": "#2a3f5f"
            },
            "error_y": {
             "color": "#2a3f5f"
            },
            "marker": {
             "line": {
              "color": "#E5ECF6",
              "width": 0.5
             }
            },
            "type": "bar"
           }
          ],
          "barpolar": [
           {
            "marker": {
             "line": {
              "color": "#E5ECF6",
              "width": 0.5
             }
            },
            "type": "barpolar"
           }
          ],
          "carpet": [
           {
            "aaxis": {
             "endlinecolor": "#2a3f5f",
             "gridcolor": "white",
             "linecolor": "white",
             "minorgridcolor": "white",
             "startlinecolor": "#2a3f5f"
            },
            "baxis": {
             "endlinecolor": "#2a3f5f",
             "gridcolor": "white",
             "linecolor": "white",
             "minorgridcolor": "white",
             "startlinecolor": "#2a3f5f"
            },
            "type": "carpet"
           }
          ],
          "choropleth": [
           {
            "colorbar": {
             "outlinewidth": 0,
             "ticks": ""
            },
            "type": "choropleth"
           }
          ],
          "contour": [
           {
            "colorbar": {
             "outlinewidth": 0,
             "ticks": ""
            },
            "colorscale": [
             [
              0,
              "#0d0887"
             ],
             [
              0.1111111111111111,
              "#46039f"
             ],
             [
              0.2222222222222222,
              "#7201a8"
             ],
             [
              0.3333333333333333,
              "#9c179e"
             ],
             [
              0.4444444444444444,
              "#bd3786"
             ],
             [
              0.5555555555555556,
              "#d8576b"
             ],
             [
              0.6666666666666666,
              "#ed7953"
             ],
             [
              0.7777777777777778,
              "#fb9f3a"
             ],
             [
              0.8888888888888888,
              "#fdca26"
             ],
             [
              1,
              "#f0f921"
             ]
            ],
            "type": "contour"
           }
          ],
          "contourcarpet": [
           {
            "colorbar": {
             "outlinewidth": 0,
             "ticks": ""
            },
            "type": "contourcarpet"
           }
          ],
          "heatmap": [
           {
            "colorbar": {
             "outlinewidth": 0,
             "ticks": ""
            },
            "colorscale": [
             [
              0,
              "#0d0887"
             ],
             [
              0.1111111111111111,
              "#46039f"
             ],
             [
              0.2222222222222222,
              "#7201a8"
             ],
             [
              0.3333333333333333,
              "#9c179e"
             ],
             [
              0.4444444444444444,
              "#bd3786"
             ],
             [
              0.5555555555555556,
              "#d8576b"
             ],
             [
              0.6666666666666666,
              "#ed7953"
             ],
             [
              0.7777777777777778,
              "#fb9f3a"
             ],
             [
              0.8888888888888888,
              "#fdca26"
             ],
             [
              1,
              "#f0f921"
             ]
            ],
            "type": "heatmap"
           }
          ],
          "heatmapgl": [
           {
            "colorbar": {
             "outlinewidth": 0,
             "ticks": ""
            },
            "colorscale": [
             [
              0,
              "#0d0887"
             ],
             [
              0.1111111111111111,
              "#46039f"
             ],
             [
              0.2222222222222222,
              "#7201a8"
             ],
             [
              0.3333333333333333,
              "#9c179e"
             ],
             [
              0.4444444444444444,
              "#bd3786"
             ],
             [
              0.5555555555555556,
              "#d8576b"
             ],
             [
              0.6666666666666666,
              "#ed7953"
             ],
             [
              0.7777777777777778,
              "#fb9f3a"
             ],
             [
              0.8888888888888888,
              "#fdca26"
             ],
             [
              1,
              "#f0f921"
             ]
            ],
            "type": "heatmapgl"
           }
          ],
          "histogram": [
           {
            "marker": {
             "colorbar": {
              "outlinewidth": 0,
              "ticks": ""
             }
            },
            "type": "histogram"
           }
          ],
          "histogram2d": [
           {
            "colorbar": {
             "outlinewidth": 0,
             "ticks": ""
            },
            "colorscale": [
             [
              0,
              "#0d0887"
             ],
             [
              0.1111111111111111,
              "#46039f"
             ],
             [
              0.2222222222222222,
              "#7201a8"
             ],
             [
              0.3333333333333333,
              "#9c179e"
             ],
             [
              0.4444444444444444,
              "#bd3786"
             ],
             [
              0.5555555555555556,
              "#d8576b"
             ],
             [
              0.6666666666666666,
              "#ed7953"
             ],
             [
              0.7777777777777778,
              "#fb9f3a"
             ],
             [
              0.8888888888888888,
              "#fdca26"
             ],
             [
              1,
              "#f0f921"
             ]
            ],
            "type": "histogram2d"
           }
          ],
          "histogram2dcontour": [
           {
            "colorbar": {
             "outlinewidth": 0,
             "ticks": ""
            },
            "colorscale": [
             [
              0,
              "#0d0887"
             ],
             [
              0.1111111111111111,
              "#46039f"
             ],
             [
              0.2222222222222222,
              "#7201a8"
             ],
             [
              0.3333333333333333,
              "#9c179e"
             ],
             [
              0.4444444444444444,
              "#bd3786"
             ],
             [
              0.5555555555555556,
              "#d8576b"
             ],
             [
              0.6666666666666666,
              "#ed7953"
             ],
             [
              0.7777777777777778,
              "#fb9f3a"
             ],
             [
              0.8888888888888888,
              "#fdca26"
             ],
             [
              1,
              "#f0f921"
             ]
            ],
            "type": "histogram2dcontour"
           }
          ],
          "mesh3d": [
           {
            "colorbar": {
             "outlinewidth": 0,
             "ticks": ""
            },
            "type": "mesh3d"
           }
          ],
          "parcoords": [
           {
            "line": {
             "colorbar": {
              "outlinewidth": 0,
              "ticks": ""
             }
            },
            "type": "parcoords"
           }
          ],
          "pie": [
           {
            "automargin": true,
            "type": "pie"
           }
          ],
          "scatter": [
           {
            "marker": {
             "colorbar": {
              "outlinewidth": 0,
              "ticks": ""
             }
            },
            "type": "scatter"
           }
          ],
          "scatter3d": [
           {
            "line": {
             "colorbar": {
              "outlinewidth": 0,
              "ticks": ""
             }
            },
            "marker": {
             "colorbar": {
              "outlinewidth": 0,
              "ticks": ""
             }
            },
            "type": "scatter3d"
           }
          ],
          "scattercarpet": [
           {
            "marker": {
             "colorbar": {
              "outlinewidth": 0,
              "ticks": ""
             }
            },
            "type": "scattercarpet"
           }
          ],
          "scattergeo": [
           {
            "marker": {
             "colorbar": {
              "outlinewidth": 0,
              "ticks": ""
             }
            },
            "type": "scattergeo"
           }
          ],
          "scattergl": [
           {
            "marker": {
             "colorbar": {
              "outlinewidth": 0,
              "ticks": ""
             }
            },
            "type": "scattergl"
           }
          ],
          "scattermapbox": [
           {
            "marker": {
             "colorbar": {
              "outlinewidth": 0,
              "ticks": ""
             }
            },
            "type": "scattermapbox"
           }
          ],
          "scatterpolar": [
           {
            "marker": {
             "colorbar": {
              "outlinewidth": 0,
              "ticks": ""
             }
            },
            "type": "scatterpolar"
           }
          ],
          "scatterpolargl": [
           {
            "marker": {
             "colorbar": {
              "outlinewidth": 0,
              "ticks": ""
             }
            },
            "type": "scatterpolargl"
           }
          ],
          "scatterternary": [
           {
            "marker": {
             "colorbar": {
              "outlinewidth": 0,
              "ticks": ""
             }
            },
            "type": "scatterternary"
           }
          ],
          "surface": [
           {
            "colorbar": {
             "outlinewidth": 0,
             "ticks": ""
            },
            "colorscale": [
             [
              0,
              "#0d0887"
             ],
             [
              0.1111111111111111,
              "#46039f"
             ],
             [
              0.2222222222222222,
              "#7201a8"
             ],
             [
              0.3333333333333333,
              "#9c179e"
             ],
             [
              0.4444444444444444,
              "#bd3786"
             ],
             [
              0.5555555555555556,
              "#d8576b"
             ],
             [
              0.6666666666666666,
              "#ed7953"
             ],
             [
              0.7777777777777778,
              "#fb9f3a"
             ],
             [
              0.8888888888888888,
              "#fdca26"
             ],
             [
              1,
              "#f0f921"
             ]
            ],
            "type": "surface"
           }
          ],
          "table": [
           {
            "cells": {
             "fill": {
              "color": "#EBF0F8"
             },
             "line": {
              "color": "white"
             }
            },
            "header": {
             "fill": {
              "color": "#C8D4E3"
             },
             "line": {
              "color": "white"
             }
            },
            "type": "table"
           }
          ]
         },
         "layout": {
          "annotationdefaults": {
           "arrowcolor": "#2a3f5f",
           "arrowhead": 0,
           "arrowwidth": 1
          },
          "coloraxis": {
           "colorbar": {
            "outlinewidth": 0,
            "ticks": ""
           }
          },
          "colorscale": {
           "diverging": [
            [
             0,
             "#8e0152"
            ],
            [
             0.1,
             "#c51b7d"
            ],
            [
             0.2,
             "#de77ae"
            ],
            [
             0.3,
             "#f1b6da"
            ],
            [
             0.4,
             "#fde0ef"
            ],
            [
             0.5,
             "#f7f7f7"
            ],
            [
             0.6,
             "#e6f5d0"
            ],
            [
             0.7,
             "#b8e186"
            ],
            [
             0.8,
             "#7fbc41"
            ],
            [
             0.9,
             "#4d9221"
            ],
            [
             1,
             "#276419"
            ]
           ],
           "sequential": [
            [
             0,
             "#0d0887"
            ],
            [
             0.1111111111111111,
             "#46039f"
            ],
            [
             0.2222222222222222,
             "#7201a8"
            ],
            [
             0.3333333333333333,
             "#9c179e"
            ],
            [
             0.4444444444444444,
             "#bd3786"
            ],
            [
             0.5555555555555556,
             "#d8576b"
            ],
            [
             0.6666666666666666,
             "#ed7953"
            ],
            [
             0.7777777777777778,
             "#fb9f3a"
            ],
            [
             0.8888888888888888,
             "#fdca26"
            ],
            [
             1,
             "#f0f921"
            ]
           ],
           "sequentialminus": [
            [
             0,
             "#0d0887"
            ],
            [
             0.1111111111111111,
             "#46039f"
            ],
            [
             0.2222222222222222,
             "#7201a8"
            ],
            [
             0.3333333333333333,
             "#9c179e"
            ],
            [
             0.4444444444444444,
             "#bd3786"
            ],
            [
             0.5555555555555556,
             "#d8576b"
            ],
            [
             0.6666666666666666,
             "#ed7953"
            ],
            [
             0.7777777777777778,
             "#fb9f3a"
            ],
            [
             0.8888888888888888,
             "#fdca26"
            ],
            [
             1,
             "#f0f921"
            ]
           ]
          },
          "colorway": [
           "#636efa",
           "#EF553B",
           "#00cc96",
           "#ab63fa",
           "#FFA15A",
           "#19d3f3",
           "#FF6692",
           "#B6E880",
           "#FF97FF",
           "#FECB52"
          ],
          "font": {
           "color": "#2a3f5f"
          },
          "geo": {
           "bgcolor": "white",
           "lakecolor": "white",
           "landcolor": "#E5ECF6",
           "showlakes": true,
           "showland": true,
           "subunitcolor": "white"
          },
          "hoverlabel": {
           "align": "left"
          },
          "hovermode": "closest",
          "mapbox": {
           "style": "light"
          },
          "paper_bgcolor": "white",
          "plot_bgcolor": "#E5ECF6",
          "polar": {
           "angularaxis": {
            "gridcolor": "white",
            "linecolor": "white",
            "ticks": ""
           },
           "bgcolor": "#E5ECF6",
           "radialaxis": {
            "gridcolor": "white",
            "linecolor": "white",
            "ticks": ""
           }
          },
          "scene": {
           "xaxis": {
            "backgroundcolor": "#E5ECF6",
            "gridcolor": "white",
            "gridwidth": 2,
            "linecolor": "white",
            "showbackground": true,
            "ticks": "",
            "zerolinecolor": "white"
           },
           "yaxis": {
            "backgroundcolor": "#E5ECF6",
            "gridcolor": "white",
            "gridwidth": 2,
            "linecolor": "white",
            "showbackground": true,
            "ticks": "",
            "zerolinecolor": "white"
           },
           "zaxis": {
            "backgroundcolor": "#E5ECF6",
            "gridcolor": "white",
            "gridwidth": 2,
            "linecolor": "white",
            "showbackground": true,
            "ticks": "",
            "zerolinecolor": "white"
           }
          },
          "shapedefaults": {
           "line": {
            "color": "#2a3f5f"
           }
          },
          "ternary": {
           "aaxis": {
            "gridcolor": "white",
            "linecolor": "white",
            "ticks": ""
           },
           "baxis": {
            "gridcolor": "white",
            "linecolor": "white",
            "ticks": ""
           },
           "bgcolor": "#E5ECF6",
           "caxis": {
            "gridcolor": "white",
            "linecolor": "white",
            "ticks": ""
           }
          },
          "title": {
           "x": 0.05
          },
          "xaxis": {
           "automargin": true,
           "gridcolor": "white",
           "linecolor": "white",
           "ticks": "",
           "title": {
            "standoff": 15
           },
           "zerolinecolor": "white",
           "zerolinewidth": 2
          },
          "yaxis": {
           "automargin": true,
           "gridcolor": "white",
           "linecolor": "white",
           "ticks": "",
           "title": {
            "standoff": 15
           },
           "zerolinecolor": "white",
           "zerolinewidth": 2
          }
         }
        },
        "title": {
         "text": "RFM Customer Segments by Value"
        },
        "treemapcolorway": [
         "rgb(102, 197, 204)",
         "rgb(246, 207, 113)",
         "rgb(248, 156, 116)",
         "rgb(220, 176, 242)",
         "rgb(135, 197, 95)",
         "rgb(158, 185, 243)",
         "rgb(254, 136, 177)",
         "rgb(201, 219, 116)",
         "rgb(139, 224, 164)",
         "rgb(180, 151, 231)",
         "rgb(179, 179, 179)"
        ]
       }
      },
      "text/html": [
       "<div>\n",
       "        \n",
       "        \n",
       "            <div id=\"350d10c3-00fc-4706-ae92-d9b6055d1222\" class=\"plotly-graph-div\" style=\"height:525px; width:100%;\"></div>\n",
       "            <script type=\"text/javascript\">\n",
       "                require([\"plotly\"], function(Plotly) {\n",
       "                    window.PLOTLYENV=window.PLOTLYENV || {};\n",
       "                    \n",
       "                if (document.getElementById(\"350d10c3-00fc-4706-ae92-d9b6055d1222\")) {\n",
       "                    Plotly.newPlot(\n",
       "                        '350d10c3-00fc-4706-ae92-d9b6055d1222',\n",
       "                        [{\"branchvalues\": \"total\", \"customdata\": [[\"\\u0427\\u0435\\u043c\\u043f\\u0438\\u043a\\u0438\"], [\"\\u041d\\u0443\\u0436\\u0434\\u0430\\u044e\\u0442\\u0441\\u044f \\u0432\\u043e \\u0432\\u043d\\u0438\\u043c\\u0430\\u043d\\u0438\\u0438\"], [\"\\u0421\\u043e\\u0431\\u0438\\u0440\\u0430\\u044e\\u0442\\u0441\\u044f \\u0441\\u043f\\u0430\\u0442\\u044c\"], [\"\\u041d\\u0435\\u043b\\u044c\\u0437\\u044f \\u0442\\u0435\\u0440\\u044f\\u0442\\u044c\"], [\"\\u041d\\u043e\\u0432\\u044b\\u0435 \\u043a\\u043b\\u0438\\u0435\\u043d\\u0442\\u044b\"], [\"\\u041f\\u043e\\u0434\\u0432\\u0435\\u0440\\u0436\\u0435\\u043d \\u0440\\u0438\\u0441\\u043a\\u0443\"], [\"\\u041f\\u043e\\u0442\\u0435\\u043d\\u0446\\u0438\\u0430\\u043b\\u044c\\u043d\\u044b\\u0439 \\u043b\\u043e\\u044f\\u043b\\u0438\\u0441\\u0442\"], [\"\\u041f\\u0435\\u0440\\u0441\\u043f\\u0435\\u043a\\u0442\\u0438\\u0432\\u043d\\u044b\\u0435 \\u043a\\u043b\\u0438\\u0435\\u043d\\u0442\\u044b\"], [\"\\u041f\\u0435\\u0440\\u0435\\u0445\\u043e\\u0434 \\u0432 \\u0441\\u043f\\u044f\\u0449\\u0438\\u0439 \\u0440\\u0435\\u0436\\u0438\\u043c\"], [\"\\u041f\\u043e\\u0441\\u0442\\u043e\\u044f\\u043d\\u043d\\u044b\\u0435 \\u043a\\u043b\\u0438\\u0435\\u043d\\u0442\\u044b\"]], \"domain\": {\"x\": [0.0, 1.0], \"y\": [0.0, 1.0]}, \"hovertemplate\": \"labels=%{label}<br>revenue=%{value}<br>parent=%{parent}<br>id=%{id}<br>Segment=%{customdata[0]}<extra></extra>\", \"ids\": [\"\\u0427\\u0435\\u043c\\u043f\\u0438\\u043a\\u0438\", \"\\u041d\\u0443\\u0436\\u0434\\u0430\\u044e\\u0442\\u0441\\u044f \\u0432\\u043e \\u0432\\u043d\\u0438\\u043c\\u0430\\u043d\\u0438\\u0438\", \"\\u0421\\u043e\\u0431\\u0438\\u0440\\u0430\\u044e\\u0442\\u0441\\u044f \\u0441\\u043f\\u0430\\u0442\\u044c\", \"\\u041d\\u0435\\u043b\\u044c\\u0437\\u044f \\u0442\\u0435\\u0440\\u044f\\u0442\\u044c\", \"\\u041d\\u043e\\u0432\\u044b\\u0435 \\u043a\\u043b\\u0438\\u0435\\u043d\\u0442\\u044b\", \"\\u041f\\u043e\\u0434\\u0432\\u0435\\u0440\\u0436\\u0435\\u043d \\u0440\\u0438\\u0441\\u043a\\u0443\", \"\\u041f\\u043e\\u0442\\u0435\\u043d\\u0446\\u0438\\u0430\\u043b\\u044c\\u043d\\u044b\\u0439 \\u043b\\u043e\\u044f\\u043b\\u0438\\u0441\\u0442\", \"\\u041f\\u0435\\u0440\\u0441\\u043f\\u0435\\u043a\\u0442\\u0438\\u0432\\u043d\\u044b\\u0435 \\u043a\\u043b\\u0438\\u0435\\u043d\\u0442\\u044b\", \"\\u041f\\u0435\\u0440\\u0435\\u0445\\u043e\\u0434 \\u0432 \\u0441\\u043f\\u044f\\u0449\\u0438\\u0439 \\u0440\\u0435\\u0436\\u0438\\u043c\", \"\\u041f\\u043e\\u0441\\u0442\\u043e\\u044f\\u043d\\u043d\\u044b\\u0435 \\u043a\\u043b\\u0438\\u0435\\u043d\\u0442\\u044b\"], \"labels\": [\"\\u0427\\u0435\\u043c\\u043f\\u0438\\u043a\\u0438\", \"\\u041d\\u0443\\u0436\\u0434\\u0430\\u044e\\u0442\\u0441\\u044f \\u0432\\u043e \\u0432\\u043d\\u0438\\u043c\\u0430\\u043d\\u0438\\u0438\", \"\\u0421\\u043e\\u0431\\u0438\\u0440\\u0430\\u044e\\u0442\\u0441\\u044f \\u0441\\u043f\\u0430\\u0442\\u044c\", \"\\u041d\\u0435\\u043b\\u044c\\u0437\\u044f \\u0442\\u0435\\u0440\\u044f\\u0442\\u044c\", \"\\u041d\\u043e\\u0432\\u044b\\u0435 \\u043a\\u043b\\u0438\\u0435\\u043d\\u0442\\u044b\", \"\\u041f\\u043e\\u0434\\u0432\\u0435\\u0440\\u0436\\u0435\\u043d \\u0440\\u0438\\u0441\\u043a\\u0443\", \"\\u041f\\u043e\\u0442\\u0435\\u043d\\u0446\\u0438\\u0430\\u043b\\u044c\\u043d\\u044b\\u0439 \\u043b\\u043e\\u044f\\u043b\\u0438\\u0441\\u0442\", \"\\u041f\\u0435\\u0440\\u0441\\u043f\\u0435\\u043a\\u0442\\u0438\\u0432\\u043d\\u044b\\u0435 \\u043a\\u043b\\u0438\\u0435\\u043d\\u0442\\u044b\", \"\\u041f\\u0435\\u0440\\u0435\\u0445\\u043e\\u0434 \\u0432 \\u0441\\u043f\\u044f\\u0449\\u0438\\u0439 \\u0440\\u0435\\u0436\\u0438\\u043c\", \"\\u041f\\u043e\\u0441\\u0442\\u043e\\u044f\\u043d\\u043d\\u044b\\u0435 \\u043a\\u043b\\u0438\\u0435\\u043d\\u0442\\u044b\"], \"marker\": {\"colors\": [\"rgb(102, 197, 204)\", \"rgb(246, 207, 113)\", \"rgb(248, 156, 116)\", \"rgb(220, 176, 242)\", \"rgb(135, 197, 95)\", \"rgb(158, 185, 243)\", \"rgb(254, 136, 177)\", \"rgb(201, 219, 116)\", \"rgb(139, 224, 164)\", \"rgb(180, 151, 231)\"]}, \"name\": \"\", \"parents\": [\"\", \"\", \"\", \"\", \"\", \"\", \"\", \"\", \"\", \"\"], \"type\": \"treemap\", \"values\": [16586.35, 11402.1, 2552874.779999793, 58.4, 2566496.659999832, 24874.710000000003, 309628.99999999953, 2614527.699999826, 5384347.24000133, 11933.37]}],\n",
       "                        {\"legend\": {\"tracegroupgap\": 0}, \"template\": {\"data\": {\"bar\": [{\"error_x\": {\"color\": \"#2a3f5f\"}, \"error_y\": {\"color\": \"#2a3f5f\"}, \"marker\": {\"line\": {\"color\": \"#E5ECF6\", \"width\": 0.5}}, \"type\": \"bar\"}], \"barpolar\": [{\"marker\": {\"line\": {\"color\": \"#E5ECF6\", \"width\": 0.5}}, \"type\": \"barpolar\"}], \"carpet\": [{\"aaxis\": {\"endlinecolor\": \"#2a3f5f\", \"gridcolor\": \"white\", \"linecolor\": \"white\", \"minorgridcolor\": \"white\", \"startlinecolor\": \"#2a3f5f\"}, \"baxis\": {\"endlinecolor\": \"#2a3f5f\", \"gridcolor\": \"white\", \"linecolor\": \"white\", \"minorgridcolor\": \"white\", \"startlinecolor\": \"#2a3f5f\"}, \"type\": \"carpet\"}], \"choropleth\": [{\"colorbar\": {\"outlinewidth\": 0, \"ticks\": \"\"}, \"type\": \"choropleth\"}], \"contour\": [{\"colorbar\": {\"outlinewidth\": 0, \"ticks\": \"\"}, \"colorscale\": [[0.0, \"#0d0887\"], [0.1111111111111111, \"#46039f\"], [0.2222222222222222, \"#7201a8\"], [0.3333333333333333, \"#9c179e\"], [0.4444444444444444, \"#bd3786\"], [0.5555555555555556, \"#d8576b\"], [0.6666666666666666, \"#ed7953\"], [0.7777777777777778, \"#fb9f3a\"], [0.8888888888888888, \"#fdca26\"], [1.0, \"#f0f921\"]], \"type\": \"contour\"}], \"contourcarpet\": [{\"colorbar\": {\"outlinewidth\": 0, \"ticks\": \"\"}, \"type\": \"contourcarpet\"}], \"heatmap\": [{\"colorbar\": {\"outlinewidth\": 0, \"ticks\": \"\"}, \"colorscale\": [[0.0, \"#0d0887\"], [0.1111111111111111, \"#46039f\"], [0.2222222222222222, \"#7201a8\"], [0.3333333333333333, \"#9c179e\"], [0.4444444444444444, \"#bd3786\"], [0.5555555555555556, \"#d8576b\"], [0.6666666666666666, \"#ed7953\"], [0.7777777777777778, \"#fb9f3a\"], [0.8888888888888888, \"#fdca26\"], [1.0, \"#f0f921\"]], \"type\": \"heatmap\"}], \"heatmapgl\": [{\"colorbar\": {\"outlinewidth\": 0, \"ticks\": \"\"}, \"colorscale\": [[0.0, \"#0d0887\"], [0.1111111111111111, \"#46039f\"], [0.2222222222222222, \"#7201a8\"], [0.3333333333333333, \"#9c179e\"], [0.4444444444444444, \"#bd3786\"], [0.5555555555555556, \"#d8576b\"], [0.6666666666666666, \"#ed7953\"], [0.7777777777777778, \"#fb9f3a\"], [0.8888888888888888, \"#fdca26\"], [1.0, \"#f0f921\"]], \"type\": \"heatmapgl\"}], \"histogram\": [{\"marker\": {\"colorbar\": {\"outlinewidth\": 0, \"ticks\": \"\"}}, \"type\": \"histogram\"}], \"histogram2d\": [{\"colorbar\": {\"outlinewidth\": 0, \"ticks\": \"\"}, \"colorscale\": [[0.0, \"#0d0887\"], [0.1111111111111111, \"#46039f\"], [0.2222222222222222, \"#7201a8\"], [0.3333333333333333, \"#9c179e\"], [0.4444444444444444, \"#bd3786\"], [0.5555555555555556, \"#d8576b\"], [0.6666666666666666, \"#ed7953\"], [0.7777777777777778, \"#fb9f3a\"], [0.8888888888888888, \"#fdca26\"], [1.0, \"#f0f921\"]], \"type\": \"histogram2d\"}], \"histogram2dcontour\": [{\"colorbar\": {\"outlinewidth\": 0, \"ticks\": \"\"}, \"colorscale\": [[0.0, \"#0d0887\"], [0.1111111111111111, \"#46039f\"], [0.2222222222222222, \"#7201a8\"], [0.3333333333333333, \"#9c179e\"], [0.4444444444444444, \"#bd3786\"], [0.5555555555555556, \"#d8576b\"], [0.6666666666666666, \"#ed7953\"], [0.7777777777777778, \"#fb9f3a\"], [0.8888888888888888, \"#fdca26\"], [1.0, \"#f0f921\"]], \"type\": \"histogram2dcontour\"}], \"mesh3d\": [{\"colorbar\": {\"outlinewidth\": 0, \"ticks\": \"\"}, \"type\": \"mesh3d\"}], \"parcoords\": [{\"line\": {\"colorbar\": {\"outlinewidth\": 0, \"ticks\": \"\"}}, \"type\": \"parcoords\"}], \"pie\": [{\"automargin\": true, \"type\": \"pie\"}], \"scatter\": [{\"marker\": {\"colorbar\": {\"outlinewidth\": 0, \"ticks\": \"\"}}, \"type\": \"scatter\"}], \"scatter3d\": [{\"line\": {\"colorbar\": {\"outlinewidth\": 0, \"ticks\": \"\"}}, \"marker\": {\"colorbar\": {\"outlinewidth\": 0, \"ticks\": \"\"}}, \"type\": \"scatter3d\"}], \"scattercarpet\": [{\"marker\": {\"colorbar\": {\"outlinewidth\": 0, \"ticks\": \"\"}}, \"type\": \"scattercarpet\"}], \"scattergeo\": [{\"marker\": {\"colorbar\": {\"outlinewidth\": 0, \"ticks\": \"\"}}, \"type\": \"scattergeo\"}], \"scattergl\": [{\"marker\": {\"colorbar\": {\"outlinewidth\": 0, \"ticks\": \"\"}}, \"type\": \"scattergl\"}], \"scattermapbox\": [{\"marker\": {\"colorbar\": {\"outlinewidth\": 0, \"ticks\": \"\"}}, \"type\": \"scattermapbox\"}], \"scatterpolar\": [{\"marker\": {\"colorbar\": {\"outlinewidth\": 0, \"ticks\": \"\"}}, \"type\": \"scatterpolar\"}], \"scatterpolargl\": [{\"marker\": {\"colorbar\": {\"outlinewidth\": 0, \"ticks\": \"\"}}, \"type\": \"scatterpolargl\"}], \"scatterternary\": [{\"marker\": {\"colorbar\": {\"outlinewidth\": 0, \"ticks\": \"\"}}, \"type\": \"scatterternary\"}], \"surface\": [{\"colorbar\": {\"outlinewidth\": 0, \"ticks\": \"\"}, \"colorscale\": [[0.0, \"#0d0887\"], [0.1111111111111111, \"#46039f\"], [0.2222222222222222, \"#7201a8\"], [0.3333333333333333, \"#9c179e\"], [0.4444444444444444, \"#bd3786\"], [0.5555555555555556, \"#d8576b\"], [0.6666666666666666, \"#ed7953\"], [0.7777777777777778, \"#fb9f3a\"], [0.8888888888888888, \"#fdca26\"], [1.0, \"#f0f921\"]], \"type\": \"surface\"}], \"table\": [{\"cells\": {\"fill\": {\"color\": \"#EBF0F8\"}, \"line\": {\"color\": \"white\"}}, \"header\": {\"fill\": {\"color\": \"#C8D4E3\"}, \"line\": {\"color\": \"white\"}}, \"type\": \"table\"}]}, \"layout\": {\"annotationdefaults\": {\"arrowcolor\": \"#2a3f5f\", \"arrowhead\": 0, \"arrowwidth\": 1}, \"coloraxis\": {\"colorbar\": {\"outlinewidth\": 0, \"ticks\": \"\"}}, \"colorscale\": {\"diverging\": [[0, \"#8e0152\"], [0.1, \"#c51b7d\"], [0.2, \"#de77ae\"], [0.3, \"#f1b6da\"], [0.4, \"#fde0ef\"], [0.5, \"#f7f7f7\"], [0.6, \"#e6f5d0\"], [0.7, \"#b8e186\"], [0.8, \"#7fbc41\"], [0.9, \"#4d9221\"], [1, \"#276419\"]], \"sequential\": [[0.0, \"#0d0887\"], [0.1111111111111111, \"#46039f\"], [0.2222222222222222, \"#7201a8\"], [0.3333333333333333, \"#9c179e\"], [0.4444444444444444, \"#bd3786\"], [0.5555555555555556, \"#d8576b\"], [0.6666666666666666, \"#ed7953\"], [0.7777777777777778, \"#fb9f3a\"], [0.8888888888888888, \"#fdca26\"], [1.0, \"#f0f921\"]], \"sequentialminus\": [[0.0, \"#0d0887\"], [0.1111111111111111, \"#46039f\"], [0.2222222222222222, \"#7201a8\"], [0.3333333333333333, \"#9c179e\"], [0.4444444444444444, \"#bd3786\"], [0.5555555555555556, \"#d8576b\"], [0.6666666666666666, \"#ed7953\"], [0.7777777777777778, \"#fb9f3a\"], [0.8888888888888888, \"#fdca26\"], [1.0, \"#f0f921\"]]}, \"colorway\": [\"#636efa\", \"#EF553B\", \"#00cc96\", \"#ab63fa\", \"#FFA15A\", \"#19d3f3\", \"#FF6692\", \"#B6E880\", \"#FF97FF\", \"#FECB52\"], \"font\": {\"color\": \"#2a3f5f\"}, \"geo\": {\"bgcolor\": \"white\", \"lakecolor\": \"white\", \"landcolor\": \"#E5ECF6\", \"showlakes\": true, \"showland\": true, \"subunitcolor\": \"white\"}, \"hoverlabel\": {\"align\": \"left\"}, \"hovermode\": \"closest\", \"mapbox\": {\"style\": \"light\"}, \"paper_bgcolor\": \"white\", \"plot_bgcolor\": \"#E5ECF6\", \"polar\": {\"angularaxis\": {\"gridcolor\": \"white\", \"linecolor\": \"white\", \"ticks\": \"\"}, \"bgcolor\": \"#E5ECF6\", \"radialaxis\": {\"gridcolor\": \"white\", \"linecolor\": \"white\", \"ticks\": \"\"}}, \"scene\": {\"xaxis\": {\"backgroundcolor\": \"#E5ECF6\", \"gridcolor\": \"white\", \"gridwidth\": 2, \"linecolor\": \"white\", \"showbackground\": true, \"ticks\": \"\", \"zerolinecolor\": \"white\"}, \"yaxis\": {\"backgroundcolor\": \"#E5ECF6\", \"gridcolor\": \"white\", \"gridwidth\": 2, \"linecolor\": \"white\", \"showbackground\": true, \"ticks\": \"\", \"zerolinecolor\": \"white\"}, \"zaxis\": {\"backgroundcolor\": \"#E5ECF6\", \"gridcolor\": \"white\", \"gridwidth\": 2, \"linecolor\": \"white\", \"showbackground\": true, \"ticks\": \"\", \"zerolinecolor\": \"white\"}}, \"shapedefaults\": {\"line\": {\"color\": \"#2a3f5f\"}}, \"ternary\": {\"aaxis\": {\"gridcolor\": \"white\", \"linecolor\": \"white\", \"ticks\": \"\"}, \"baxis\": {\"gridcolor\": \"white\", \"linecolor\": \"white\", \"ticks\": \"\"}, \"bgcolor\": \"#E5ECF6\", \"caxis\": {\"gridcolor\": \"white\", \"linecolor\": \"white\", \"ticks\": \"\"}}, \"title\": {\"x\": 0.05}, \"xaxis\": {\"automargin\": true, \"gridcolor\": \"white\", \"linecolor\": \"white\", \"ticks\": \"\", \"title\": {\"standoff\": 15}, \"zerolinecolor\": \"white\", \"zerolinewidth\": 2}, \"yaxis\": {\"automargin\": true, \"gridcolor\": \"white\", \"linecolor\": \"white\", \"ticks\": \"\", \"title\": {\"standoff\": 15}, \"zerolinecolor\": \"white\", \"zerolinewidth\": 2}}}, \"title\": {\"text\": \"RFM Customer Segments by Value\"}, \"treemapcolorway\": [\"rgb(102, 197, 204)\", \"rgb(246, 207, 113)\", \"rgb(248, 156, 116)\", \"rgb(220, 176, 242)\", \"rgb(135, 197, 95)\", \"rgb(158, 185, 243)\", \"rgb(254, 136, 177)\", \"rgb(201, 219, 116)\", \"rgb(139, 224, 164)\", \"rgb(180, 151, 231)\", \"rgb(179, 179, 179)\"]},\n",
       "                        {\"responsive\": true}\n",
       "                    ).then(function(){\n",
       "                            \n",
       "var gd = document.getElementById('350d10c3-00fc-4706-ae92-d9b6055d1222');\n",
       "var x = new MutationObserver(function (mutations, observer) {{\n",
       "        var display = window.getComputedStyle(gd).display;\n",
       "        if (!display || display === 'none') {{\n",
       "            console.log([gd, 'removed!']);\n",
       "            Plotly.purge(gd);\n",
       "            observer.disconnect();\n",
       "        }}\n",
       "}});\n",
       "\n",
       "// Listen for the removal of the full notebook cells\n",
       "var notebookContainer = gd.closest('#notebook-container');\n",
       "if (notebookContainer) {{\n",
       "    x.observe(notebookContainer, {childList: true});\n",
       "}}\n",
       "\n",
       "// Listen for the clearing of the current output cell\n",
       "var outputEl = gd.closest('.output');\n",
       "if (outputEl) {{\n",
       "    x.observe(outputEl, {childList: true});\n",
       "}}\n",
       "\n",
       "                        })\n",
       "                };\n",
       "                });\n",
       "            </script>\n",
       "        </div>"
      ]
     },
     "metadata": {},
     "output_type": "display_data"
    }
   ],
   "source": [
    "#Сегментация клиентов по выручке, которую они принесли\n",
    "segment_counts = rfm_df.groupby('Segment').agg({'Monetary': 'sum'}) \\\n",
    "    .rename(columns={'Monetary': 'revenue'}) \\\n",
    "    .sort_values(\"revenue\", ascending=False) \\\n",
    "    .reset_index()\n",
    "\n",
    "fig_treemap_segment_product = px.treemap(segment_counts,\n",
    "                                         path=['Segment'],\n",
    "                                         values='revenue',\n",
    "                                         color='Segment',\n",
    "                                         color_discrete_sequence=px.colors.qualitative.Pastel,\n",
    "                                         title='RFM Customer Segments by Value')\n",
    "fig_treemap_segment_product.show()"
   ]
  },
  {
   "cell_type": "markdown",
   "metadata": {},
   "source": [
    "\n",
    "Итак, подведем небольшой итог по RFM-анализу:\n",
    "\n",
    "1. Порядка 40% всех клиентов относятся к сегменту **\"Переход в спящий режим\"**. Как следует из методологических указаний, такие клиенты, как правило, не возвращаются. Однако можно попробовать отправить им реактивационную рассылку(акции, инетерсные предложения), и если клиент не чиатет рассылку в течение установленного нами срока, то можно удалить его из базы данных. Важно отметить, что клиенты данного сегмента принесли бизнесу наибольшую вырочку, однако, учитывая специфику их покупательского поведения, скорее всего это были разовые покупки со сравнительно небольшими тратами;\n",
    "\n",
    "\n",
    "2. 20% нашей клиентской базы - это клиенты, которые относятся к сегменту **\"Собираются спать\"**. Фактически, это клиенты, которые наиболее подвержены риску ухода. Данный сегмент для нас является придпочтительнее, чем **\"Переход в спящий режим\"**. Наша задача - как можно активнее делиться с ними полезной информацией, предлагать популярные товары. Необходимо предалагать скидки и промокоды, чтобы позволить им покупать больше. Данный сегмент также приносит нашему магазину довольно неплохую выручку.(4 место по выручке среди всех сегментов)\n",
    "\n",
    "\n",
    "3. **\"Новые клиенты\"** составляют порядка 19,4% от общего числа клиентов. Наша задача - это условно создать четкое понимание нашего бренда у клиента. При работе с данным сегментом мы должны показать преимущество по сравнению с конкурентами. Предположительно, мы можем дать скидки на первую/вторую крупную трату или же с определенной регулярностью предлагать выгодные промокоды. **\"Новые клиенты\"** находятся на третьем месте по объему выруки за всё время сущетвования интернет-магазина. \n",
    "\n",
    "\n",
    "4. Сегмент **Перспективные клиенты** составляют 19,3% от общего числа клиентов. Как праивло, это клиенты, которые купили товар недавно, но на небольшую сумму. Этот сегмент не зря называется \"перспективный\", а следовательно к ним нужен особый подход для того, чтобы заинетерсовать их. Наша задача -  увеличить средний чек, предлагать более дорогие товары из ассортимента. Следует сделать наибольший акцент на данный сегмент, так как по принесенной выручке он идет вторым после \"Переход в спящий режим\".\n",
    "\n",
    "\n",
    "5. Следующие по спику идут **\"Потенциальные лоялисты\"**, составив 1,3% от общего числа клиентов. Для данного сегмента мы можем предлагать более дорогие позиции. Данный сегмент, как и **\"Постоянных клиентов\"** стоит регулярно спрашивать их мнение о покупках, чтобы вовремя понять, что что-то пошло не так. \n",
    "\n",
    "\n",
    "6. Далее у нас идут сегменты, где число покупателей составило < 70 человек, однако не стоит про них забывать, ведь именно среди них находятся самые преданные покупатели - **\"Чемпики\"**. Эксперты рекомендуют не предлагать им акции и скидки, а выделить их среди большинства другими методами. К примеру, можно предложить им доступ к новым товарам, которых ещё нет в продаже. Это не только повысит лояльность, но и поможет собрать качественную обратную связь перед массовым запуском нового продукта(мк примеру, фокус-группа). \n",
    "\n",
    "\n",
    "7. Сегмент **\"Подвержен риску\"** составляет всего  0,1% от всего числа клиентов интернет-магазина, однако не стоит про них забывать, ведь ранее они тратили довольно много. В данном случае оптимальной стратегией будет являться налаживание контакта. В силу того, что количество людей в данном сегменте сравнительно небольшое, мы бы могли отправить персонализированные имейлы с целью возобновления связи. Мы должны сделать так, чтобы клиент почуствовал необходимость в нашем продукте. \n",
    "\n",
    "\n",
    "8. Сегмент **\"Нуждаются во внимании\"** составляют всего 30 человек, но и про них ни в коем случае нельзя забывать. Наша задача - пробудить в них интерес. Эксперты рекомендуют предлагать ограниченные по времени офферы, а также предлагать им офферы на основе прошлых покупок.\n",
    "\n",
    "\n",
    "9. Сегмент **\"Постоянные клиенты\"** также относится к малочисленным. Стратегия в случае данного сегмента схожа с сегментов **\"Потенциальные лоялисты\"**. Нам следует предлагать им более дорогие позиции, можем попросить их оставить отзывы.\n"
   ]
  }
 ],
 "metadata": {
  "kernelspec": {
   "display_name": "Python 3",
   "language": "python",
   "name": "python3"
  },
  "language_info": {
   "codemirror_mode": {
    "name": "ipython",
    "version": 3
   },
   "file_extension": ".py",
   "mimetype": "text/x-python",
   "name": "python",
   "nbconvert_exporter": "python",
   "pygments_lexer": "ipython3",
   "version": "3.7.3"
  }
 },
 "nbformat": 4,
 "nbformat_minor": 4
}
